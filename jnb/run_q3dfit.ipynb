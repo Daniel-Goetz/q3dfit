{
 "cells": [
  {
   "cell_type": "markdown",
   "metadata": {},
   "source": [
    "# q3dfit example notebook: rest frame optical, Gemini+GMOS data of PG1411+442"
   ]
  },
  {
   "cell_type": "markdown",
   "metadata": {},
   "source": [
    "<h3><font color='teal'>Installation of the environment and the package are described <a href=\"https://q3dfit.readthedocs.io/\">here</a>. </font></h3>"
   ]
  },
  {
   "cell_type": "markdown",
   "metadata": {},
   "source": [
    "This Jupyter notebook allows you to run Q3Dfit, a PSF decomposition and spectral analysis package tailored for JWST NIRSpec and MIRI IFU observations. \n",
    "\n",
    "Q3Dfit is developed as a science-enabling data product by the Early Release Science Team #1335 Q3D. You can find more information about this ERS program **Q3D** [here](https://wwwstaff.ari.uni-heidelberg.de/dwylezalek/q3d.html) and [here](https://www.stsci.edu/jwst/science-execution/approved-programs/dd-ers/program-1335).\n",
    "\n",
    "The software is based on the existing package IFSFIT developed by Dave Rupke (see [ADS link](https://ui.adsabs.harvard.edu/abs/2017ApJ...850...40R/abstract)).\n",
    "\n",
    "The following notebook will guide you through the initialization procedure and will then perform the analysis. "
   ]
  },
  {
   "cell_type": "markdown",
   "metadata": {},
   "source": [
    "## Table of Contents\n",
    "\n",
    "* [1. Initialization](#chapter1)\n",
    "    * [1.0. Setting up the directory tree](#chapter1_0)\n",
    "    * [1.1. Setting up the data and models](#chapter1_1)\n",
    "    * [1.2. Setting up the fitting parameters](#chapter1_2)\n",
    "        * [1.2.1. Emission line parameters](#chapter1_2_1)\n",
    "        * [1.2.2. Continuum parameters](#chapter1_2_2)\n",
    "    * [1.3. Setting up the plotting parameters](#chapter1_3)\n",
    "* [2. Run fitting and plotting routines](#chapter2)"
   ]
  },
  {
   "cell_type": "markdown",
   "metadata": {},
   "source": [
    "## 1. Initialization <a class=\"anchor\" id=\"chapter1\"></a>"
   ]
  },
  {
   "cell_type": "code",
   "execution_count": 1,
   "metadata": {},
   "outputs": [],
   "source": [
    "import os.path\n",
    "import numpy as np\n",
    "%matplotlib inline\n",
    "# unless you are running this python notebook from the directory where q3dfit is installed, you need to point the\n",
    "# path to the package in order to import it. \n",
    "#import sys\n",
    "#sys.path.append('')\n",
    "import sys\n",
    "sys.path.append(\"../\")"
   ]
  },
  {
   "cell_type": "code",
   "execution_count": 2,
   "metadata": {},
   "outputs": [],
   "source": [
    "# Be sure to set the path to q3dfit correctly.\n",
    "# For instance:\n",
    "#import sys\n",
    "#sys.path.append('/Users/jwstuser/q3dfit/')\n",
    "import sys\n",
    "sys.path.append(\"../\")"
   ]
  },
  {
   "cell_type": "code",
   "execution_count": 3,
   "metadata": {},
   "outputs": [],
   "source": [
    "# Convenience function\n",
    "# Ref: https://github.com/spacetelescope/jwebbinar_prep/blob/main/imaging_mode/imaging_mode_stage_1.ipynb\n",
    "from astropy.utils.data import download_file\n",
    "def download_files(files, output_directory, force=False):\n",
    "    \"\"\"Given a tuple or list of tuples containing (URL, filename),\n",
    "    download the given files into the current working directory.\n",
    "    Downloading is done via astropy's download_file. A symbolic link\n",
    "    is created in the specified output dirctory that points to the\n",
    "    downloaded file.\n",
    "    \n",
    "    Parameters\n",
    "    ----------\n",
    "    files : tuple or list of tuples\n",
    "        Each 2-tuple should contain (URL, filename), where\n",
    "        URL is the URL from which to download the file, and\n",
    "        filename will be the name of the symlink pointing to\n",
    "        the downloaded file.\n",
    "        \n",
    "    output_directory : str\n",
    "        Name of the directory in which to create the symbolic\n",
    "        links to the downloaded files\n",
    "        \n",
    "    force : bool\n",
    "        If True, the file will be downloaded regarless of whether\n",
    "        it is already present or not.\n",
    "                \n",
    "    Returns\n",
    "    -------\n",
    "    filenames : list\n",
    "        List of filenames corresponding to the symbolic links\n",
    "        of the downloaded files\n",
    "    \"\"\"\n",
    "    # In the case of a single input tuple, make it a\n",
    "    # 1 element list, for consistency.\n",
    "    filenames = []\n",
    "    if isinstance(files, tuple):\n",
    "        files = [files]\n",
    "        \n",
    "    for file in files:\n",
    "        filenames.append(file[1])\n",
    "        if force:\n",
    "            print('Downloading {}...'.format(file[1]))\n",
    "            demo_file = download_file(file[0], cache='update')\n",
    "            # Make a symbolic link using a local name for convenience\n",
    "            if not os.path.islink(os.path.join(output_directory, file[1])):\n",
    "                os.symlink(demo_file, os.path.join(output_directory, file[1]))\n",
    "        else:\n",
    "            if not os.path.isfile(os.path.join(output_directory, file[1])):\n",
    "                print('Downloading {}...'.format(file[1]))\n",
    "                demo_file = download_file(file[0], cache=True)\n",
    "                # Make a symbolic link using a local name for convenience\n",
    "                os.symlink(demo_file, os.path.join(output_directory, file[1]))\n",
    "            else:\n",
    "                print('{} already exists, skipping download...'.format(file[1]))\n",
    "                continue\n",
    "    return filenames"
   ]
  },
  {
   "cell_type": "markdown",
   "metadata": {},
   "source": [
    "### 1.0. Setting up the directory tree <a class=\"anchor\" id=\"chapter1_0\"></a>\n",
    "\n",
    "Define the directories in which the data cube(s) that you want to analyse are stored and the output directories. We recommend creating a working directory that you name after your target, in which all outputs from q3dfit will be saved. Then download test data."
   ]
  },
  {
   "cell_type": "code",
   "execution_count": 4,
   "metadata": {},
   "outputs": [],
   "source": [
    "# Base directory (book-keeping)\n",
    "volume = 'pg1411/'\n",
    "# prefix label for output files\n",
    "gal = 'pg1411'\n",
    "# Input directory\n",
    "indir = volume\n",
    "if not os.path.exists(indir):\n",
    "    os.makedirs(indir)\n",
    "# Output directory\n",
    "outdir = volume\n",
    "if not os.path.exists(outdir):\n",
    "    os.makedirs(outdir)\n",
    "# Initialization file (q3di.npy) directory\n",
    "initdir = volume\n",
    "# Output logfile\n",
    "logfile = outdir+gal+'-fitlog.txt'"
   ]
  },
  {
   "cell_type": "markdown",
   "metadata": {},
   "source": [
    "Download data from public Box folder:"
   ]
  },
  {
   "cell_type": "code",
   "execution_count": 5,
   "metadata": {},
   "outputs": [
    {
     "name": "stdout",
     "output_type": "stream",
     "text": [
      "pg1411-gmos-rebin.fits already exists, skipping download...\n",
      "pg1411-gmos.fits already exists, skipping download...\n",
      "pg1411-stellar-model.npy already exists, skipping download...\n"
     ]
    }
   ],
   "source": [
    "# make tuples of urls and download filenames\n",
    "# infile = 3x3 (spatially) binned data cube\n",
    "# qsotempfits = unbinned data cube; use central spaxel as QSO spectral template\n",
    "# stellartemplates = stellar host galaxy model, derived using method in Rupke et al. 2017\n",
    "infile_tup=('https://rhodes.box.com/shared/static/d5d9smfhxk8douhdoy0id9tqu7ujccgg.fits','pg1411-gmos-rebin.fits')\n",
    "qsotempfits_tup=('https://rhodes.box.com/shared/static/torucoo1uq8npouc7moi060rzuja26wz.fits','pg1411-gmos.fits')\n",
    "stellartemplates_tup=('https://rhodes.box.com/shared/static/3l5q91aqxwo8l42z88btd0fl988gbhd4.npy','pg1411-stellar-model.npy')\n",
    "# download files; by default don't force overwrite and take first element of output\n",
    "infile = download_files(infile_tup, indir, force=False)[0]\n",
    "qsotempfits = download_files(qsotempfits_tup, indir, force=False)[0]\n",
    "stellartemplates = download_files(stellartemplates_tup, indir, force=False)[0]\n",
    "# add subdirectory to filenames\n",
    "infile = indir+infile\n",
    "qsotempfits = indir+qsotempfits\n",
    "stellartemplates=indir+stellartemplates"
   ]
  },
  {
   "cell_type": "markdown",
   "metadata": {},
   "source": [
    "### 1.1. Setting up the data and models <a class=\"anchor\" id=\"chapter1_1\"></a>\n",
    "\n",
    "Some general information about your cube. `argsreadcube` is a dictionary of attributes sent to the `CUBE` class.\n",
    "- For non-JWST data, set `wmapext` to `None`. The WMAP extension is a [3-D weight image](https://jwst-pipeline.readthedocs.io/en/latest/jwst/data_products/science_products.html) giving the relative weights of the output spaxels.\n",
    "- Microns are the wavelength unit used internally, but `q3dfit` can accept other wavelength input units or output other units.\n",
    "- The code does calculations in flambda space, but assumes input units of MJy/sr, the JWST default. Other input wavelength units can be specified."
   ]
  },
  {
   "cell_type": "code",
   "execution_count": 6,
   "metadata": {},
   "outputs": [
    {
     "name": "stdout",
     "output_type": "stream",
     "text": [
      "Cube: Negative values encountered in variance array. Taking absolute value.\n",
      "Size of data cube: [ 17 , 26 , 6195 ]\n",
      "Wavelength range: [ 0.4613744810000001 , 0.7484831048000001 ]  micron\n"
     ]
    }
   ],
   "source": [
    "from q3dfit.readcube import Cube\n",
    "argsreadcube = {'wmapext': None,\n",
    "                'waveunit_in': 'Angstrom',\n",
    "                'fluxunit_in': 'erg/s/cm2/Angstrom',\n",
    "                'fluxnorm': 1e4}\n",
    "\n",
    "if not os.path.isfile(infile): \n",
    "    print('Data cube not found.')\n",
    "else:\n",
    "    cube = Cube(infile, **argsreadcube)\n",
    "    ncols = cube.ncols # number of columns\n",
    "    nrows = cube.nrows # number of rows\n",
    "    cube.about()"
   ]
  },
  {
   "cell_type": "markdown",
   "metadata": {},
   "source": [
    "Name and systemic redshift of the galaxy. `zsys` is presently not used within the code, but would be an input for, e.g., calculating velocity maps in routines under development (e.g., `makemaps.py`). It is used in this notebook in initializing the arrays of initial guesses below."
   ]
  },
  {
   "cell_type": "code",
   "execution_count": 7,
   "metadata": {},
   "outputs": [],
   "source": [
    "name = 'PG1411+442'\n",
    "zsys = 0.0898"
   ]
  },
  {
   "cell_type": "markdown",
   "metadata": {},
   "source": [
    "Wavelength range over which to fit data. The user can also specify sets of regions to ignore in the fit."
   ]
  },
  {
   "cell_type": "code",
   "execution_count": 8,
   "metadata": {},
   "outputs": [],
   "source": [
    "fitrange = [0.4620,0.7450] #in um\n",
    "cutrange = np.array([0.6410, 0.6430])"
   ]
  },
  {
   "cell_type": "markdown",
   "metadata": {},
   "source": [
    "Create quasar template from the central spaxel of the spatially-unbinned data cube."
   ]
  },
  {
   "cell_type": "code",
   "execution_count": 9,
   "metadata": {},
   "outputs": [
    {
     "data": {
      "image/png": "[encoded data removed]",
      "text/plain": [
       "<Figure size 432x288 with 1 Axes>"
      ]
     },
     "metadata": {
      "needs_background": "light"
     },
     "output_type": "display_data"
    }
   ],
   "source": [
    "qsotemplate = outdir+'pg1411-qsotemplate.npy'\n",
    "cube.makeqsotemplate(qsotemplate)"
   ]
  },
  {
   "cell_type": "markdown",
   "metadata": {},
   "source": [
    "### 1.2. Setting up the fitting parameters <a class=\"anchor\" id=\"chapter1_2\"></a>"
   ]
  },
  {
   "cell_type": "markdown",
   "metadata": {},
   "source": [
    "#### 1.2.1. Emission-line parameters <a class=\"anchor\" id=\"chapter1_2_1\"></a>"
   ]
  },
  {
   "cell_type": "markdown",
   "metadata": {},
   "source": [
    "What lines do you want to fit? You can choose from the linelists available [here](https://github.com/Q3D/q3dfit/tree/main/data/linelists), or in `q3dfit/data/linelists/`. By default the code assumes vacuum wavelengths, but this can be turned off (as it is here for these ground-based data)."
   ]
  },
  {
   "cell_type": "code",
   "execution_count": 10,
   "metadata": {},
   "outputs": [],
   "source": [
    "lines = ['Halpha', 'Hbeta', '[OI]6300', '[OI]6364', '[OIII]4959', '[OIII]5007', '[NII]6548', \n",
    "         '[NII]6583', '[SII]6716', '[SII]6731', '[NI]5198', '[NI]5200']\n",
    "argslinelist = {'vacuum': False}"
   ]
  },
  {
   "cell_type": "markdown",
   "metadata": {},
   "source": [
    "How many components do you want to be fitted to the emission lines?"
   ]
  },
  {
   "cell_type": "code",
   "execution_count": 11,
   "metadata": {},
   "outputs": [],
   "source": [
    "maxncomp = 1"
   ]
  },
  {
   "cell_type": "markdown",
   "metadata": {},
   "source": [
    "This block sets up initial conditions for the emission-line fit to each spaxel. Emission lines are set to a common redshift and velocity dispersion. However, different sets of emission lines can have different velocities and linewidths by specifying different lines to which to tie particular emission lines."
   ]
  },
  {
   "cell_type": "code",
   "execution_count": 12,
   "metadata": {},
   "outputs": [],
   "source": [
    "linetie = dict()\n",
    "ncomp = dict()\n",
    "zinit_gas = dict()\n",
    "siginit_gas = dict()\n",
    "for i in lines:\n",
    "    linetie[i] = 'Halpha'\n",
    "    ncomp[i] = np.full((ncols,nrows),maxncomp)\n",
    "    zinit_gas[i] = np.full((ncols,nrows,maxncomp),zsys)\n",
    "    siginit_gas[i] = np.full((ncols,nrows,maxncomp),50.)"
   ]
  },
  {
   "cell_type": "markdown",
   "metadata": {},
   "source": [
    "`siglim_gas` sets lower and upper bounds for the Gaussian width (sigma) of the emission line. These limits can be set globablly, for all spaxels and components, by defining a 2-element array. The limits can also be set for individual spaxels (but all components) by defining an (Ncol x Nrow x 2) array."
   ]
  },
  {
   "cell_type": "code",
   "execution_count": 13,
   "metadata": {},
   "outputs": [],
   "source": [
    "# Global limit\n",
    "siglim_gas = np.array([5., 500.])\n",
    "\n",
    "# Spaxel-by-spaxel limit\n",
    "# siglim_gas = np.ndarray((dx, dy, 2))\n",
    "# siglim_gas[:,:,] = array([5.,1000.])\n",
    "# siglim_gas[13, 10, :] = array([5.,500.])"
   ]
  },
  {
   "cell_type": "markdown",
   "metadata": {},
   "source": [
    "The routine `checkcomp` automatically discards components that it deems insignificant after each fit. It does so with both a significance cut on flux, and if the linewidth is too large. If components are removed, the fit is re-run.\n",
    "\n",
    "The `sigcut` parameter determines the level of the significance cut. `ignore` is a list of lines to ignore when performing the significance cut."
   ]
  },
  {
   "cell_type": "code",
   "execution_count": 14,
   "metadata": {},
   "outputs": [],
   "source": [
    "argscheckcomp = {'sigcut': 3,\n",
    "                 'ignore': ['[OI]6300', '[OI]6364','[NI]5198', '[NI]5200','[SII]6716', '[SII]6731']}"
   ]
  },
  {
   "cell_type": "markdown",
   "metadata": {},
   "source": [
    "#### Line ratio constraints\n",
    "`line1`, `line2`, and `comp` are required. `value` is the initial value of `line1`/`line2`, and `lower` and `upper` limits can also be specified. (If they are not, and the line pair is a doublet in the doublets.tbl file, then the lower and upper limits are set using the data in that file.) The ratio can also be `fixed`."
   ]
  },
  {
   "cell_type": "code",
   "execution_count": 15,
   "metadata": {},
   "outputs": [],
   "source": [
    "# Required columns:\n",
    "line1 = ['[NI]5198']\n",
    "line2 = ['[NI]5200']\n",
    "comp = np.array([0], dtype=np.int32)\n",
    "\n",
    "# Optional columns:\n",
    "value = [1.5]\n",
    "fixed = [True]\n",
    "# lower = []\n",
    "# upper = []\n",
    "\n",
    "# Write table\n",
    "from astropy.table import QTable\n",
    "lineratio = QTable([line1, line2, comp, value, fixed], names=['line1', 'line2', 'comp', 'value', 'fixed'])"
   ]
  },
  {
   "cell_type": "markdown",
   "metadata": {},
   "source": [
    "#### Spectral resolution convolution\n",
    "##### Just running convolution ---\n",
    "\n",
    "If no convolution is desired, then set `spectres_convolve` to None. \n",
    "If convolution is desired, then `spectres_convolve` and `spect_instrum` are required variables.\n",
    "\n",
    "Specify the desired convolution method using `spect_instrum`. The syntax is: \n",
    "`spect_instrum = {INSTRUMENT:[METHOD]}`, which should mirror the filename in `q3dfit/data/dispersion_files/`. METHOD specifies the grating, spectral resolution [R], Δλ FWHM in [Å], velocity in [km/s].\n",
    "\n",
    "Examples convolving with: \n",
    "1. flat R=500: `spect_instrum = {'flat':['R500']}`\n",
    "2. flat velocity FWHM = 30km/s: `spect_instrum = {'flat':['kms30']}`\n",
    "3. flat Δλ FWHM = 4 Å: `spect_instrum = {'flat':['dlambda4']}`\n",
    "4. JWST NIRSPEC / G140M: `spect_instrum = {'JWST_NIRSPEC':['G140M']}`\n",
    "\n",
    "If desired flat convolution file does not exist, then a new file will be created automatically. \n",
    "\n",
    "This case applies to the GMOS B600 grating. Gemini website says R = 1688 at 4610 A for 0.5\" slit, with IFU 0.31\" eff. slit. This gives 1.69 A FWHM. I measure sometimes closer to 1.5-1.6 A."
   ]
  },
  {
   "cell_type": "code",
   "execution_count": 16,
   "metadata": {},
   "outputs": [],
   "source": [
    "spect_instrum = {'flat':['dlambda1.6']}\n",
    "spectres_convolve = {'ws_instrum':spect_instrum}"
   ]
  },
  {
   "cell_type": "markdown",
   "metadata": {},
   "source": [
    "##### Creating convolution files (optional) ---\n",
    "\n",
    "If the user wants to create a dispersion file, there are 2 methods:\n",
    "\n",
    "1. First, run `from q3dfit.common.spectConvol import dispFile` and initialize: `dispObj = dispFile()`\n",
    "2. Create the files with either method A or B\n",
    "\n",
    "2.(A) Create a flat R=120 dispersion file from 10 μm to 30 μm: \n",
    "\n",
    "`dispObj.make_dispersion(120,WAVELEN=[10,30],TYPE='R')`\n",
    "\n",
    "2.(B) Create a custom dispersion file with user supplied wavelength and Resolving power lists:\n",
    "\n",
    "`dispObj.make_custom_dispersion([wavelen list],R=[some R list],FILENAME='custom_RlistA_disp')`\n",
    "\n",
    "3. Specify desired dispersion file in convolution: running custom example 2B\n",
    "\n",
    "`spect_instrum = {'custom':['RlistA']}`\n"
   ]
  },
  {
   "cell_type": "code",
   "execution_count": 17,
   "metadata": {},
   "outputs": [],
   "source": [
    "#from q3dfit.common.spectConvol import dispFile\n",
    "#dobj = dispFile()\n",
    "#dispObj.make_custom_dispersion([wavelen list],R=[some R list],FILENAME='custom_RlistA_disp')\n",
    "#spect_instrum = {'custom':['RlistA']}"
   ]
  },
  {
   "cell_type": "markdown",
   "metadata": {},
   "source": [
    "#### Options to `lmfit` and `scipy.optimize.least_squares`\n",
    "`q3dfit` uses the `fit` method of the [`Model` class](https://lmfit.github.io/lmfit-py/model.html#lmfit.model.Model) of `lmfit` to call [`scipy.optimize.least_squares`](https://docs.scipy.org/doc/scipy/reference/generated/scipy.optimize.least_squares.html). Both the method and function have options which can be changed in the `q3dfit` call. To do so, add key/value pairs to the `argslinefit` dictionary, which in turn is a keyword of the `q3di` dictionary.\n",
    "\n",
    "The options to the `fit` method in `lmfit` that can currently be changed are the following:\n",
    "- `max_nfev`: maximum number of function evaluations before the fit aborts\n",
    "- `iter_cb`: if this is set to \"per_iteration\", the value of every model parameter at each function evaluation is printed to `stdout`\n",
    "\n",
    "Most parameters of `least_squares` can be changed in this way, unless they are specifically set by `lmfit`. Examples which have been tested include:\n",
    "- `x_scale`: jac\n",
    "- `tr_solver`: lsmr\n",
    "- `loss`: soft_l1\n",
    "- `ftol`, `gtol`, `xtol`"
   ]
  },
  {
   "cell_type": "code",
   "execution_count": 18,
   "metadata": {},
   "outputs": [],
   "source": [
    "argslinefit = dict()\n",
    "#argslinefit['iter_cb'] = 'per_iteration'\n",
    "# As an example, to change the criteria for fit convergence from the defaults of 1.e-8 to 1.e-10:\n",
    "# argslinefit['ftol'] = 1.e-10\n",
    "# argslinefit['gtol'] = 1.e-10\n",
    "# argslinefit['xtol'] = 1.e-10"
   ]
  },
  {
   "cell_type": "markdown",
   "metadata": {},
   "source": [
    "#### 1.2.2 Continuum parameters <a class=\"anchor\" id=\"chapter1_2_2\"></a>"
   ]
  },
  {
   "cell_type": "markdown",
   "metadata": {},
   "source": [
    "`q3dfit` first masks emission lines before fitting. This sets is the default mask value in km/s for each velocity component for the first fit. During the second fit, the mask value is set automatically using the best-fit linewidths determined from the first fit."
   ]
  },
  {
   "cell_type": "code",
   "execution_count": 19,
   "metadata": {},
   "outputs": [],
   "source": [
    "maskwidths_def = 500."
   ]
  },
  {
   "cell_type": "markdown",
   "metadata": {},
   "source": [
    "The continuum fitting parameters specified here are for the case of simultaneous fitting of a stellar and quasar template.\n",
    "- `hostord` = [Optional] additive Legendre polynomial for host [starlight] component. Adds components up to order `hostord`. 0 < hostord < 4\n",
    "- `qsoord` = [Optional] additive Legendre polynomial for host [starlight] component. Adds components up to order `qsoord`. 0 < hostord < 4\n",
    "- `qsoxdr` = Filename and path of quasar template created earlier with `makeqsotemplate.py`.\n",
    "- `refit` = Set to `ppxf` to fit (data - quasar) residual with stellar model.\n",
    "- `blrpar` = Set of initial Gaussian parameters (flux, observed wavelength, sigma in km/s) for fitting empirical scattered-light model (relevant only for narrow set of cases)."
   ]
  },
  {
   "cell_type": "code",
   "execution_count": 20,
   "metadata": {},
   "outputs": [],
   "source": [
    "fcncontfit = 'fitqsohost'\n",
    "argscontfit = dict()\n",
    "argscontfit['qsoxdr'] = qsotemplate\n",
    "#argscontfit['qsoord'] = 3\n",
    "#argscontfit['hostord'] = 3\n",
    "argscontfit['refit'] = 'ppxf'\n",
    "argscontfit['blrpar'] = [0., 0.7150, 5000.,\n",
    "                         0., 0.5300, 5000.]\n",
    "argscontfit['add_poly_degree'] = 30"
   ]
  },
  {
   "cell_type": "markdown",
   "metadata": {},
   "source": [
    "Arguments to `lmfit`"
   ]
  },
  {
   "cell_type": "code",
   "execution_count": 21,
   "metadata": {},
   "outputs": [],
   "source": [
    "argslmfit = dict()\n",
    "argslmfit['ftol'] = 1.e-10\n",
    "argslmfit['gtol'] = 1.e-10\n",
    "argslmfit['xtol'] = 1.e-10\n",
    "argscontfit['argslmfit'] = argslmfit"
   ]
  },
  {
   "cell_type": "markdown",
   "metadata": {},
   "source": [
    "Because we are fitting with `ppxf`, we set up initial guesses for stellar velocity and velocity dispersion."
   ]
  },
  {
   "cell_type": "code",
   "execution_count": 22,
   "metadata": {},
   "outputs": [],
   "source": [
    "zinit_stars=np.full((ncols,nrows),zsys)\n",
    "siginit_stars = 50."
   ]
  },
  {
   "cell_type": "markdown",
   "metadata": {},
   "source": [
    "### 1.3. Setting up the plotting and output parameters <a class=\"anchor\" id=\"chapter1_3\"></a>"
   ]
  },
  {
   "cell_type": "markdown",
   "metadata": {},
   "source": [
    "One dictionary must be defined for a line plot to appear. `argspltlin1` holds the options for the first line plot, and `argspltlin2` is for the second. Parameter options are fed in as keyword/data pairs.\n",
    "\n",
    "Required keywords in each dictionary:\n",
    "* `nx`: Number of subplots in the horizontal direction\n",
    "* `ny`: Number of subplots in the vertical direction\n",
    "* Options for centerting the plot:\n",
    "    - `line`: a string list of line labels\n",
    "    - `center_obs`: a float list of wavelengths of each subplot center, in the observed (plotted) frame\n",
    "    - `center_rest`: a float list of wavelengths of each subplot center, in the rest frame, which are converted to obs. frame\n",
    "\n",
    "Optional keywords:\n",
    "* `size`: float list of widths in wavelength space of each subplot; if not specified, default is 300 $Å$\n",
    "* `IR`: set to `True` to use infrared-style plot"
   ]
  },
  {
   "cell_type": "code",
   "execution_count": 23,
   "metadata": {},
   "outputs": [],
   "source": [
    "argspltlin1 = {'nx': 3,\n",
    "               'ny': 2,\n",
    "               'line': ['Hbeta', '[OIII]4959', '[NI]5200', '[OI]6300', 'Halpha', '[SII]6716'],\n",
    "               'size': [0.01, 0.0125, 0.01, 0.0125, 0.0100, 0.0100],\n",
    "               'waveunit_out': 'Angstrom'\n",
    "              }"
   ]
  },
  {
   "cell_type": "markdown",
   "metadata": {},
   "source": [
    "The continuum plot can be changed by specifying several parameters. In this case, we have chosen to output a linear/linear plot of f$_\\lambda$ vs. wavelength, in $\\overset{\\circ}{\\rm A}$."
   ]
  },
  {
   "cell_type": "code",
   "execution_count": 24,
   "metadata": {},
   "outputs": [],
   "source": [
    "argscontplot = {'xstyle': 'lin',\n",
    "                'ystyle': 'lin',\n",
    "                'waveunit_out': 'Angstrom',\n",
    "                'fluxunit_out': 'flambda',\n",
    "                'mode': 'dark'}"
   ]
  },
  {
   "cell_type": "markdown",
   "metadata": {},
   "source": [
    "Set this input to `q3da` to specify that the quasar and host contributions should be separated in the output files."
   ]
  },
  {
   "cell_type": "code",
   "execution_count": 25,
   "metadata": {},
   "outputs": [],
   "source": [
    "decompose_qso_fit = True"
   ]
  },
  {
   "cell_type": "markdown",
   "metadata": {},
   "source": [
    "The following cell will create the initialisation dictionary. **Do not change anything in this cell.** "
   ]
  },
  {
   "cell_type": "code",
   "execution_count": 26,
   "metadata": {},
   "outputs": [],
   "source": [
    "q3di = { \\\n",
    "        # Required pars\n",
    "        'fitran': fitrange,\n",
    "        'infile': infile,\n",
    "        'label': gal,\n",
    "        'lines': lines,\n",
    "        'linetie': linetie,\n",
    "        'maxncomp': maxncomp,\n",
    "        'name': name,\n",
    "        'ncomp': ncomp,\n",
    "        'outdir': outdir,\n",
    "        'zinit_stars': zinit_stars,\n",
    "        'zinit_gas': zinit_gas,\n",
    "        'zsys_gas': zsys,\n",
    "        'spect_convol':spectres_convolve,\n",
    "        # Optional pars\n",
    "        'argscheckcomp': argscheckcomp,\n",
    "        'argscontfit': argscontfit,\n",
    "        'argscontplot': argscontplot,\n",
    "        'argsinitpar': {'lineratio': lineratio},\n",
    "        'argslinefit': argslinefit, \n",
    "        'argslinelist': argslinelist,\n",
    "        'argsreadcube': argsreadcube,\n",
    "        'argspltlin1': argspltlin1,\n",
    "        'cutrange': cutrange,\n",
    "        'decompose_qso_fit': decompose_qso_fit,\n",
    "        'fcncontfit': fcncontfit,\n",
    "        'fcncheckcomp': 'checkcomp',\n",
    "        'maskwidths_def': maskwidths_def,\n",
    "        'logfile': logfile,\n",
    "        'siglim_gas': siglim_gas,\n",
    "        'siginit_gas': siginit_gas,\n",
    "        'siginit_stars': siginit_stars,\n",
    "        'startempfile': stellartemplates\n",
    "    }"
   ]
  },
  {
   "cell_type": "markdown",
   "metadata": {},
   "source": [
    "If you want to run `q3dfit` in batch mode, run this cell, which saves q3di to an `npy` file. In your python command line, read in file and run `q3dfit` with\n",
    "<pre><code>q3di = '/path/to/the/npy/file/q3di.npy'\n",
    "from q3dfit.q3df import q3df\n",
    "q3df(q3di,cols=cols,rows=rows)</code></pre>\n",
    "N.B.: When running `q3dfit` using multiple cores (`ncores=N` in the call to `q3df`), the input dictionary has to be specified in this way; i.e., as a string describing the location of this .npy file."
   ]
  },
  {
   "cell_type": "code",
   "execution_count": 27,
   "metadata": {},
   "outputs": [],
   "source": [
    "q3di_npy = 'q3di.npy'\n",
    "np.save(initdir+q3di_npy,q3di)"
   ]
  },
  {
   "cell_type": "markdown",
   "metadata": {},
   "source": [
    "## 2. Run fitting and plotting routines <a class=\"anchor\" id=\"chapter2\"></a>"
   ]
  },
  {
   "cell_type": "code",
   "execution_count": 28,
   "metadata": {},
   "outputs": [],
   "source": [
    "from q3dfit.q3df import q3df\n",
    "from q3dfit.q3da import q3da\n",
    "import q3dfit.q3dpro as q3dpro"
   ]
  },
  {
   "cell_type": "markdown",
   "metadata": {},
   "source": [
    "Choose columns and rows to fit. Ranges are specified as two-element lists specifying the first and last spaxel."
   ]
  },
  {
   "cell_type": "code",
   "execution_count": 29,
   "metadata": {},
   "outputs": [],
   "source": [
    "cols = 14\n",
    "rows = 11"
   ]
  },
  {
   "cell_type": "markdown",
   "metadata": {},
   "source": [
    "### 2.1. Do the fits - q3df.py"
   ]
  },
  {
   "cell_type": "markdown",
   "metadata": {},
   "source": [
    "Run the fit. Choose `quiet=False` for verbose output. An output dictionary for each spaxel is saved to a numpy binary file labeled with prefix `q3di['label']` and suffix `_col_row.npy`. See note above on multicore processing."
   ]
  },
  {
   "cell_type": "code",
   "execution_count": 30,
   "metadata": {},
   "outputs": [
    {
     "name": "stdout",
     "output_type": "stream",
     "text": [
      "[col,row]=[14,11] out of [17,26]\n",
      "FITLOOP: First call to FITSPEC\n",
      "FITLOOP: Setting 185.000000 points from zero/inf flux or neg/zero/inf error to np.nan\n",
      "   Iteration     Total nfev        Cost      Cost reduction    Step norm     Optimality   \n",
      "       0              1         2.6805e+05                                    6.21e+07    \n",
      "       1              2         2.2400e+04      2.46e+05       5.49e-03       9.93e+05    \n",
      "       2              3         2.0573e+04      1.83e+03       2.60e-03       2.01e+04    \n",
      "       3              4         1.8847e+04      1.73e+03       5.29e-04       8.38e+05    \n",
      "       4              5         1.7529e+04      1.32e+03       2.22e-03       1.69e+04    \n",
      "       5              6         1.6137e+04      1.39e+03       4.79e-04       7.49e+05    \n",
      "       6              7         1.5086e+04      1.05e+03       1.98e-03       1.43e+04    \n",
      "       7              8         1.3977e+04      1.11e+03       4.33e-04       6.71e+05    \n",
      "       8              9         1.3137e+04      8.40e+02       1.77e-03       1.21e+04    \n",
      "       9             10         1.2255e+04      8.82e+02       3.91e-04       6.00e+05    \n",
      "      10             11         1.1582e+04      6.72e+02       1.58e-03       1.03e+04    \n",
      "      11             12         1.0880e+04      7.02e+02       3.54e-04       5.37e+05    \n",
      "      12             13         1.0342e+04      5.38e+02       1.42e-03       8.76e+03    \n",
      "      13             14         9.7827e+03      5.59e+02       3.21e-04       4.81e+05    \n",
      "      14             15         9.3519e+03      4.31e+02       1.27e-03       7.53e+03    \n",
      "      15             16         8.9068e+03      4.45e+02       2.93e-04       4.31e+05    \n",
      "      16             17         8.5618e+03      3.45e+02       1.13e-03       6.51e+03    \n",
      "      17             18         8.2051e+03      3.57e+02       2.94e-04       3.87e+05    \n",
      "      18             19         7.9269e+03      2.78e+02       1.02e-03       8.19e+03    \n",
      "      19             20         7.6396e+03      2.87e+02       3.44e-04       3.49e+05    \n",
      "      20             21         7.4140e+03      2.26e+02       9.14e-04       1.10e+04    \n",
      "      21             22         7.1815e+03      2.33e+02       4.15e-04       3.15e+05    \n",
      "      22             23         6.9979e+03      1.84e+02       8.24e-04       1.30e+04    \n",
      "      23             24         6.8089e+03      1.89e+02       4.90e-04       2.85e+05    \n",
      "      24             25         6.6587e+03      1.50e+02       7.45e-04       1.42e+04    \n",
      "      25             26         6.5046e+03      1.54e+02       5.58e-04       2.58e+05    \n",
      "      26             27         6.3814e+03      1.23e+02       6.74e-04       1.48e+04    \n",
      "      27             28         6.2555e+03      1.26e+02       6.15e-04       2.34e+05    \n",
      "      28             29         6.1590e+03      9.65e+01       5.83e-04       1.49e+04    \n",
      "      29             30         5.8347e+03      3.24e+02       2.15e-03       7.01e+05    \n",
      "      30             31         5.7972e+03      3.75e+01       6.97e-05       1.61e+05    \n",
      "      31             32         5.7486e+03      4.85e+01       4.25e-04       1.23e+04    \n",
      "      32             33         5.6881e+03      6.06e+01       6.35e-04       1.63e+05    \n",
      "      33             34         5.6773e+03      1.07e+01       9.02e-05       8.81e+04    \n",
      "      34             35         5.6612e+03      1.61e+01       2.52e-04       1.09e+04    \n",
      "      35             36         5.6092e+03      5.21e+01       5.72e-04       1.47e+05    \n",
      "      36             37         5.5974e+03      1.17e+01       1.11e-04       6.84e+04    \n",
      "      37             38         5.5870e+03      1.04e+01       2.04e-04       9.77e+03    \n",
      "      38             39         5.5430e+03      4.40e+01       5.29e-04       1.34e+05    \n",
      "      39             40         5.5323e+03      1.07e+01       1.12e-04       5.86e+04    \n",
      "      40             41         5.5244e+03      7.84e+00       1.78e-04       8.76e+03    \n",
      "      41             42         5.4875e+03      3.69e+01       4.92e-04       1.22e+05    \n",
      "      42             43         5.4786e+03      8.94e+00       1.02e-04       5.37e+04    \n",
      "      43             44         5.4721e+03      6.53e+00       1.62e-04       7.83e+03    \n",
      "      44             45         5.4413e+03      3.08e+01       4.58e-04       1.12e+05    \n",
      "      45             46         5.4343e+03      6.99e+00       8.67e-05       5.15e+04    \n",
      "      46             47         5.4285e+03      5.83e+00       1.53e-04       6.97e+03    \n",
      "      47             48         5.4029e+03      2.56e+01       4.27e-04       1.03e+05    \n",
      "      48             49         5.3976e+03      5.33e+00       7.17e-05       5.02e+04    \n",
      "      49             50         5.3922e+03      5.36e+00       1.46e-04       6.17e+03    \n",
      "      50             51         5.3709e+03      2.13e+01       3.96e-04       9.48e+04    \n",
      "      51             52         5.3668e+03      4.10e+00       5.98e-05       4.84e+04    \n",
      "      52             53         5.3620e+03      4.87e+00       1.38e-04       5.44e+03    \n",
      "      53             54         5.3442e+03      1.77e+01       3.67e-04       8.71e+04    \n",
      "      54             55         5.3410e+03      3.23e+00       5.11e-05       4.60e+04    \n",
      "      55             56         5.3367e+03      4.33e+00       1.30e-04       4.78e+03    \n",
      "      56             57         5.3219e+03      1.48e+01       3.39e-04       8.00e+04    \n",
      "      57             58         5.3193e+03      2.58e+00       4.44e-05       4.33e+04    \n",
      "      58             59         5.3155e+03      3.79e+00       1.21e-04       4.19e+03    \n",
      "      59             60         5.3031e+03      1.24e+01       3.15e-04       7.35e+04    \n",
      "      60             61         5.3011e+03      2.07e+00       3.85e-05       4.07e+04    \n",
      "      61             62         5.2977e+03      3.32e+00       1.13e-04       3.67e+03    \n",
      "      62             63         5.2874e+03      1.04e+01       2.93e-04       6.75e+04    \n",
      "      63             64         5.2857e+03      1.64e+00       3.31e-05       3.84e+04    \n",
      "      64             65         5.2828e+03      2.92e+00       1.06e-04       3.23e+03    \n",
      "      65             66         5.2741e+03      8.70e+00       2.75e-04       6.21e+04    \n",
      "      66             67         5.2728e+03      1.29e+00       2.81e-05       3.63e+04    \n",
      "      67             68         5.2702e+03      2.59e+00       9.97e-05       2.83e+03    \n",
      "      68             69         5.2629e+03      7.32e+00       2.61e-04       5.72e+04    \n",
      "      69             70         5.2619e+03      1.00e+00       2.35e-05       3.45e+04    \n",
      "      70             71         5.2596e+03      2.31e+00       9.41e-05       2.49e+03    \n",
      "      71             72         5.2534e+03      6.16e+00       2.49e-04       5.27e+04    \n",
      "      72             73         5.2527e+03      7.71e-01       1.95e-05       3.28e+04    \n",
      "      73             74         5.2506e+03      2.08e+00       8.89e-05       2.44e+03    \n",
      "      74             78         4.3275e+03      9.23e+02       1.08e+02       3.73e+05    \n",
      "      75             79         4.3183e+03      9.18e+00       3.46e-05       2.01e+04    \n",
      "      76             81         4.3161e+03      2.20e+00       1.24e-02       1.92e+04    \n",
      "      77             82         4.3142e+03      1.92e+00       1.11e-02       1.85e+04    \n",
      "      78             84         4.2929e+03      2.13e+01       9.68e-02       1.15e+03    \n",
      "      79             85         4.2856e+03      7.24e+00       8.75e-05       5.16e+03    \n",
      "      80             86         4.2837e+03      1.93e+00       3.96e-02       8.91e+02    \n",
      "      81             87         4.2815e+03      2.23e+00       7.76e+00       6.18e+02    \n",
      "      82             88         4.2800e+03      1.46e+00       4.80e-05       7.56e+03    \n",
      "      83             90         4.2761e+03      3.95e+00       2.00e-02       9.45e+02    \n",
      "      84             91         4.2757e+03      3.81e-01       8.32e-03       5.29e+04    \n",
      "      85             92         4.2755e+03      1.69e-01       4.79e-06       1.31e+03    \n",
      "      86             93         4.2733e+03      2.26e+00       5.59e-02       5.62e+02    \n",
      "      87             94         4.2725e+03      7.75e-01       3.52e-05       1.81e+03    \n",
      "      88             95         4.2725e+03      6.17e-03       1.25e-04       3.27e+02    \n",
      "      89             97         4.2722e+03      2.82e-01       1.56e-03       5.75e+00    \n",
      "      90             98         4.2719e+03      3.26e-01       4.56e-03       1.25e+01    \n",
      "      91             99         4.2713e+03      5.60e-01       1.03e-02       2.69e+01    \n"
     ]
    },
    {
     "name": "stdout",
     "output_type": "stream",
     "text": [
      "      92             100        4.2703e+03      1.02e+00       2.14e-02       1.11e+02    \n",
      "      93             101        4.2697e+03      6.24e-01       3.64e-01       6.63e+01    \n",
      "      94             102        4.2691e+03      5.59e-01       5.38e+00       4.54e+03    \n",
      "      95             103        4.2691e+03      1.64e-03       9.04e-06       6.19e+01    \n",
      "      96             104        4.2686e+03      5.05e-01       4.37e+00       9.52e+02    \n",
      "      97             105        4.2671e+03      1.51e+00       1.31e+01       2.16e+03    \n",
      "      98             106        4.2671e+03      2.61e-04       1.93e-07       1.66e+02    \n",
      "`xtol` termination condition is satisfied.\n",
      "Function evaluations 106, initial cost 2.6805e+05, final cost 4.2671e+03, first-order optimality 1.66e+02.\n",
      "[[Variables]]\n",
      "    stars_add_exp_a:  0.38947876 (init = 0)\n",
      "    stars_add_exp_b:  0.04582557 (init = 0)\n",
      "    stars_add_exp_c:  0.09866398 (init = 0)\n",
      "    stars_add_exp_d:  1.5742e-05 (init = 0)\n",
      "    stars_add_exp_e:  1.0048e-10 (init = 0)\n",
      "    stars_add_exp_f:  1.0033e-10 (init = 0)\n",
      "    stars_add_exp_g:  1.0027e-10 (init = 0)\n",
      "    stars_add_exp_h:  1.0007e-10 (init = 0)\n",
      "    qso_mult_exp_a:   0.13658050 (init = 0)\n",
      "    qso_mult_exp_b:   3.0478e-07 (init = 0)\n",
      "    qso_mult_exp_c:   0.06023136 (init = 0)\n",
      "    qso_mult_exp_d:   0.00178105 (init = 0)\n",
      "    qso_mult_exp_e:   1.4696e-05 (init = 0)\n",
      "    qso_mult_exp_f:   1.4696e-05 (init = 0)\n",
      "    qso_mult_exp_g:   0.00548150 (init = 0)\n",
      "    qso_mult_exp_h:   0.00199700 (init = 0)\n",
      "    g_0pt715flx:      3.7284e-15 (init = 0)\n",
      "    g_0pt715cwv:      0.715 (fixed)\n",
      "    g_0pt715sig:      4984.02214 (init = 5000)\n",
      "    g_0pt53flx:       0.00198269 (init = 0)\n",
      "    g_0pt53cwv:       0.53 (fixed)\n",
      "    g_0pt53sig:       4861.80602 (init = 5000)\n"
     ]
    },
    {
     "ename": "AssertionError",
     "evalue": "NOISE must be a positive vector",
     "output_type": "error",
     "traceback": [
      "\u001b[0;31m---------------------------------------------------------------------------\u001b[0m",
      "\u001b[0;31mAssertionError\u001b[0m                            Traceback (most recent call last)",
      "Input \u001b[0;32mIn [30]\u001b[0m, in \u001b[0;36m<cell line: 1>\u001b[0;34m()\u001b[0m\n\u001b[0;32m----> 1\u001b[0m \u001b[43mq3df\u001b[49m\u001b[43m(\u001b[49m\u001b[43mq3di\u001b[49m\u001b[43m,\u001b[49m\u001b[43mcols\u001b[49m\u001b[38;5;241;43m=\u001b[39;49m\u001b[43mcols\u001b[49m\u001b[43m,\u001b[49m\u001b[43mrows\u001b[49m\u001b[38;5;241;43m=\u001b[39;49m\u001b[43mrows\u001b[49m\u001b[43m,\u001b[49m\u001b[43m \u001b[49m\u001b[43mquiet\u001b[49m\u001b[38;5;241;43m=\u001b[39;49m\u001b[38;5;28;43;01mFalse\u001b[39;49;00m\u001b[43m)\u001b[49m\n",
      "File \u001b[0;32m~/Documents/ARI-Heidelberg/Q3D/QUESTFIT/q3dfit-dev/jnb/../q3dfit/q3df.py:52\u001b[0m, in \u001b[0;36mq3df\u001b[0;34m(initproc, cols, rows, onefit, ncores, quiet, mpipath)\u001b[0m\n\u001b[1;32m     50\u001b[0m \u001b[38;5;28;01mif\u001b[39;00m ncores \u001b[38;5;241m==\u001b[39m \u001b[38;5;241m1\u001b[39m:\n\u001b[1;32m     51\u001b[0m     \u001b[38;5;28;01mfrom\u001b[39;00m \u001b[38;5;21;01mq3dfit\u001b[39;00m\u001b[38;5;21;01m.\u001b[39;00m\u001b[38;5;21;01mq3df_helperFunctions\u001b[39;00m \u001b[38;5;28;01mimport\u001b[39;00m q3df_oneCore\n\u001b[0;32m---> 52\u001b[0m     \u001b[43mq3df_oneCore\u001b[49m\u001b[43m(\u001b[49m\u001b[43minitproc\u001b[49m\u001b[43m,\u001b[49m\u001b[43m \u001b[49m\u001b[43mcols\u001b[49m\u001b[43m,\u001b[49m\u001b[43m \u001b[49m\u001b[43mrows\u001b[49m\u001b[43m,\u001b[49m\u001b[43m \u001b[49m\u001b[43monefit\u001b[49m\u001b[43m,\u001b[49m\u001b[43m \u001b[49m\u001b[43mquiet\u001b[49m\u001b[43m)\u001b[49m\n\u001b[1;32m     53\u001b[0m \u001b[38;5;28;01melif\u001b[39;00m ncores \u001b[38;5;241m>\u001b[39m \u001b[38;5;241m1\u001b[39m:\n\u001b[1;32m     54\u001b[0m     \u001b[38;5;28;01mfrom\u001b[39;00m \u001b[38;5;21;01minspect\u001b[39;00m \u001b[38;5;28;01mimport\u001b[39;00m getfile\n",
      "File \u001b[0;32m~/Documents/ARI-Heidelberg/Q3D/QUESTFIT/q3dfit-dev/jnb/../q3dfit/q3df_helperFunctions.py:222\u001b[0m, in \u001b[0;36mq3df_oneCore\u001b[0;34m(initproc, cols, rows, onefit, quiet)\u001b[0m\n\u001b[1;32m    219\u001b[0m nspax, colarr, rowarr \u001b[38;5;241m=\u001b[39m __get_spaxels(cube, cols, rows)\n\u001b[1;32m    221\u001b[0m \u001b[38;5;66;03m# execute FITLOOP\u001b[39;00m\n\u001b[0;32m--> 222\u001b[0m \u001b[43mexecute_fitloop\u001b[49m\u001b[43m(\u001b[49m\u001b[43mnspax\u001b[49m\u001b[43m,\u001b[49m\u001b[43m \u001b[49m\u001b[43mcolarr\u001b[49m\u001b[43m,\u001b[49m\u001b[43m \u001b[49m\u001b[43mrowarr\u001b[49m\u001b[43m,\u001b[49m\u001b[43m \u001b[49m\u001b[43mcube\u001b[49m\u001b[43m,\u001b[49m\u001b[43m \u001b[49m\u001b[43minitdat\u001b[49m\u001b[43m,\u001b[49m\u001b[43m \u001b[49m\u001b[43mlinelist\u001b[49m\u001b[43m,\u001b[49m\u001b[43m \u001b[49m\u001b[43mspecConv\u001b[49m\u001b[43m,\u001b[49m\n\u001b[1;32m    223\u001b[0m \u001b[43m                \u001b[49m\u001b[43monefit\u001b[49m\u001b[43m,\u001b[49m\u001b[43m \u001b[49m\u001b[43mquiet\u001b[49m\u001b[43m,\u001b[49m\u001b[43m \u001b[49m\u001b[43mlogfile\u001b[49m\u001b[38;5;241;43m=\u001b[39;49m\u001b[43mlogfile\u001b[49m\u001b[43m)\u001b[49m\n\u001b[1;32m    225\u001b[0m \u001b[38;5;28;01mif\u001b[39;00m logfile \u001b[38;5;129;01mis\u001b[39;00m \u001b[38;5;28;01mNone\u001b[39;00m:\n\u001b[1;32m    226\u001b[0m     \u001b[38;5;28;01mfrom\u001b[39;00m \u001b[38;5;21;01msys\u001b[39;00m \u001b[38;5;28;01mimport\u001b[39;00m stdout\n",
      "File \u001b[0;32m~/Documents/ARI-Heidelberg/Q3D/QUESTFIT/q3dfit-dev/jnb/../q3dfit/q3df_helperFunctions.py:171\u001b[0m, in \u001b[0;36mexecute_fitloop\u001b[0;34m(nspax, colarr, rowarr, cube, initdat, linelist, specConv, onefit, quiet, logfile)\u001b[0m\n\u001b[1;32m    169\u001b[0m \u001b[38;5;28;01mfrom\u001b[39;00m \u001b[38;5;21;01mq3dfit\u001b[39;00m\u001b[38;5;21;01m.\u001b[39;00m\u001b[38;5;21;01mfitloop\u001b[39;00m \u001b[38;5;28;01mimport\u001b[39;00m fitloop\n\u001b[1;32m    170\u001b[0m \u001b[38;5;28;01mfor\u001b[39;00m ispax \u001b[38;5;129;01min\u001b[39;00m \u001b[38;5;28mrange\u001b[39m(\u001b[38;5;241m0\u001b[39m, nspax):\n\u001b[0;32m--> 171\u001b[0m     \u001b[43mfitloop\u001b[49m\u001b[43m(\u001b[49m\u001b[43mispax\u001b[49m\u001b[43m,\u001b[49m\u001b[43m \u001b[49m\u001b[43mcolarr\u001b[49m\u001b[43m,\u001b[49m\u001b[43m \u001b[49m\u001b[43mrowarr\u001b[49m\u001b[43m,\u001b[49m\u001b[43m \u001b[49m\u001b[43mcube\u001b[49m\u001b[43m,\u001b[49m\u001b[43m \u001b[49m\u001b[43minitdat\u001b[49m\u001b[43m,\u001b[49m\u001b[43m \u001b[49m\u001b[43mlinelist\u001b[49m\u001b[43m,\u001b[49m\u001b[43m \u001b[49m\u001b[43mspecConv\u001b[49m\u001b[43m,\u001b[49m\n\u001b[1;32m    172\u001b[0m \u001b[43m            \u001b[49m\u001b[43monefit\u001b[49m\u001b[43m,\u001b[49m\u001b[43m \u001b[49m\u001b[43mquiet\u001b[49m\u001b[43m,\u001b[49m\u001b[43m \u001b[49m\u001b[43mlogfile\u001b[49m\u001b[38;5;241;43m=\u001b[39;49m\u001b[43mlogfile\u001b[49m\u001b[43m)\u001b[49m\n",
      "File \u001b[0;32m~/Documents/ARI-Heidelberg/Q3D/QUESTFIT/q3dfit-dev/jnb/../q3dfit/fitloop.py:213\u001b[0m, in \u001b[0;36mfitloop\u001b[0;34m(ispax, colarr, rowarr, cube, initdat, listlines, specConv, onefit, quiet, logfile)\u001b[0m\n\u001b[1;32m    210\u001b[0m \u001b[38;5;28;01mif\u001b[39;00m \u001b[38;5;129;01mnot\u001b[39;00m quiet:\n\u001b[1;32m    211\u001b[0m     \u001b[38;5;28mprint\u001b[39m(\u001b[38;5;124m'\u001b[39m\u001b[38;5;124mFITLOOP: First call to FITSPEC\u001b[39m\u001b[38;5;124m'\u001b[39m)\n\u001b[0;32m--> 213\u001b[0m q3dout_ij, structinit \u001b[38;5;241m=\u001b[39m \u001b[43mfitspec\u001b[49m\u001b[43m(\u001b[49m\u001b[43mcube\u001b[49m\u001b[38;5;241;43m.\u001b[39;49m\u001b[43mwave\u001b[49m\u001b[43m,\u001b[49m\u001b[43m \u001b[49m\u001b[43mflux\u001b[49m\u001b[43m,\u001b[49m\u001b[43m \u001b[49m\u001b[43merr\u001b[49m\u001b[43m,\u001b[49m\u001b[43m \u001b[49m\u001b[43mdq\u001b[49m\u001b[43m,\u001b[49m\u001b[43m \u001b[49m\u001b[43mzstar\u001b[49m\u001b[43m,\u001b[49m\u001b[43m \u001b[49m\u001b[43mlistlines\u001b[49m\u001b[43m,\u001b[49m\n\u001b[1;32m    214\u001b[0m \u001b[43m                     \u001b[49m\u001b[43mlistlinesz\u001b[49m\u001b[43m,\u001b[49m\u001b[43m \u001b[49m\u001b[43mncomp\u001b[49m\u001b[43m,\u001b[49m\u001b[43m \u001b[49m\u001b[43mspecConv\u001b[49m\u001b[43m,\u001b[49m\u001b[43m \u001b[49m\u001b[43minitdat\u001b[49m\u001b[43m,\u001b[49m\u001b[43m \u001b[49m\u001b[43mquiet\u001b[49m\u001b[38;5;241;43m=\u001b[39;49m\u001b[43mquiet\u001b[49m\u001b[43m,\u001b[49m\n\u001b[1;32m    215\u001b[0m \u001b[43m                     \u001b[49m\u001b[43msiglim_gas\u001b[49m\u001b[38;5;241;43m=\u001b[39;49m\u001b[43msiglim_gas\u001b[49m\u001b[43m,\u001b[49m\n\u001b[1;32m    216\u001b[0m \u001b[43m                     \u001b[49m\u001b[43msiginit_gas\u001b[49m\u001b[38;5;241;43m=\u001b[39;49m\u001b[43msiginit_gas\u001b[49m\u001b[43m,\u001b[49m\n\u001b[1;32m    217\u001b[0m \u001b[43m                     \u001b[49m\u001b[43mtweakcntfit\u001b[49m\u001b[38;5;241;43m=\u001b[39;49m\u001b[43mtweakcntfit\u001b[49m\u001b[43m,\u001b[49m\u001b[43m \u001b[49m\u001b[43mcol\u001b[49m\u001b[38;5;241;43m=\u001b[39;49m\u001b[43mi\u001b[49m\u001b[43m,\u001b[49m\u001b[43m \u001b[49m\u001b[43mrow\u001b[49m\u001b[38;5;241;43m=\u001b[39;49m\u001b[43mj\u001b[49m\u001b[43m,\u001b[49m\u001b[43m \u001b[49m\u001b[43mlogfile\u001b[49m\u001b[38;5;241;43m=\u001b[39;49m\u001b[43mlogfile\u001b[49m\u001b[43m)\u001b[49m\n\u001b[1;32m    218\u001b[0m \u001b[38;5;28mprint\u001b[39m(\u001b[38;5;124m'\u001b[39m\u001b[38;5;124mFIT STATUS: \u001b[39m\u001b[38;5;124m'\u001b[39m\u001b[38;5;241m+\u001b[39m\u001b[38;5;28mstr\u001b[39m(structinit[\u001b[38;5;124m'\u001b[39m\u001b[38;5;124mfitstatus\u001b[39m\u001b[38;5;124m'\u001b[39m]), file\u001b[38;5;241m=\u001b[39mlogfile)\n\u001b[1;32m    219\u001b[0m \u001b[38;5;28;01mif\u001b[39;00m \u001b[38;5;129;01mnot\u001b[39;00m quiet:\n",
      "File \u001b[0;32m~/Documents/ARI-Heidelberg/Q3D/QUESTFIT/q3dfit-dev/jnb/../q3dfit/fitspec.py:337\u001b[0m, in \u001b[0;36mfitspec\u001b[0;34m(wlambda, flux, err, dq, zstar, listlines, listlinesz, ncomp, specConv, initdat, maskwidths, peakinit, quiet, siginit_gas, siglim_gas, tweakcntfit, col, row, logfile)\u001b[0m\n\u001b[1;32m    332\u001b[0m         \u001b[38;5;28;01mif\u001b[39;00m \u001b[38;5;124m'\u001b[39m\u001b[38;5;124msiginit_stars\u001b[39m\u001b[38;5;124m'\u001b[39m \u001b[38;5;129;01min\u001b[39;00m initdat:\n\u001b[1;32m    333\u001b[0m             argscontfit[\u001b[38;5;124m'\u001b[39m\u001b[38;5;124msiginit_stars\u001b[39m\u001b[38;5;124m'\u001b[39m] \u001b[38;5;241m=\u001b[39m \\\n\u001b[1;32m    334\u001b[0m                 initdat[\u001b[38;5;124m'\u001b[39m\u001b[38;5;124msiginit_stars\u001b[39m\u001b[38;5;124m'\u001b[39m]\n\u001b[1;32m    336\u001b[0m continuum, ct_coeff, zstar \u001b[38;5;241m=\u001b[39m \\\n\u001b[0;32m--> 337\u001b[0m     \u001b[43mfcncontfit\u001b[49m\u001b[43m(\u001b[49m\u001b[43mgdlambda\u001b[49m\u001b[43m,\u001b[49m\u001b[43m \u001b[49m\u001b[43mgdflux\u001b[49m\u001b[43m,\u001b[49m\u001b[43m \u001b[49m\u001b[43mgdinvvar\u001b[49m\u001b[43m,\u001b[49m\n\u001b[1;32m    338\u001b[0m \u001b[43m               \u001b[49m\u001b[43mtemplatelambdaz_tmp\u001b[49m\u001b[43m,\u001b[49m\n\u001b[1;32m    339\u001b[0m \u001b[43m               \u001b[49m\u001b[43mtemplateflux_tmp\u001b[49m\u001b[43m,\u001b[49m\u001b[43m \u001b[49m\u001b[43mct_indx\u001b[49m\u001b[43m,\u001b[49m\u001b[43m \u001b[49m\u001b[43mzstar\u001b[49m\u001b[43m,\u001b[49m\n\u001b[1;32m    340\u001b[0m \u001b[43m               \u001b[49m\u001b[43mquiet\u001b[49m\u001b[38;5;241;43m=\u001b[39;49m\u001b[43mquiet\u001b[49m\u001b[43m,\u001b[49m\u001b[43m \u001b[49m\u001b[38;5;241;43m*\u001b[39;49m\u001b[38;5;241;43m*\u001b[39;49m\u001b[43margscontfit\u001b[49m\u001b[43m)\u001b[49m\n\u001b[1;32m    342\u001b[0m \u001b[38;5;28;01mif\u001b[39;00m \u001b[38;5;124m'\u001b[39m\u001b[38;5;124mrefit\u001b[39m\u001b[38;5;124m'\u001b[39m \u001b[38;5;129;01min\u001b[39;00m argscontfit\u001b[38;5;241m.\u001b[39mkeys():\n\u001b[1;32m    343\u001b[0m     \u001b[38;5;28;01mif\u001b[39;00m argscontfit[\u001b[38;5;124m'\u001b[39m\u001b[38;5;124mrefit\u001b[39m\u001b[38;5;124m'\u001b[39m] \u001b[38;5;241m==\u001b[39m \u001b[38;5;124m'\u001b[39m\u001b[38;5;124mppxf\u001b[39m\u001b[38;5;124m'\u001b[39m:\n",
      "File \u001b[0;32m~/Documents/ARI-Heidelberg/Q3D/QUESTFIT/q3dfit-dev/jnb/../q3dfit/fitqsohost.py:145\u001b[0m, in \u001b[0;36mfitqsohost\u001b[0;34m(wave, flux, weight, template_wave, template_flux, index, zstar, quiet, blrpar, qsoxdr, qsoonly, index_log, err_log, flux_log, refit, add_poly_degree, siginit_stars, fitran, fittol, qsoord, hostonly, hostord, blronly, blrterms, **kwargs)\u001b[0m\n\u001b[1;32m    142\u001b[0m \u001b[38;5;66;03m# vel = c*np.log(1 + zstar)   # eq.(8) of Cappellari (2017)\u001b[39;00m\n\u001b[1;32m    143\u001b[0m \u001b[38;5;66;03m# t = clock()\u001b[39;00m\n\u001b[1;32m    144\u001b[0m start \u001b[38;5;241m=\u001b[39m [\u001b[38;5;241m0\u001b[39m, siginit_stars]  \u001b[38;5;66;03m# (km/s), starting guess for [V, sigma]\u001b[39;00m\n\u001b[0;32m--> 145\u001b[0m pp \u001b[38;5;241m=\u001b[39m \u001b[43mppxf\u001b[49m\u001b[43m(\u001b[49m\u001b[43mtemp_log\u001b[49m\u001b[43m,\u001b[49m\u001b[43m \u001b[49m\u001b[43mresid_log\u001b[49m\u001b[43m,\u001b[49m\u001b[43m \u001b[49m\u001b[43merr_log\u001b[49m\u001b[43m,\u001b[49m\u001b[43m \u001b[49m\u001b[43mvelscale\u001b[49m\u001b[43m,\u001b[49m\u001b[43m \u001b[49m\u001b[43mstart\u001b[49m\u001b[43m,\u001b[49m\n\u001b[1;32m    146\u001b[0m \u001b[43m          \u001b[49m\u001b[43mgoodpixels\u001b[49m\u001b[38;5;241;43m=\u001b[39;49m\u001b[43mindex_log\u001b[49m\u001b[43m,\u001b[49m\u001b[43m  \u001b[49m\u001b[43mquiet\u001b[49m\u001b[38;5;241;43m=\u001b[39;49m\u001b[43mquiet\u001b[49m\u001b[43m,\u001b[49m\u001b[43m  \u001b[49m\u001b[38;5;66;43;03m# plot=True, moments=2\u001b[39;49;00m\n\u001b[1;32m    147\u001b[0m \u001b[43m          \u001b[49m\u001b[43mdegree\u001b[49m\u001b[38;5;241;43m=\u001b[39;49m\u001b[43madd_poly_degree\u001b[49m\u001b[43m)\u001b[49m  \u001b[38;5;66;03m# clean=False\u001b[39;00m\n\u001b[1;32m    149\u001b[0m \u001b[38;5;66;03m# resample additive polynomial to linear grid\u001b[39;00m\n\u001b[1;32m    150\u001b[0m \u001b[38;5;66;03m# poly_log = pp.apoly\u001b[39;00m\n\u001b[1;32m    151\u001b[0m \u001b[38;5;66;03m# pinterp = \\\u001b[39;00m\n\u001b[1;32m    152\u001b[0m \u001b[38;5;66;03m#     interpolate.interp1d(residlambda_log, poly_log,\u001b[39;00m\n\u001b[1;32m    153\u001b[0m \u001b[38;5;66;03m#                          kind='cubic', fill_value=\"extrapolate\")\u001b[39;00m\n\u001b[1;32m    154\u001b[0m \u001b[38;5;66;03m# poly = pinterp(np.log(wave))\u001b[39;00m\n\u001b[1;32m    156\u001b[0m ct_coeff \u001b[38;5;241m=\u001b[39m {\u001b[38;5;124m'\u001b[39m\u001b[38;5;124mqso_host\u001b[39m\u001b[38;5;124m'\u001b[39m: result\u001b[38;5;241m.\u001b[39mparams,\n\u001b[1;32m    157\u001b[0m             \u001b[38;5;124m'\u001b[39m\u001b[38;5;124mstel\u001b[39m\u001b[38;5;124m'\u001b[39m: pp\u001b[38;5;241m.\u001b[39mweights,\n\u001b[1;32m    158\u001b[0m             \u001b[38;5;124m'\u001b[39m\u001b[38;5;124mpoly\u001b[39m\u001b[38;5;124m'\u001b[39m: pp\u001b[38;5;241m.\u001b[39mpolyweights,\n\u001b[1;32m    159\u001b[0m             \u001b[38;5;124m'\u001b[39m\u001b[38;5;124mppxf_sigma\u001b[39m\u001b[38;5;124m'\u001b[39m: pp\u001b[38;5;241m.\u001b[39msol[\u001b[38;5;241m1\u001b[39m]}\n",
      "File \u001b[0;32m~/anaconda3/envs/env_CB/lib/python3.8/site-packages/ppxf/ppxf.py:1481\u001b[0m, in \u001b[0;36mppxf.__init__\u001b[0;34m(self, templates, galaxy, noise, velscale, start, bias, bounds, clean, component, constr_templ, constr_kinem, degree, fixed, fraction, ftol, gas_component, gas_names, gas_reddening, goodpixels, lam, linear, linear_method, mask, method, mdegree, moments, plot, quiet, reddening, reddening_func, reg_dim, reg_ord, regul, sigma_diff, sky, templates_rfft, tied, trig, velscale_ratio, vsyst, x0)\u001b[0m\n\u001b[1;32m   1478\u001b[0m \u001b[38;5;28;01melse\u001b[39;00m:   \u001b[38;5;66;03m# NOISE is an error spectrum\u001b[39;00m\n\u001b[1;32m   1479\u001b[0m     \u001b[38;5;28;01massert\u001b[39;00m galaxy\u001b[38;5;241m.\u001b[39mshape \u001b[38;5;241m==\u001b[39m noise\u001b[38;5;241m.\u001b[39mshape, \\\n\u001b[1;32m   1480\u001b[0m         \u001b[38;5;124m\"\u001b[39m\u001b[38;5;124mGALAXY and NOISE must have the same size\u001b[39m\u001b[38;5;124m\"\u001b[39m\n\u001b[0;32m-> 1481\u001b[0m     \u001b[38;5;28;01massert\u001b[39;00m np\u001b[38;5;241m.\u001b[39mall((noise \u001b[38;5;241m>\u001b[39m \u001b[38;5;241m0\u001b[39m) \u001b[38;5;241m&\u001b[39m np\u001b[38;5;241m.\u001b[39misfinite(noise)), \\\n\u001b[1;32m   1482\u001b[0m         \u001b[38;5;124m\"\u001b[39m\u001b[38;5;124mNOISE must be a positive vector\u001b[39m\u001b[38;5;124m\"\u001b[39m\n\u001b[1;32m   1483\u001b[0m     \u001b[38;5;28;01mif\u001b[39;00m \u001b[38;5;28mself\u001b[39m\u001b[38;5;241m.\u001b[39mnspec \u001b[38;5;241m==\u001b[39m \u001b[38;5;241m2\u001b[39m:   \u001b[38;5;66;03m# reflection-symmetric LOSVD\u001b[39;00m\n\u001b[1;32m   1484\u001b[0m         \u001b[38;5;28mself\u001b[39m\u001b[38;5;241m.\u001b[39mnoise \u001b[38;5;241m=\u001b[39m \u001b[38;5;28mself\u001b[39m\u001b[38;5;241m.\u001b[39mnoise\u001b[38;5;241m.\u001b[39mT\u001b[38;5;241m.\u001b[39mreshape(\u001b[38;5;241m-\u001b[39m\u001b[38;5;241m1\u001b[39m)\n",
      "\u001b[0;31mAssertionError\u001b[0m: NOISE must be a positive vector"
     ]
    }
   ],
   "source": [
    "q3df(q3di,cols=cols,rows=rows, quiet=True)\n",
    "#q3df(q3di,quiet=True)"
   ]
  },
  {
   "cell_type": "markdown",
   "metadata": {},
   "source": [
    "### 2.1. Plot the fit results - q3da.py"
   ]
  },
  {
   "cell_type": "markdown",
   "metadata": {},
   "source": [
    "Plot the results. The resulting plots are saved as `.jpg` files. Data from multiple spaxels are collated into dictionaries containing emission-line and continuum best-fit parameters and saved to various ancillary files."
   ]
  },
  {
   "cell_type": "code",
   "execution_count": null,
   "metadata": {},
   "outputs": [],
   "source": [
    "q3da(q3di,cols=cols,rows=rows)\n",
    "#q3da(q3di)"
   ]
  },
  {
   "cell_type": "markdown",
   "metadata": {},
   "source": [
    "### 2.3. Plot science products - q3dpro.py"
   ]
  },
  {
   "cell_type": "code",
   "execution_count": null,
   "metadata": {},
   "outputs": [],
   "source": [
    "qpro = q3dpro.Q3Dpro(q3di, PLATESCALE=0.05, NOCONT=True)\n",
    "\n",
    "do_kpc = False\n",
    "saveFile = False\n",
    "flx = [1e-4,1.]\n",
    "qsocenter = None\n",
    "pltarg = {'Ftot':flx,\n",
    "          'Fci':flx,\n",
    "          'Sig':[100,850],\n",
    "          'v50':[-600,600],\n",
    "          'fluxlog':True,}\n",
    "\n",
    "qpro = q3dpro.Q3Dpro(q3di)\n",
    "qpro.make_linemap('Halpha',XYSTYLE=do_kpc,LINEVAC=False,PLTNUM=10,SAVEDATA=False)\n",
    "qpro.make_linemap('[NII]6583',XYSTYLE=do_kpc,LINEVAC=False,PLTNUM=11,SAVEDATA=False)\n",
    "qpro.make_linemap('Hbeta',XYSTYLE=do_kpc,LINEVAC=False,PLTNUM=12,SAVEDATA=False)"
   ]
  },
  {
   "cell_type": "code",
   "execution_count": null,
   "metadata": {},
   "outputs": [],
   "source": [
    "qpro.make_BPT(SNRCUT=4,SAVEDATA=False)"
   ]
  }
 ],
 "metadata": {
  "kernelspec": {
   "display_name": "Python 3 (ipykernel)",
   "language": "python",
   "name": "python3"
  },
  "language_info": {
   "codemirror_mode": {
    "name": "ipython",
    "version": 3
   },
   "file_extension": ".py",
   "mimetype": "text/x-python",
   "name": "python",
   "nbconvert_exporter": "python",
   "pygments_lexer": "ipython3",
   "version": "3.8.13"
  }
 },
 "nbformat": 4,
 "nbformat_minor": 4
}
