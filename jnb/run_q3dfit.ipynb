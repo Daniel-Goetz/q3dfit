{
 "cells": [
  {
   "cell_type": "markdown",
   "metadata": {},
   "source": [
    "# q3dfit example notebook: rest frame optical, Gemini+GMOS data of PG1411+442"
   ]
  },
  {
   "cell_type": "markdown",
   "metadata": {},
   "source": [
    "<h3><font color='teal'>Installation of the environment and the package are described <a href=\"https://q3dfit.readthedocs.io/\">here</a>. </font></h3>"
   ]
  },
  {
   "cell_type": "markdown",
   "metadata": {},
   "source": [
    "This Jupyter notebook allows you to run Q3Dfit, a PSF decomposition and spectral analysis package tailored for JWST NIRSpec and MIRI IFU observations. \n",
    "\n",
    "Q3Dfit is developed as a science-enabling data product by the Early Release Science Team #1335 Q3D. You can find more information about this ERS program **Q3D** [here](https://wwwstaff.ari.uni-heidelberg.de/dwylezalek/q3d.html) and [here](https://www.stsci.edu/jwst/science-execution/approved-programs/dd-ers/program-1335).\n",
    "\n",
    "The software is based on the existing package IFSFIT developed by Dave Rupke (see [ADS link](https://ui.adsabs.harvard.edu/abs/2017ApJ...850...40R/abstract)).\n",
    "\n",
    "The following notebook will guide you through the initialization procedure and will then perform the analysis. "
   ]
  },
  {
   "cell_type": "markdown",
   "metadata": {},
   "source": [
    "## Table of Contents\n",
    "\n",
    "* [1. Initialization](#chapter1)\n",
    "    * [1.0. Setting up the directory tree](#chapter1_0)\n",
    "    * [1.1. Setting up the data and models](#chapter1_1)\n",
    "    * [1.2. Setting up the fitting parameters](#chapter1_2)\n",
    "        * [1.2.1. Emission line parameters](#chapter1_2_1)\n",
    "        * [1.2.2. Continuum parameters](#chapter1_2_2)\n",
    "    * [1.3. Setting up the plotting parameters](#chapter1_3)\n",
    "* [2. Run fitting and plotting routines](#chapter2)"
   ]
  },
  {
   "cell_type": "markdown",
   "metadata": {},
   "source": [
    "## 1. Initialization <a class=\"anchor\" id=\"chapter1\"></a>"
   ]
  },
  {
   "cell_type": "code",
   "execution_count": 1,
   "metadata": {},
   "outputs": [],
   "source": [
    "import os.path\n",
    "import numpy as np\n",
    "%matplotlib inline"
   ]
  },
  {
   "cell_type": "code",
   "execution_count": 2,
   "metadata": {},
   "outputs": [],
   "source": [
    "# Be sure to set the path to q3dfit correctly.\n",
    "# For instance:\n",
    "#import sys\n",
    "#sys.path.append('/Users/jwstuser/q3dfit/')\n",
    "import sys\n",
    "#sys.path.append(\"/Users/yuyuzo12/Desktop/research/q3d_JWST_ERS/q3dfit-git/q3dfit-dev\")\n",
    "sys.path.append(\"../\")"
   ]
  },
  {
   "cell_type": "code",
   "execution_count": 3,
   "metadata": {},
   "outputs": [],
   "source": [
    "# Convenience function\n",
    "# Ref: https://github.com/spacetelescope/jwebbinar_prep/blob/main/imaging_mode/imaging_mode_stage_1.ipynb\n",
    "from astropy.utils.data import download_file\n",
    "def download_files(files, output_directory, force=False):\n",
    "    \"\"\"Given a tuple or list of tuples containing (URL, filename),\n",
    "    download the given files into the current working directory.\n",
    "    Downloading is done via astropy's download_file. A symbolic link\n",
    "    is created in the specified output dirctory that points to the\n",
    "    downloaded file.\n",
    "    \n",
    "    Parameters\n",
    "    ----------\n",
    "    files : tuple or list of tuples\n",
    "        Each 2-tuple should contain (URL, filename), where\n",
    "        URL is the URL from which to download the file, and\n",
    "        filename will be the name of the symlink pointing to\n",
    "        the downloaded file.\n",
    "        \n",
    "    output_directory : str\n",
    "        Name of the directory in which to create the symbolic\n",
    "        links to the downloaded files\n",
    "        \n",
    "    force : bool\n",
    "        If True, the file will be downloaded regarless of whether\n",
    "        it is already present or not.\n",
    "                \n",
    "    Returns\n",
    "    -------\n",
    "    filenames : list\n",
    "        List of filenames corresponding to the symbolic links\n",
    "        of the downloaded files\n",
    "    \"\"\"\n",
    "    # In the case of a single input tuple, make it a\n",
    "    # 1 element list, for consistency.\n",
    "    filenames = []\n",
    "    if isinstance(files, tuple):\n",
    "        files = [files]\n",
    "        \n",
    "    for file in files:\n",
    "        filenames.append(file[1])\n",
    "        if force:\n",
    "            print('Downloading {}...'.format(file[1]))\n",
    "            demo_file = download_file(file[0], cache='update')\n",
    "            # Make a symbolic link using a local name for convenience\n",
    "            if not os.path.islink(os.path.join(output_directory, file[1])):\n",
    "                os.symlink(demo_file, os.path.join(output_directory, file[1]))\n",
    "        else:\n",
    "            if not os.path.isfile(os.path.join(output_directory, file[1])):\n",
    "                print('Downloading {}...'.format(file[1]))\n",
    "                demo_file = download_file(file[0], cache=True)\n",
    "                # Make a symbolic link using a local name for convenience\n",
    "                os.symlink(demo_file, os.path.join(output_directory, file[1]))\n",
    "            else:\n",
    "                print('{} already exists, skipping download...'.format(file[1]))\n",
    "                continue\n",
    "    return filenames"
   ]
  },
  {
   "cell_type": "markdown",
   "metadata": {},
   "source": [
    "### 1.0. Setting up the directory tree <a class=\"anchor\" id=\"chapter1_0\"></a>\n",
    "\n",
    "Define the directories in which the data cube(s) that you want to analyse are stored and the output directories. We recommend creating a working directory that you name after your target, in which all outputs from q3dfit will be saved. Then download test data."
   ]
  },
  {
   "cell_type": "code",
   "execution_count": 4,
   "metadata": {},
   "outputs": [],
   "source": [
    "# Base directory (book-keeping)\n",
    "volume = 'pg1411/'\n",
    "# prefix label for output files\n",
    "gal = 'pg1411'\n",
    "# Input directory\n",
    "indir = volume\n",
    "if not os.path.exists(indir):\n",
    "    os.makedirs(indir)\n",
    "# Output directory\n",
    "outdir = volume\n",
    "if not os.path.exists(outdir):\n",
    "    os.makedirs(outdir)\n",
    "# Initialization file (q3di.npy) directory\n",
    "initdir = volume\n",
    "# Output logfile\n",
    "logfile = outdir+gal+'-fitlog.txt'"
   ]
  },
  {
   "cell_type": "markdown",
   "metadata": {},
   "source": [
    "Download data from public Box folder:"
   ]
  },
  {
   "cell_type": "code",
   "execution_count": 5,
   "metadata": {},
   "outputs": [
    {
     "name": "stdout",
     "output_type": "stream",
     "text": [
      "pg1411-gmos-rebin.fits already exists, skipping download...\n",
      "pg1411-gmos.fits already exists, skipping download...\n",
      "pg1411-stellar-model.npy already exists, skipping download...\n"
     ]
    }
   ],
   "source": [
    "# make tuples of urls and download filenames\n",
    "# infile = 3x3 (spatially) binned data cube\n",
    "# qsotempfits = unbinned data cube; use central spaxel as QSO spectral template\n",
    "# stellartemplates = stellar host galaxy model, derived using method in Rupke et al. 2017\n",
    "infile_tup=('https://rhodes.box.com/shared/static/d5d9smfhxk8douhdoy0id9tqu7ujccgg.fits','pg1411-gmos-rebin.fits')\n",
    "qsotempfits_tup=('https://rhodes.box.com/shared/static/torucoo1uq8npouc7moi060rzuja26wz.fits','pg1411-gmos.fits')\n",
    "stellartemplates_tup=('https://rhodes.box.com/shared/static/3l5q91aqxwo8l42z88btd0fl988gbhd4.npy','pg1411-stellar-model.npy')\n",
    "# download files; by default don't force overwrite and take first element of output\n",
    "infile = download_files(infile_tup, indir, force=False)[0]\n",
    "qsotempfits = download_files(qsotempfits_tup, indir, force=False)[0]\n",
    "stellartemplates = download_files(stellartemplates_tup, indir, force=False)[0]\n",
    "# add subdirectory to filenames\n",
    "infile = indir+infile\n",
    "qsotempfits = indir+qsotempfits\n",
    "stellartemplates=indir+stellartemplates"
   ]
  },
  {
   "cell_type": "markdown",
   "metadata": {},
   "source": [
    "### 1.1. Setting up the data and models <a class=\"anchor\" id=\"chapter1_1\"></a>\n",
    "\n",
    "Some general information about your cube. `argsreadcube` is a dictionary of attributes sent to the `CUBE` class.\n",
    "- For non-JWST data, set `wmapext` to `None`. The WMAP extension is a [3-D weight image](https://jwst-pipeline.readthedocs.io/en/latest/jwst/data_products/science_products.html) giving the relative weights of the output spaxels.\n",
    "- Microns are the wavelength unit used internally, but `q3dfit` can accept other wavelength input units or output other units.\n",
    "- The code does calculations in flambda space, but assumes input units of MJy/sr, the JWST default. Other input wavelength units can be specified."
   ]
  },
  {
   "cell_type": "code",
   "execution_count": 6,
   "metadata": {},
   "outputs": [
    {
     "name": "stdout",
     "output_type": "stream",
     "text": [
      "Cube: Negative values encountered in variance array. Taking absolute value.\n",
      "Size of data cube: [ 17 , 26 , 6195 ]\n",
      "Wavelength range: [ 0.4613744810000001 , 0.7484831048000001 ]  micron\n"
     ]
    }
   ],
   "source": [
    "from q3dfit.readcube import Cube\n",
    "argsreadcube = {'wmapext': None,\n",
    "                'waveunit_in': 'Angstrom',\n",
    "                'fluxunit_in': 'erg/s/cm2/Angstrom',\n",
    "                'fluxnorm': 1e4}\n",
    "\n",
    "if not os.path.isfile(infile): \n",
    "    print('Data cube not found.')\n",
    "else:\n",
    "    cube = Cube(infile, **argsreadcube)\n",
    "    ncols = cube.ncols # number of columns\n",
    "    nrows = cube.nrows # number of rows\n",
    "    cube.about()"
   ]
  },
  {
   "cell_type": "markdown",
   "metadata": {},
   "source": [
    "Name and systemic redshift of the galaxy. `zsys` is presently not used within the code, but would be an input for, e.g., calculating velocity maps in routines under development (e.g., `makemaps.py`). It is used in this notebook in initializing the arrays of initial guesses below."
   ]
  },
  {
   "cell_type": "code",
   "execution_count": 7,
   "metadata": {},
   "outputs": [],
   "source": [
    "name = 'PG1411+442'\n",
    "zsys = 0.0898"
   ]
  },
  {
   "cell_type": "markdown",
   "metadata": {},
   "source": [
    "Wavelength range over which to fit data. The user can also specify sets of regions to ignore in the fit."
   ]
  },
  {
   "cell_type": "code",
   "execution_count": 8,
   "metadata": {},
   "outputs": [],
   "source": [
    "fitrange = [0.4620,0.7450] #in um\n",
    "cutrange = np.array([0.6410, 0.6430])"
   ]
  },
  {
   "cell_type": "markdown",
   "metadata": {},
   "source": [
    "Create quasar template from the central spaxel of the spatially-unbinned data cube."
   ]
  },
  {
   "cell_type": "code",
   "execution_count": 9,
   "metadata": {},
   "outputs": [
    {
     "data": {
      "image/png": "[encoded data removed]",
      "text/plain": [
       "<Figure size 432x288 with 1 Axes>"
      ]
     },
     "metadata": {
      "needs_background": "light"
     },
     "output_type": "display_data"
    }
   ],
   "source": [
    "qsotemplate = outdir+'pg1411-qsotemplate.npy'\n",
    "cube.makeqsotemplate(qsotemplate)"
   ]
  },
  {
   "cell_type": "markdown",
   "metadata": {},
   "source": [
    "### 1.2. Setting up the fitting parameters <a class=\"anchor\" id=\"chapter1_2\"></a>"
   ]
  },
  {
   "cell_type": "markdown",
   "metadata": {},
   "source": [
    "#### 1.2.1. Emission-line parameters <a class=\"anchor\" id=\"chapter1_2_1\"></a>"
   ]
  },
  {
   "cell_type": "markdown",
   "metadata": {},
   "source": [
    "What lines do you want to fit? You can choose from the linelists available [here](https://github.com/Q3D/q3dfit/tree/main/data/linelists), or in `q3dfit/data/linelists/`. By default the code assumes vacuum wavelengths, but this can be turned off (as it is here for these ground-based data)."
   ]
  },
  {
   "cell_type": "code",
   "execution_count": 10,
   "metadata": {},
   "outputs": [],
   "source": [
    "lines = ['Halpha', 'Hbeta', '[OI]6300', '[OI]6364', '[OIII]4959', '[OIII]5007', '[NII]6548', \n",
    "         '[NII]6583', '[SII]6716', '[SII]6731', '[NI]5198', '[NI]5200']\n",
    "argslinelist = {'vacuum': False}"
   ]
  },
  {
   "cell_type": "markdown",
   "metadata": {},
   "source": [
    "How many components do you want to be fitted to the emission lines?"
   ]
  },
  {
   "cell_type": "code",
   "execution_count": null,
   "metadata": {},
   "outputs": [],
   "source": [
    "maxncomp = 1"
   ]
  },
  {
   "cell_type": "markdown",
   "metadata": {},
   "source": [
    "This block sets up initial conditions for the emission-line fit to each spaxel. Emission lines are set to a common redshift and velocity dispersion. However, different sets of emission lines can have different velocities and linewidths by specifying different lines to which to tie particular emission lines."
   ]
  },
  {
   "cell_type": "code",
   "execution_count": null,
   "metadata": {},
   "outputs": [],
   "source": [
    "linetie = dict()\n",
    "ncomp = dict()\n",
    "zinit_gas = dict()\n",
    "siginit_gas = dict()\n",
    "for i in lines:\n",
    "    linetie[i] = 'Halpha'\n",
    "    ncomp[i] = np.full((ncols,nrows),maxncomp)\n",
    "    zinit_gas[i] = np.full((ncols,nrows,maxncomp),zsys)\n",
    "    siginit_gas[i] = np.full((ncols,nrows,maxncomp),50.)"
   ]
  },
  {
   "cell_type": "markdown",
   "metadata": {},
   "source": [
    "`siglim_gas` sets lower and upper bounds for the Gaussian width (sigma) of the emission line. These limits can be set globablly, for all spaxels and components, by defining a 2-element array. The limits can also be set for individual spaxels (but all components) by defining an (Ncol x Nrow x 2) array."
   ]
  },
  {
   "cell_type": "code",
   "execution_count": null,
   "metadata": {},
   "outputs": [],
   "source": [
    "# Global limit\n",
    "siglim_gas = np.array([5., 500.])\n",
    "\n",
    "# Spaxel-by-spaxel limit\n",
    "# siglim_gas = np.ndarray((dx, dy, 2))\n",
    "# siglim_gas[:,:,] = array([5.,1000.])\n",
    "# siglim_gas[13, 10, :] = array([5.,500.])"
   ]
  },
  {
   "cell_type": "markdown",
   "metadata": {},
   "source": [
    "The routine `checkcomp` automatically discards components that it deems insignificant after each fit. It does so with both a significance cut on flux, and if the linewidth is too large. If components are removed, the fit is re-run.\n",
    "\n",
    "The `sigcut` parameter determines the level of the significance cut. `ignore` is a list of lines to ignore when performing the significance cut."
   ]
  },
  {
   "cell_type": "code",
   "execution_count": null,
   "metadata": {},
   "outputs": [],
   "source": [
    "argscheckcomp = {'sigcut': 3,\n",
    "                 'ignore': ['[OI]6300', '[OI]6364','[NI]5198', '[NI]5200','[SII]6716', '[SII]6731']}"
   ]
  },
  {
   "cell_type": "markdown",
   "metadata": {},
   "source": [
    "#### Line ratio constraints\n",
    "`line1`, `line2`, and `comp` are required. `value` is the initial value of `line1`/`line2`, and `lower` and `upper` limits can also be specified. (If they are not, and the line pair is a doublet in the doublets.tbl file, then the lower and upper limits are set using the data in that file.) The ratio can also be `fixed`."
   ]
  },
  {
   "cell_type": "code",
   "execution_count": null,
   "metadata": {},
   "outputs": [],
   "source": [
    "# Required columns:\n",
    "line1 = ['[NI]5198']\n",
    "line2 = ['[NI]5200']\n",
    "comp = np.array([0], dtype=np.int32)\n",
    "\n",
    "# Optional columns:\n",
    "value = [1.5]\n",
    "fixed = [True]\n",
    "# lower = []\n",
    "# upper = []\n",
    "\n",
    "# Write table\n",
    "from astropy.table import QTable\n",
    "lineratio = QTable([line1, line2, comp, value, fixed], names=['line1', 'line2', 'comp', 'value', 'fixed'])"
   ]
  },
  {
   "cell_type": "markdown",
   "metadata": {},
   "source": [
    "#### Spectral resolution convolution\n",
    "##### Just running convolution ---\n",
    "\n",
    "If no convolution is desired, then set `spectres_convolve` to None. \n",
    "If convolution is desired, then `spectres_convolve` and `spect_instrum` are required variables.\n",
    "\n",
    "Specify the desired convolution method using `spect_instrum`. The syntax is: \n",
    "`spect_instrum = {INSTRUMENT:[METHOD]}`, which should mirror the filename in `q3dfit/data/dispersion_files/`. METHOD specifies the grating, spectral resolution [R], Δλ FWHM in [Å], velocity in [km/s].\n",
    "\n",
    "Examples convolving with: \n",
    "1. flat R=500: `spect_instrum = {'flat':['R500']}`\n",
    "2. flat velocity FWHM = 30km/s: `spect_instrum = {'flat':['kms30']}`\n",
    "3. flat Δλ FWHM = 4 Å: `spect_instrum = {'flat':['dlambda4']}`\n",
    "4. JWST NIRSPEC / G140M: `spect_instrum = {'JWST_NIRSPEC':['G140M']}`\n",
    "\n",
    "If desired flat convolution file does not exist, then a new file will be created automatically. \n",
    "\n",
    "This case applies to the GMOS B600 grating. Gemini website says R = 1688 at 4610 A for 0.5\" slit, with IFU 0.31\" eff. slit. This gives 1.69 A FWHM. I measure sometimes closer to 1.5-1.6 A."
   ]
  },
  {
   "cell_type": "code",
   "execution_count": null,
   "metadata": {},
   "outputs": [],
   "source": [
    "spect_instrum = {'flat':['dlambda1.6']}\n",
    "spectres_convolve = {'ws_instrum':spect_instrum}"
   ]
  },
  {
   "cell_type": "markdown",
   "metadata": {},
   "source": [
    "##### Creating convolution files (optional) ---\n",
    "\n",
    "If the user wants to create a dispersion file, there are 2 methods:\n",
    "\n",
    "1. First, run `from q3dfit.common.spectConvol import dispFile` and initialize: `dispObj = dispFile()`\n",
    "2. Create the files with either method A or B\n",
    "\n",
    "2.(A) Create a flat R=120 dispersion file from 10 μm to 30 μm: \n",
    "\n",
    "`dispObj.make_dispersion(120,WAVELEN=[10,30],TYPE='R')`\n",
    "\n",
    "2.(B) Create a custom dispersion file with user supplied wavelength and Resolving power lists:\n",
    "\n",
    "`dispObj.make_custom_dispersion([wavelen list],R=[some R list],FILENAME='custom_RlistA_disp')`\n",
    "\n",
    "3. Specify desired dispersion file in convolution: running custom example 2B\n",
    "\n",
    "`spect_instrum = {'custom':['RlistA']}`\n"
   ]
  },
  {
   "cell_type": "code",
   "execution_count": null,
   "metadata": {},
   "outputs": [],
   "source": [
    "#from q3dfit.common.spectConvol import dispFile\n",
    "#dobj = dispFile()\n",
    "#dispObj.make_custom_dispersion([wavelen list],R=[some R list],FILENAME='custom_RlistA_disp')\n",
    "#spect_instrum = {'custom':['RlistA']}"
   ]
  },
  {
   "cell_type": "markdown",
   "metadata": {},
   "source": [
    "#### Options to `lmfit` and `scipy.optimize.least_squares`\n",
    "`q3dfit` uses the `fit` method of the [`Model` class](https://lmfit.github.io/lmfit-py/model.html#lmfit.model.Model) of `lmfit` to call [`scipy.optimize.least_squares`](https://docs.scipy.org/doc/scipy/reference/generated/scipy.optimize.least_squares.html). Both the method and function have options which can be changed in the `q3dfit` call. To do so, add key/value pairs to the `argslinefit` dictionary, which in turn is a keyword of the `q3di` dictionary.\n",
    "\n",
    "The options to the `fit` method in `lmfit` that can currently be changed are the following:\n",
    "- `max_nfev`: maximum number of function evaluations before the fit aborts\n",
    "- `iter_cb`: if this is set to \"per_iteration\", the value of every model parameter at each function evaluation is printed to `stdout`\n",
    "\n",
    "Most parameters of `least_squares` can be changed in this way, unless they are specifically set by `lmfit`. Examples which have been tested include:\n",
    "- `x_scale`: jac\n",
    "- `tr_solver`: lsmr\n",
    "- `loss`: soft_l1\n",
    "- `ftol`, `gtol`, `xtol`"
   ]
  },
  {
   "cell_type": "code",
   "execution_count": null,
   "metadata": {},
   "outputs": [],
   "source": [
    "argslinefit = dict()\n",
    "#argslinefit['iter_cb'] = 'per_iteration'\n",
    "# As an example, to change the criteria for fit convergence from the defaults of 1.e-8 to 1.e-10:\n",
    "# argslinefit['ftol'] = 1.e-10\n",
    "# argslinefit['gtol'] = 1.e-10\n",
    "# argslinefit['xtol'] = 1.e-10"
   ]
  },
  {
   "cell_type": "markdown",
   "metadata": {},
   "source": [
    "#### 1.2.2 Continuum parameters <a class=\"anchor\" id=\"chapter1_2_2\"></a>"
   ]
  },
  {
   "cell_type": "markdown",
   "metadata": {},
   "source": [
    "`q3dfit` first masks emission lines before fitting. This sets is the default mask value in km/s for each velocity component for the first fit. During the second fit, the mask value is set automatically using the best-fit linewidths determined from the first fit."
   ]
  },
  {
   "cell_type": "code",
   "execution_count": null,
   "metadata": {},
   "outputs": [],
   "source": [
    "maskwidths_def = 500."
   ]
  },
  {
   "cell_type": "markdown",
   "metadata": {},
   "source": [
    "The continuum fitting parameters specified here are for the case of simultaneous fitting of a stellar and quasar template.\n",
    "- `hostord` = [Optional] additive Legendre polynomial for host [starlight] component. Adds components up to order `hostord`. 0 < hostord < 4\n",
    "- `qsoord` = [Optional] additive Legendre polynomial for host [starlight] component. Adds components up to order `qsoord`. 0 < hostord < 4\n",
    "- `qsoxdr` = Filename and path of quasar template created earlier with `makeqsotemplate.py`.\n",
    "- `refit` = Set to `ppxf` to fit (data - quasar) residual with stellar model.\n",
    "- `blrpar` = Set of initial Gaussian parameters (flux, observed wavelength, sigma in km/s) for fitting empirical scattered-light model (relevant only for narrow set of cases)."
   ]
  },
  {
   "cell_type": "code",
   "execution_count": null,
   "metadata": {},
   "outputs": [],
   "source": [
    "fcncontfit = 'fitqsohost'\n",
    "argscontfit = dict()\n",
    "argscontfit['qsoxdr'] = qsotemplate\n",
    "#argscontfit['qsoord'] = 3\n",
    "#argscontfit['hostord'] = 3\n",
    "argscontfit['refit'] = 'ppxf'\n",
    "argscontfit['blrpar'] = [0., 0.7150, 5000.,\n",
    "                         0., 0.5300, 5000.]\n",
    "argscontfit['add_poly_degree'] = 30"
   ]
  },
  {
   "cell_type": "markdown",
   "metadata": {},
   "source": [
    "Arguments to `lmfit`"
   ]
  },
  {
   "cell_type": "code",
   "execution_count": null,
   "metadata": {},
   "outputs": [],
   "source": [
    "argslmfit = dict()\n",
    "argslmfit['ftol'] = 1.e-10\n",
    "argslmfit['gtol'] = 1.e-10\n",
    "argslmfit['xtol'] = 1.e-10\n",
    "argscontfit['argslmfit'] = argslmfit"
   ]
  },
  {
   "cell_type": "markdown",
   "metadata": {},
   "source": [
    "Because we are fitting with `ppxf`, we set up initial guesses for stellar velocity and velocity dispersion."
   ]
  },
  {
   "cell_type": "code",
   "execution_count": null,
   "metadata": {},
   "outputs": [],
   "source": [
    "zinit_stars=np.full((ncols,nrows),zsys)\n",
    "siginit_stars = 50."
   ]
  },
  {
   "cell_type": "markdown",
   "metadata": {},
   "source": [
    "### 1.3. Setting up the plotting and output parameters <a class=\"anchor\" id=\"chapter1_3\"></a>"
   ]
  },
  {
   "cell_type": "markdown",
   "metadata": {},
   "source": [
    "One dictionary must be defined for a line plot to appear. `argspltlin1` holds the options for the first line plot, and `argspltlin2` is for the second. Parameter options are fed in as keyword/data pairs.\n",
    "\n",
    "Required keywords in each dictionary:\n",
    "* `nx`: Number of subplots in the horizontal direction\n",
    "* `ny`: Number of subplots in the vertical direction\n",
    "* Options for centerting the plot:\n",
    "    - `line`: a string list of line labels\n",
    "    - `center_obs`: a float list of wavelengths of each subplot center, in the observed (plotted) frame\n",
    "    - `center_rest`: a float list of wavelengths of each subplot center, in the rest frame, which are converted to obs. frame\n",
    "\n",
    "Optional keywords:\n",
    "* `size`: float list of widths in wavelength space of each subplot; if not specified, default is 300 $Å$\n",
    "* `IR`: set to `True` to use infrared-style plot"
   ]
  },
  {
   "cell_type": "code",
   "execution_count": null,
   "metadata": {},
   "outputs": [],
   "source": [
    "argspltlin1 = {'nx': 3,\n",
    "               'ny': 2,\n",
    "               'line': ['Hbeta', '[OIII]4959', '[NI]5200', '[OI]6300', 'Halpha', '[SII]6716'],\n",
    "               'size': [0.01, 0.0125, 0.01, 0.0125, 0.0100, 0.0100],\n",
    "               'waveunit_out': 'Angstrom'\n",
    "              }"
   ]
  },
  {
   "cell_type": "markdown",
   "metadata": {},
   "source": [
    "The continuum plot can be changed by specifying several parameters. In this case, we have chosen to output a linear/linear plot of f$_\\lambda$ vs. wavelength, in $\\overset{\\circ}{\\rm A}$."
   ]
  },
  {
   "cell_type": "code",
   "execution_count": null,
   "metadata": {},
   "outputs": [],
   "source": [
    "argscontplot = {'xstyle': 'lin',\n",
    "                'ystyle': 'lin',\n",
    "                'waveunit_out': 'Angstrom',\n",
    "                'fluxunit_out': 'flambda',\n",
    "                'mode': 'dark'}"
   ]
  },
  {
   "cell_type": "markdown",
   "metadata": {},
   "source": [
    "Set this input to `q3da` to specify that the quasar and host contributions should be separated in the output files."
   ]
  },
  {
   "cell_type": "code",
   "execution_count": null,
   "metadata": {},
   "outputs": [],
   "source": [
    "decompose_qso_fit = True"
   ]
  },
  {
   "cell_type": "markdown",
   "metadata": {},
   "source": [
    "The following cell will create the initialisation dictionary. **Do not change anything in this cell.** "
   ]
  },
  {
   "cell_type": "code",
   "execution_count": null,
   "metadata": {},
   "outputs": [],
   "source": [
    "q3di = { \\\n",
    "        # Required pars\n",
    "        'fitran': fitrange,\n",
    "        'infile': infile,\n",
    "        'label': gal,\n",
    "        'lines': lines,\n",
    "        'linetie': linetie,\n",
    "        'maxncomp': maxncomp,\n",
    "        'name': name,\n",
    "        'ncomp': ncomp,\n",
    "        'outdir': outdir,\n",
    "        'zinit_stars': zinit_stars,\n",
    "        'zinit_gas': zinit_gas,\n",
    "        'zsys_gas': zsys,\n",
    "        'spect_convol':spectres_convolve,\n",
    "        # Optional pars\n",
    "        'argscheckcomp': argscheckcomp,\n",
    "        'argscontfit': argscontfit,\n",
    "        'argscontplot': argscontplot,\n",
    "        'argsinitpar': {'lineratio': lineratio},\n",
    "        'argslinefit': argslinefit, \n",
    "        'argslinelist': argslinelist,\n",
    "        'argsreadcube': argsreadcube,\n",
    "        'argspltlin1': argspltlin1,\n",
    "        'cutrange': cutrange,\n",
    "        'decompose_qso_fit': decompose_qso_fit,\n",
    "        'fcncontfit': fcncontfit,\n",
    "        'fcncheckcomp': 'checkcomp',\n",
    "        'maskwidths_def': maskwidths_def,\n",
    "        'logfile': logfile,\n",
    "        'siglim_gas': siglim_gas,\n",
    "        'siginit_gas': siginit_gas,\n",
    "        'siginit_stars': siginit_stars,\n",
    "        'startempfile': stellartemplates\n",
    "    }"
   ]
  },
  {
   "cell_type": "markdown",
   "metadata": {},
   "source": [
    "If you want to run `q3dfit` in batch mode, run this cell, which saves q3di to an `npy` file. In your python command line, read in file and run `q3dfit` with\n",
    "<pre><code>q3di = '/path/to/the/npy/file/q3di.npy'\n",
    "from q3dfit.q3df import q3df\n",
    "q3df(q3di,cols=cols,rows=rows)</code></pre>"
   ]
  },
  {
   "cell_type": "code",
   "execution_count": null,
   "metadata": {},
   "outputs": [],
   "source": [
    "q3di_npy = 'q3di.npy'\n",
    "np.save(initdir+q3di_npy,q3di)"
   ]
  },
  {
   "cell_type": "markdown",
   "metadata": {},
   "source": [
    "## 2. Run fitting and plotting routines <a class=\"anchor\" id=\"chapter2\"></a>"
   ]
  },
  {
   "cell_type": "code",
   "execution_count": null,
   "metadata": {},
   "outputs": [],
   "source": [
    "from q3dfit.q3df import q3df\n",
    "from q3dfit.q3da import q3da\n",
    "import q3dfit.q3dpro as q3dpro"
   ]
  },
  {
   "cell_type": "markdown",
   "metadata": {},
   "source": [
    "Choose columns and rows to fit. Ranges are specified as two-element lists specifying the first and last spaxel."
   ]
  },
  {
   "cell_type": "code",
   "execution_count": null,
   "metadata": {},
   "outputs": [],
   "source": [
    "cols = 14\n",
    "rows = 11"
   ]
  },
  {
   "cell_type": "markdown",
   "metadata": {},
   "source": [
    "### 2.1. Do the fits - q3df.py"
   ]
  },
  {
   "cell_type": "markdown",
   "metadata": {},
   "source": [
    "Run the fit. Choose `quiet=False` for verbose output. An output dictionary for each spaxel is saved to a numpy binary file labeled with prefix `q3di['label']` and suffix `_col_row.npy`."
   ]
  },
  {
   "cell_type": "code",
   "execution_count": null,
   "metadata": {},
   "outputs": [],
   "source": [
    "q3df(q3di,cols=cols,rows=rows, quiet=True)\n",
    "#q3df(q3di,quiet=True)"
   ]
  },
  {
   "cell_type": "markdown",
   "metadata": {},
   "source": [
    "### 2.1. Plot the fit results - q3da.py"
   ]
  },
  {
   "cell_type": "markdown",
   "metadata": {},
   "source": [
    "Plot the results. The resulting plots are saved as `.jpg` files. Data from multiple spaxels are collated into dictionaries containing emission-line and continuum best-fit parameters and saved to various ancillary files."
   ]
  },
  {
   "cell_type": "code",
   "execution_count": null,
   "metadata": {},
   "outputs": [],
   "source": [
    "q3da(q3di,cols=cols,rows=rows)\n",
    "#q3da(q3di)"
   ]
  },
  {
   "cell_type": "markdown",
   "metadata": {},
   "source": [
    "### 2.3. Plot science products - q3dpro.py"
   ]
  },
  {
   "cell_type": "code",
   "execution_count": null,
   "metadata": {},
   "outputs": [],
   "source": [
    "qpro = q3dpro.Q3Dpro(q3di, PLATESCALE=0.05, NOCONT=True)\n",
    "\n",
    "do_kpc = False\n",
    "saveFile = False\n",
    "flx = [1e-4,1.]\n",
    "qsocenter = None\n",
    "pltarg = {'Ftot':flx,\n",
    "          'Fci':flx,\n",
    "          'Sig':[100,850],\n",
    "          'v50':[-600,600],\n",
    "          'fluxlog':True,}\n",
    "\n",
    "qpro = q3dpro.Q3Dpro(q3di)\n",
    "qpro.make_linemap('Halpha',XYSTYLE=do_kpc,LINEVAC=False,PLTNUM=10,SAVEDATA=False)\n",
    "qpro.make_linemap('[NII]6583',XYSTYLE=do_kpc,LINEVAC=False,PLTNUM=11,SAVEDATA=False)\n",
    "qpro.make_linemap('Hbeta',XYSTYLE=do_kpc,LINEVAC=False,PLTNUM=12,SAVEDATA=False)"
   ]
  },
  {
   "cell_type": "code",
   "execution_count": null,
   "metadata": {},
   "outputs": [],
   "source": [
    "qpro.make_BPT(SNRCUT=4,SAVEDATA=False)"
   ]
  }
 ],
 "metadata": {
  "kernelspec": {
   "display_name": "Python 3 (ipykernel)",
   "language": "python",
   "name": "python3"
  },
  "language_info": {
   "codemirror_mode": {
    "name": "ipython",
    "version": 3
   },
   "file_extension": ".py",
   "mimetype": "text/x-python",
   "name": "python",
   "nbconvert_exporter": "python",
   "pygments_lexer": "ipython3",
   "version": "3.8.13"
  }
 },
 "nbformat": 4,
 "nbformat_minor": 4
}
