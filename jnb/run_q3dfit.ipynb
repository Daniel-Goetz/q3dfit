{
 "cells": [
  {
   "cell_type": "markdown",
   "metadata": {},
   "source": [
    "# q3dfit example notebook: rest frame optical, Gemini+GMOS data of PG1411+442"
   ]
  },
  {
   "cell_type": "markdown",
   "metadata": {},
   "source": [
    "<h3><font color='teal'>Installation of the environment and the package are described <a href=\"https://q3dfit.readthedocs.io/\">here</a>. </font></h3>"
   ]
  },
  {
   "cell_type": "markdown",
   "metadata": {},
   "source": [
    "This Jupyter notebook allows you to run Q3Dfit, a PSF decomposition and spectral analysis package tailored for JWST NIRSpec and MIRI IFU observations. \n",
    "\n",
    "Q3Dfit is developed as a science-enabling data product by the Early Release Science Team #1335 Q3D. You can find more information about this ERS program **Q3D** [here](https://wwwstaff.ari.uni-heidelberg.de/dwylezalek/q3d.html) and [here](https://www.stsci.edu/jwst/science-execution/approved-programs/dd-ers/program-1335).\n",
    "\n",
    "The software is based on the existing package IFSFIT developed by Dave Rupke (see [ADS link](https://ui.adsabs.harvard.edu/abs/2017ApJ...850...40R/abstract)).\n",
    "\n",
    "The following notebook will guide you through the initialization procedure and will then perform the analysis. "
   ]
  },
  {
   "cell_type": "markdown",
   "metadata": {},
   "source": [
    "## Table of Contents\n",
    "\n",
    "* [1. Initialization](#chapter1)\n",
    "    * [1.0. Setting up the directory tree](#chapter1_0)\n",
    "    * [1.1. Setting up the data and models](#chapter1_1)\n",
    "    * [1.2. Setting up the fitting parameters](#chapter1_2)\n",
    "        * [1.2.1. Emission line parameters](#chapter1_2_1)\n",
    "        * [1.2.2. Continuum parameters](#chapter1_2_2)\n",
    "    * [1.3. Setting up the plotting parameters](#chapter1_3)\n",
    "* [2. Run fitting and plotting routines](#chapter2)"
   ]
  },
  {
   "cell_type": "markdown",
   "metadata": {},
   "source": [
    "## 1. Initialization <a class=\"anchor\" id=\"chapter1\"></a>"
   ]
  },
  {
   "cell_type": "code",
   "execution_count": 1,
   "metadata": {},
   "outputs": [],
   "source": [
    "import os.path\n",
    "import numpy as np\n",
    "%matplotlib inline\n",
    "# unless you are running this python notebook from the directory where q3dfit is installed, you need to point the\n",
    "# path to the package in order to import it. \n",
    "import sys\n",
    "sys.path.append(\"/home/jovyan\") # for JWebbinar"
   ]
  },
  {
   "cell_type": "code",
   "execution_count": 2,
   "metadata": {},
   "outputs": [],
   "source": [
    "# Convenience function\n",
    "# Ref: https://github.com/spacetelescope/jwebbinar_prep/blob/main/imaging_mode/imaging_mode_stage_1.ipynb\n",
    "from astropy.utils.data import download_file\n",
    "def download_files(files, output_directory, force=False):\n",
    "    \"\"\"Given a tuple or list of tuples containing (URL, filename),\n",
    "    download the given files into the current working directory.\n",
    "    Downloading is done via astropy's download_file. A symbolic link\n",
    "    is created in the specified output dirctory that points to the\n",
    "    downloaded file.\n",
    "    \n",
    "    Parameters\n",
    "    ----------\n",
    "    files : tuple or list of tuples\n",
    "        Each 2-tuple should contain (URL, filename), where\n",
    "        URL is the URL from which to download the file, and\n",
    "        filename will be the name of the symlink pointing to\n",
    "        the downloaded file.\n",
    "        \n",
    "    output_directory : str\n",
    "        Name of the directory in which to create the symbolic\n",
    "        links to the downloaded files\n",
    "        \n",
    "    force : bool\n",
    "        If True, the file will be downloaded regarless of whether\n",
    "        it is already present or not.\n",
    "                \n",
    "    Returns\n",
    "    -------\n",
    "    filenames : list\n",
    "        List of filenames corresponding to the symbolic links\n",
    "        of the downloaded files\n",
    "    \"\"\"\n",
    "    # In the case of a single input tuple, make it a\n",
    "    # 1 element list, for consistency.\n",
    "    filenames = []\n",
    "    if isinstance(files, tuple):\n",
    "        files = [files]\n",
    "        \n",
    "    for file in files:\n",
    "        filenames.append(file[1])\n",
    "        if force:\n",
    "            print('Downloading {}...'.format(file[1]))\n",
    "            demo_file = download_file(file[0], cache='update')\n",
    "            # Make a symbolic link using a local name for convenience\n",
    "            if not os.path.islink(os.path.join(output_directory, file[1])):\n",
    "                os.symlink(demo_file, os.path.join(output_directory, file[1]))\n",
    "        else:\n",
    "            if not os.path.isfile(os.path.join(output_directory, file[1])):\n",
    "                print('Downloading {}...'.format(file[1]))\n",
    "                demo_file = download_file(file[0], cache=True)\n",
    "                # Make a symbolic link using a local name for convenience\n",
    "                os.symlink(demo_file, os.path.join(output_directory, file[1]))\n",
    "            else:\n",
    "                print('{} already exists, skipping download...'.format(file[1]))\n",
    "                continue\n",
    "    return filenames"
   ]
  },
  {
   "cell_type": "markdown",
   "metadata": {},
   "source": [
    "### 1.0. Setting up the directory tree <a class=\"anchor\" id=\"chapter1_0\"></a>\n",
    "\n",
    "Define the directories in which the data cube(s) that you want to analyse are stored and the output directories. We recommend creating a working directory that you name after your target, in which all outputs from q3dfit will be saved. Then download test data."
   ]
  },
  {
   "cell_type": "code",
   "execution_count": 3,
   "metadata": {},
   "outputs": [],
   "source": [
    "# Base directory (book-keeping)\n",
    "volume = 'pg1411/'\n",
    "# prefix label for output files\n",
    "gal = 'pg1411'\n",
    "# Input directory\n",
    "indir = volume\n",
    "if not os.path.exists(indir):\n",
    "    os.makedirs(indir)\n",
    "# Output directory\n",
    "outdir = volume\n",
    "if not os.path.exists(outdir):\n",
    "    os.makedirs(outdir)\n",
    "# Initialization file (q3di.npy) directory\n",
    "initdir = volume\n",
    "# Output logfile\n",
    "logfile = outdir+gal+'-fitlog.txt'"
   ]
  },
  {
   "cell_type": "markdown",
   "metadata": {},
   "source": [
    "Download data from public Box folder:"
   ]
  },
  {
   "cell_type": "code",
   "execution_count": 4,
   "metadata": {},
   "outputs": [
    {
     "name": "stdout",
     "output_type": "stream",
     "text": [
      "pg1411-gmos-rebin.fits already exists, skipping download...\n",
      "pg1411-gmos.fits already exists, skipping download...\n",
      "pg1411-stellar-model.npy already exists, skipping download...\n"
     ]
    }
   ],
   "source": [
    "# make tuples of urls and download filenames\n",
    "# infile = 3x3 (spatially) binned data cube\n",
    "# qsotempfits = unbinned data cube; use central spaxel as QSO spectral template\n",
    "# stellartemplates = stellar host galaxy model, derived using method in Rupke et al. 2017\n",
    "infile_tup=('https://rhodes.box.com/shared/static/d5d9smfhxk8douhdoy0id9tqu7ujccgg.fits','pg1411-gmos-rebin.fits')\n",
    "qsotempfits_tup=('https://rhodes.box.com/shared/static/torucoo1uq8npouc7moi060rzuja26wz.fits','pg1411-gmos.fits')\n",
    "stellartemplates_tup=('https://rhodes.box.com/shared/static/3l5q91aqxwo8l42z88btd0fl988gbhd4.npy','pg1411-stellar-model.npy')\n",
    "# download files; by default don't force overwrite and take first element of output\n",
    "infile = download_files(infile_tup, indir, force=False)[0]\n",
    "qsotempfits = download_files(qsotempfits_tup, indir, force=False)[0]\n",
    "stellartemplates = download_files(stellartemplates_tup, indir, force=False)[0]\n",
    "# add subdirectory to filenames\n",
    "infile = indir+infile\n",
    "qsotempfits = indir+qsotempfits\n",
    "stellartemplates=indir+stellartemplates"
   ]
  },
  {
   "cell_type": "markdown",
   "metadata": {},
   "source": [
    "### 1.1. Setting up the data and models <a class=\"anchor\" id=\"chapter1_1\"></a>\n",
    "\n",
    "Some general information about your cube. `argsreadcube` is a dictionary of attributes sent to the `CUBE` class.\n",
    "- For non-JWST data, set `wmapext` to `None`. The WMAP extension is a [3-D weight image](https://jwst-pipeline.readthedocs.io/en/latest/jwst/data_products/science_products.html) giving the relative weights of the output spaxels.\n",
    "- Microns are the wavelength unit used internally, but `q3dfit` can accept other wavelength input units or output other units.\n",
    "- The code does calculations in flambda space, but assumes input units of MJy/sr, the JWST default. Other input wavelength units can be specified."
   ]
  },
  {
   "cell_type": "code",
   "execution_count": 5,
   "metadata": {},
   "outputs": [
    {
     "name": "stdout",
     "output_type": "stream",
     "text": [
      "CUBE: Negative values encountered in variance array. Taking absolute value.\n",
      "Size of data cube: [ 17 , 26 , 6195 ]\n",
      "Wavelength range: [ 0.4613744810000001 , 0.7484831048000001 ]  micron\n"
     ]
    }
   ],
   "source": [
    "from q3dfit.common.readcube import CUBE\n",
    "argsreadcube = {'wmapext': None,\n",
    "                'waveunit_in': 'Angstrom',\n",
    "                'fluxunit_in': 'erg/s/cm2/Angstrom/sr'}\n",
    "\n",
    "if not os.path.isfile(infile): \n",
    "    print('Data cube not found.')\n",
    "else:\n",
    "    cube = CUBE(infile=infile, **argsreadcube)\n",
    "    ncols = cube.ncols # number of columns\n",
    "    nrows = cube.nrows # number of rows\n",
    "    cube.about()"
   ]
  },
  {
   "cell_type": "markdown",
   "metadata": {},
   "source": [
    "Name and systemic redshift of the galaxy. `zsys` is presently not used within the code, but would be an input for, e.g., calculating velocity maps in routines under development (e.g., `makemaps.py`). It is used in this notebook in initializing the arrays of initial guesses below."
   ]
  },
  {
   "cell_type": "code",
   "execution_count": 6,
   "metadata": {},
   "outputs": [],
   "source": [
    "name = 'PG1411+442'\n",
    "zsys = 0.0898"
   ]
  },
  {
   "cell_type": "markdown",
   "metadata": {},
   "source": [
    "Wavelength range over which to fit data. The user can also specify sets of regions to ignore in the fit."
   ]
  },
  {
   "cell_type": "code",
   "execution_count": 7,
   "metadata": {},
   "outputs": [],
   "source": [
    "fitrange = [0.4620,0.7450] #in um\n",
    "cutrange = np.array([0.6410, 0.6430])"
   ]
  },
  {
   "cell_type": "markdown",
   "metadata": {},
   "source": [
    "Create quasar template from the central spaxel of the spatially-unbinned data cube."
   ]
  },
  {
   "cell_type": "code",
   "execution_count": 8,
   "metadata": {},
   "outputs": [
    {
     "data": {
      "image/png": "[encoded data removed]",
      "text/plain": [
       "<Figure size 432x288 with 1 Axes>"
      ]
     },
     "metadata": {
      "needs_background": "light"
     },
     "output_type": "display_data"
    }
   ],
   "source": [
    "from q3dfit.common.makeqsotemplate import makeqsotemplate\n",
    "qsotemplate = outdir+'pg1411-qsotemplate.npy'\n",
    "makeqsotemplate(qsotempfits, qsotemplate, wmapext=None, waveunit_in='Angstrom')"
   ]
  },
  {
   "cell_type": "markdown",
   "metadata": {},
   "source": [
    "### 1.2. Setting up the fitting parameters <a class=\"anchor\" id=\"chapter1_2\"></a>"
   ]
  },
  {
   "cell_type": "markdown",
   "metadata": {},
   "source": [
    "#### 1.2.1. Emission-line parameters <a class=\"anchor\" id=\"chapter1_2_1\"></a>"
   ]
  },
  {
   "cell_type": "markdown",
   "metadata": {},
   "source": [
    "What lines do you want to fit? You can choose from the linelists available [here](https://github.com/Q3D/q3dfit/tree/main/data/linelists), or in `q3dfit/data/linelists/`. By default the code assumes vacuum wavelengths, but this can be turned off (as it is here for these ground-based data)."
   ]
  },
  {
   "cell_type": "code",
   "execution_count": 9,
   "metadata": {},
   "outputs": [],
   "source": [
    "lines = ['Halpha', 'Hbeta', '[OI]6300', '[OI]6364', '[OIII]4959', '[OIII]5007', '[NII]6548', \n",
    "         '[NII]6583', '[SII]6716', '[SII]6731', '[NI]5198', '[NI]5200']\n",
    "argslinelist = {'vacuum': False}"
   ]
  },
  {
   "cell_type": "markdown",
   "metadata": {},
   "source": [
    "How many components do you want to be fitted to the emission lines?"
   ]
  },
  {
   "cell_type": "code",
   "execution_count": 10,
   "metadata": {},
   "outputs": [],
   "source": [
    "maxncomp = 1"
   ]
  },
  {
   "cell_type": "markdown",
   "metadata": {},
   "source": [
    "This block sets up initial conditions for the emission-line fit to each spaxel. Emission lines are set to a common redshift and velocity dispersion. However, different sets of emission lines can have different velocities and linewidths by specifying different lines to which to tie particular emission lines."
   ]
  },
  {
   "cell_type": "code",
   "execution_count": 11,
   "metadata": {},
   "outputs": [],
   "source": [
    "linetie = dict()\n",
    "ncomp = dict()\n",
    "zinit_gas = dict()\n",
    "siginit_gas = dict()\n",
    "for i in lines:\n",
    "    linetie[i] = 'Halpha'\n",
    "    ncomp[i] = np.full((ncols,nrows),maxncomp)\n",
    "    zinit_gas[i] = np.full((ncols,nrows,maxncomp),zsys)\n",
    "    siginit_gas[i] = np.full((ncols,nrows,maxncomp),50.)"
   ]
  },
  {
   "cell_type": "markdown",
   "metadata": {},
   "source": [
    "`siglim_gas` sets lower and upper bounds for the Gaussian width (sigma) of the emission line. These limits can be set globablly, for all spaxels and components, by defining a 2-element array. The limits can also be set for individual spaxels (but all components) by defining an (Ncol x Nrow x 2) array."
   ]
  },
  {
   "cell_type": "code",
   "execution_count": 12,
   "metadata": {},
   "outputs": [],
   "source": [
    "# Global limit\n",
    "siglim_gas = np.array([5., 500.])\n",
    "\n",
    "# Spaxel-by-spaxel limit\n",
    "# siglim_gas = np.ndarray((dx, dy, 2))\n",
    "# siglim_gas[:,:,] = array([5.,1000.])\n",
    "# siglim_gas[13, 10, :] = array([5.,500.])"
   ]
  },
  {
   "cell_type": "markdown",
   "metadata": {},
   "source": [
    "The routine `checkcomp` automatically discards components that it deems insignificant after each fit. It does so with both a significance cut on flux, and if the linewidth is too large. If components are removed, the fit is re-run.\n",
    "\n",
    "The `sigcut` parameter determines the level of the significance cut. `ignore` is a list of lines to ignore when performing the significance cut."
   ]
  },
  {
   "cell_type": "code",
   "execution_count": 13,
   "metadata": {},
   "outputs": [],
   "source": [
    "argscheckcomp = {'sigcut': 3,\n",
    "                 'ignore': ['[OI]6300', '[OI]6364','[NI]5198', '[NI]5200','[SII]6716', '[SII]6731']}"
   ]
  },
  {
   "cell_type": "markdown",
   "metadata": {},
   "source": [
    "#### Line ratio constraints\n",
    "`line1`, `line2`, and `comp` are required. `value` is the initial value of `line1`/`line2`, and `lower` and `upper` limits can also be specified. (If they are not, and the line pair is a doublet in the doublets.tbl file, then the lower and upper limits are set using the data in that file.) The ratio can also be `fixed`."
   ]
  },
  {
   "cell_type": "code",
   "execution_count": 14,
   "metadata": {},
   "outputs": [],
   "source": [
    "# Required columns:\n",
    "line1 = ['[NI]5198']\n",
    "line2 = ['[NI]5200']\n",
    "comp = np.array([0], dtype=np.int32)\n",
    "\n",
    "# Optional columns:\n",
    "value = [1.5]\n",
    "fixed = [True]\n",
    "# lower = []\n",
    "# upper = []\n",
    "\n",
    "# Write table\n",
    "from astropy.table import QTable\n",
    "lineratio = QTable([line1, line2, comp, value, fixed], names=['line1', 'line2', 'comp', 'value', 'fixed'])"
   ]
  },
  {
   "cell_type": "markdown",
   "metadata": {},
   "source": [
    "#### Spectral resolution convolution\n",
    "##### Just running convolution ---\n",
    "\n",
    "If no convolution is desired, then set `spectres_convolve` to None. \n",
    "If convolution is desired, then `spectres_convolve` and `spect_instrum` are required variables.\n",
    "\n",
    "Specify the desired convolution method using `spect_instrum`. The syntax is: \n",
    "`spect_instrum = {INSTRUMENT:[METHOD]}`, which should mirror the filename in `q3dfit/data/dispersion_files/`. METHOD specifies the grating, spectral resolution [R], Δλ FWHM in [Å], velocity in [km/s].\n",
    "\n",
    "Examples convolving with: \n",
    "1. flat R=500: `spect_instrum = {'flat':['R500']}`\n",
    "2. flat velocity FWHM = 30km/s: `spect_instrum = {'flat':['kms30']}`\n",
    "3. flat Δλ FWHM = 4 Å: `spect_instrum = {'flat':['dlambda4']}`\n",
    "4. JWST NIRSPEC / G140M: `spect_instrum = {'JWST_NIRSPEC':['G140M']}`\n",
    "\n",
    "If desired flat convolution file does not exist, then a new file will be created automatically. \n",
    "\n",
    "This case applies to the GMOS B600 grating. Gemini website says R = 1688 at 4610 A for 0.5\" slit, with IFU 0.31\" eff. slit. This gives 1.69 A FWHM. I measure sometimes closer to 1.5-1.6 A."
   ]
  },
  {
   "cell_type": "code",
   "execution_count": 15,
   "metadata": {},
   "outputs": [],
   "source": [
    "spect_instrum = {'flat':['dlambda1.6']}\n",
    "spectres_convolve = {'ws_instrum':spect_instrum}"
   ]
  },
  {
   "cell_type": "markdown",
   "metadata": {},
   "source": [
    "##### Creating convolution files (optional) ---\n",
    "\n",
    "If the user wants to create a dispersion file, there are 2 methods:\n",
    "\n",
    "1. First, run `from q3dfit.common.spectConvol import dispFile` and initialize: `dispObj = dispFile()`\n",
    "2. Create the files with either method A or B\n",
    "\n",
    "2.(A) Create a flat R=120 dispersion file from 10 μm to 30 μm: \n",
    "\n",
    "`dispObj.make_dispersion(120,WAVELEN=[10,30],TYPE='R')`\n",
    "\n",
    "2.(B) Create a custom dispersion file with user supplied wavelength and Resolving power lists:\n",
    "\n",
    "`dispObj.make_custom_dispersion([wavelen list],R=[some R list],FILENAME='custom_RlistA_disp')`\n",
    "\n",
    "3. Specify desired dispersion file in convolution: running custom example 2B\n",
    "\n",
    "`spect_instrum = {'custom':['RlistA']}`\n"
   ]
  },
  {
   "cell_type": "code",
   "execution_count": 16,
   "metadata": {},
   "outputs": [],
   "source": [
    "#from q3dfit.common.spectConvol import dispFile\n",
    "#dobj = dispFile()\n",
    "#dispObj.make_custom_dispersion([wavelen list],R=[some R list],FILENAME='custom_RlistA_disp')\n",
    "#spect_instrum = {'custom':['RlistA']}"
   ]
  },
  {
   "cell_type": "markdown",
   "metadata": {},
   "source": [
    "#### 1.2.2 Continuum parameters <a class=\"anchor\" id=\"chapter1_2_2\"></a>"
   ]
  },
  {
   "cell_type": "markdown",
   "metadata": {},
   "source": [
    "`q3dfit` first masks emission lines before fitting. This sets is the default mask value in km/s for each velocity component for the first fit. During the second fit, the mask value is set automatically using the best-fit linewidths determined from the first fit."
   ]
  },
  {
   "cell_type": "code",
   "execution_count": 17,
   "metadata": {},
   "outputs": [],
   "source": [
    "maskwidths_def = 500."
   ]
  },
  {
   "cell_type": "markdown",
   "metadata": {},
   "source": [
    "The continuum fitting parameters specified here are for the case of simultaneous fitting of a stellar and quasar template.\n",
    "- `hostord` = [Optional] additive Legendre polynomial for host [starlight] component. Adds components up to order `hostord`. 0 < hostord < 4\n",
    "- `qsoord` = [Optional] additive Legendre polynomial for host [starlight] component. Adds components up to order `qsoord`. 0 < hostord < 4\n",
    "- `qsoxdr` = Filename and path of quasar template created earlier with `makeqsotemplate.py`.\n",
    "- `refit` = Set to `ppxf` to fit (data - quasar) residual with stellar model.\n",
    "- `blrpar` = Set of initial Gaussian parameters (flux, observed wavelength, sigma in km/s) for fitting empirical scattered-light model (relevant only for narrow set of cases)."
   ]
  },
  {
   "cell_type": "code",
   "execution_count": 18,
   "metadata": {},
   "outputs": [],
   "source": [
    "fcncontfit = 'fitqsohost'\n",
    "argscontfit = dict()\n",
    "argscontfit['qsoxdr'] = qsotemplate\n",
    "argscontfit['refit'] = 'ppxf'\n",
    "argscontfit['blrpar'] = [0., 0.7150, 0.5000/299792.*0.7150,\n",
    "                         0., 0.5300, 0.5000/299792.*0.5300]"
   ]
  },
  {
   "cell_type": "markdown",
   "metadata": {},
   "source": [
    "Because we are fitting with `ppxf`, we set up initial guesses for stellar velocity and velocity dispersion."
   ]
  },
  {
   "cell_type": "code",
   "execution_count": 19,
   "metadata": {},
   "outputs": [],
   "source": [
    "zinit_stars=np.full((ncols,nrows),zsys)\n",
    "siginit_stars = 50."
   ]
  },
  {
   "cell_type": "markdown",
   "metadata": {},
   "source": [
    "### 1.3. Setting up the plotting and output parameters <a class=\"anchor\" id=\"chapter1_3\"></a>"
   ]
  },
  {
   "cell_type": "markdown",
   "metadata": {},
   "source": [
    "One dictionary must be defined for a line plot to appear. `argspltlin1` holds the options for the first line plot, and `argspltlin2` is for the second. Parameter options are fed in as keyword/data pairs.\n",
    "\n",
    "Required keywords in each dictionary:\n",
    "* `nx`: Number of subplots in the horizontal direction\n",
    "* `ny`: Number of subplots in the vertical direction\n",
    "* Options for centerting the plot:\n",
    "    - `line`: a string list of line labels\n",
    "    - `center_obs`: a float list of wavelengths of each subplot center, in the observed (plotted) frame\n",
    "    - `center_rest`: a float list of wavelengths of each subplot center, in the rest frame, which are converted to obs. frame\n",
    "\n",
    "Optional keywords:\n",
    "* `size`: float list of widths in wavelength space of each subplot; if not specified, default is 300 $Å$\n",
    "* `IR`: set to `True` to use infrared-style plot"
   ]
  },
  {
   "cell_type": "code",
   "execution_count": 20,
   "metadata": {},
   "outputs": [],
   "source": [
    "argspltlin1 = {'nx': 3,\n",
    "               'ny': 2,\n",
    "               'line': ['Hbeta', '[OIII]4959', '[NI]5200', '[OI]6300', 'Halpha', '[SII]6716'],\n",
    "               'size': [0.01, 0.0125, 0.01, 0.0125, 0.0100, 0.0100]}"
   ]
  },
  {
   "cell_type": "markdown",
   "metadata": {},
   "source": [
    "The continuum plot can be changed by specifying several parameters. In this case, we have chosen to output a linear/linear plot of f$_\\lambda$ vs. wavelength, in $\\overset{\\circ}{\\rm A}$."
   ]
  },
  {
   "cell_type": "code",
   "execution_count": 21,
   "metadata": {},
   "outputs": [],
   "source": [
    "argscontplot = {'xstyle': 'lin',\n",
    "                'ystyle': 'lin',\n",
    "                'waveunit_out': 'Angstrom',\n",
    "                'fluxunit_out': 'flambda',\n",
    "                'mode': 'dark'}"
   ]
  },
  {
   "cell_type": "markdown",
   "metadata": {},
   "source": [
    "Set this input to `q3da` to specify that the quasar and host contributions should be separated in the output files."
   ]
  },
  {
   "cell_type": "code",
   "execution_count": 22,
   "metadata": {},
   "outputs": [],
   "source": [
    "decompose_qso_fit = True"
   ]
  },
  {
   "cell_type": "markdown",
   "metadata": {},
   "source": [
    "The following cell will create the initialisation dictionary. **Do not change anything in this cell.** "
   ]
  },
  {
   "cell_type": "code",
   "execution_count": 23,
   "metadata": {},
   "outputs": [],
   "source": [
    "q3di = { \\\n",
    "        # Required pars\n",
    "        'fitran': fitrange,\n",
    "        'infile': infile,\n",
    "        'label': gal,\n",
    "        'lines': lines,\n",
    "        'linetie': linetie,\n",
    "        'maxncomp': maxncomp,\n",
    "        'name': name,\n",
    "        'ncomp': ncomp,\n",
    "        'outdir': outdir,\n",
    "        'zinit_stars': zinit_stars,\n",
    "        'zinit_gas': zinit_gas,\n",
    "        'zsys_gas': zsys,\n",
    "        'spect_convol':spectres_convolve,\n",
    "        # Optional pars\n",
    "        'argscheckcomp': argscheckcomp,\n",
    "        'argscontfit': argscontfit,\n",
    "        'argscontplot': argscontplot,\n",
    "        'argsinitpar': {'lineratio': lineratio},\n",
    "        'argsreadcube': argsreadcube,\n",
    "        'argslinelist': argslinelist,\n",
    "        'argspltlin1': argspltlin1,\n",
    "        'cutrange': cutrange,\n",
    "        'decompose_qso_fit': decompose_qso_fit,\n",
    "        'fcncontfit': fcncontfit,\n",
    "        'maskwidths_def': maskwidths_def,\n",
    "        'logfile': logfile,\n",
    "        'siglim_gas': siglim_gas,\n",
    "        'siginit_gas': siginit_gas,\n",
    "        'siginit_stars': siginit_stars,\n",
    "        'startempfile': stellartemplates\n",
    "    }"
   ]
  },
  {
   "cell_type": "markdown",
   "metadata": {},
   "source": [
    "If you want to run `q3dfit` in batch mode, run this cell, which saves q3di to an `npy` file. In your python command line, read in file and run `q3dfit` with\n",
    "<pre><code>q3di = '/path/to/the/npy/file/q3di.npy'\n",
    "from q3dfit.common.q3df import q3df\n",
    "q3df(q3di,cols=cols,rows=rows)</code></pre>"
   ]
  },
  {
   "cell_type": "code",
   "execution_count": 24,
   "metadata": {},
   "outputs": [],
   "source": [
    "q3di_npy = 'q3di.npy'\n",
    "np.save(initdir+q3di_npy,q3di)"
   ]
  },
  {
   "cell_type": "markdown",
   "metadata": {},
   "source": [
    "## 2. Run fitting and plotting routines <a class=\"anchor\" id=\"chapter2\"></a>"
   ]
  },
  {
   "cell_type": "code",
   "execution_count": 25,
   "metadata": {},
   "outputs": [],
   "source": [
    "from q3dfit.common.q3df import q3df\n",
    "from q3dfit.common.q3da import q3da"
   ]
  },
  {
   "cell_type": "markdown",
   "metadata": {},
   "source": [
    "Choose columns and rows to fit. Ranges are specified as two-element lists specifying the first and last spaxel."
   ]
  },
  {
   "cell_type": "code",
   "execution_count": 26,
   "metadata": {},
   "outputs": [],
   "source": [
    "cols = 14\n",
    "rows = 11"
   ]
  },
  {
   "cell_type": "markdown",
   "metadata": {},
   "source": [
    "Run the fit. Choose `quiet=False` for verbose output. An output dictionary for each spaxel is saved to a numpy binary file labeled with prefix `q3di['label']` and suffix `_col_row.npy`."
   ]
  },
  {
   "cell_type": "code",
   "execution_count": 27,
   "metadata": {},
   "outputs": [
    {
     "name": "stdout",
     "output_type": "stream",
     "text": [
      "FITLOOP: First call to FITSPEC\n",
      "FITLOOP: Setting 185.000000 points from zero/inf flux or neg/zero/inf error to np.nan\n",
      "   Iteration     Total nfev        Cost      Cost reduction    Step norm     Optimality   \n",
      "       0              1         2.6805e+05                                    6.21e+07    \n",
      "       1              2         1.9140e+04      2.49e+05       5.94e-03       1.66e+06    \n",
      "       2              3         8.0548e+03      1.11e+04       1.19e-02       3.90e+05    \n",
      "       3              4         5.7492e+03      2.31e+03       6.57e-03       6.88e+03    \n",
      "       4              5         5.3482e+03      4.01e+02       4.61e-02       1.12e+04    \n",
      "       5              6         5.1608e+03      1.87e+02       2.89e-02       1.52e+05    \n",
      "       6              7         5.1473e+03      1.34e+01       5.20e-04       5.30e+03    \n",
      "       7              8         4.7210e+03      4.26e+02       9.38e-02       1.26e+05    \n",
      "       8              9         4.7182e+03      2.81e+00       3.45e-04       9.44e+03    \n",
      "       9             10         4.2979e+03      4.20e+02       1.90e-01       3.78e+05    \n",
      "      10             11         4.2886e+03      9.36e+00       3.50e-05       1.01e+04    \n",
      "      11             12         4.2885e+03      1.17e-01       4.29e-04       5.11e+03    \n",
      "      12             15         4.2744e+03      1.41e+01       2.37e-02       1.11e+04    \n",
      "      13             16         4.2733e+03      1.05e+00       1.46e-02       3.64e+02    \n",
      "      14             18         4.2718e+03      1.56e+00       1.18e-02       3.93e+01    \n",
      "      15             21         4.2718e+03      2.70e-02       1.48e-03       1.59e+01    \n",
      "      16             22         4.2717e+03      4.20e-02       2.95e-03       4.70e+01    \n",
      "      17             23         4.2717e+03      1.98e-02       2.42e-03       1.58e+01    \n",
      "      18             25         4.2717e+03      4.54e-02       2.94e-03       3.61e+01    \n",
      "      19             26         4.2716e+03      2.11e-02       2.16e-03       1.74e+01    \n",
      "      20             28         4.2716e+03      3.98e-02       2.92e-03       2.44e+01    \n",
      "      21             29         4.2716e+03      1.84e-02       1.69e-03       1.48e+01    \n",
      "      22             30         4.2715e+03      6.20e-02       1.05e-02       6.16e+01    \n",
      "      23             31         4.2714e+03      1.02e-01       2.24e-02       1.78e+03    \n",
      "      24             32         4.2714e+03      5.04e-02       5.87e-03       1.88e+02    \n",
      "      25             33         4.2713e+03      1.00e-01       4.69e-02       5.33e+00    \n",
      "      26             36         4.2712e+03      1.21e-02       4.89e-03       2.15e+03    \n",
      "      27             37         4.2712e+03      4.30e-04       1.88e-05       3.21e+01    \n",
      "      28             39         4.2712e+03      5.82e-03       2.97e-03       8.62e+03    \n",
      "      29             40         4.2712e+03      4.73e-03       7.68e-07       1.29e+02    \n",
      "      30             41         4.2712e+03      1.34e-05       1.39e-06       1.22e+02    \n",
      "`ftol` termination condition is satisfied.\n",
      "Function evaluations 41, initial cost 2.6805e+05, final cost 4.2712e+03, first-order optimality 1.22e+02.\n",
      "[[Variables]]\n",
      "    stars_add_exp_a:    0.34539159 (init = 0)\n",
      "    stars_add_exp_b:    0.04396742 (init = 0)\n",
      "    stars_add_exp_c:    0.00394827 (init = 0)\n",
      "    stars_add_exp_d:    2.6003e-07 (init = 0)\n",
      "    stars_add_exp_e:    1.0097e-10 (init = 0)\n",
      "    stars_add_exp_f:    1.0097e-10 (init = 0)\n",
      "    stars_add_exp_g:    1.0095e-10 (init = 0)\n",
      "    stars_add_exp_h:    1.0095e-10 (init = 0)\n",
      "    qso_mult_exp_a:     0.00869591 (init = 0)\n",
      "    qso_mult_exp_b:     3.3723e-09 (init = 0)\n",
      "    qso_mult_exp_c:     0.01057032 (init = 0)\n",
      "    qso_mult_exp_d:     0.00175442 (init = 0)\n",
      "    qso_mult_exp_e:     2.1123e-09 (init = 0)\n",
      "    qso_mult_exp_f:     2.1123e-09 (init = 0)\n",
      "    qso_mult_exp_g:     0.02500387 (init = 0)\n",
      "    qso_mult_exp_h:     0.01250954 (init = 0)\n",
      "    g_0pt715flx:        1.0000e-10 (init = 0)\n",
      "    g_0pt715cwv:        0.715 (fixed)\n",
      "    g_0pt715sig:        0.00476997 (init = 0.004769967)\n",
      "    g_0pt715srsigslam:  0 (fixed)\n",
      "    g_0pt53flx:         1.0000e-10 (init = 0)\n",
      "    g_0pt53cwv:         0.53 (fixed)\n",
      "    g_0pt53sig:         0.00353578 (init = 0.003535779)\n",
      "    g_0pt53srsigslam:   0 (fixed)\n",
      " Best Fit:       Vel     sigma\n",
      " comp.  0:      -131        95\n",
      "chi2/DOF: 1.262; degree = 30; mdegree = 0\n",
      "method = capfit; Jac calls: 4; Func calls: 14; Status: 2\n",
      "linear_method = lsq_box; Nonzero Templates (>0.1%):  1 / 1\n",
      "Templates weights:\n",
      "    0.0202\n",
      "FITSPEC: Continuum fit took 0.8 s.\n",
      "   Iteration     Total nfev        Cost      Cost reduction    Step norm     Optimality   \n",
      "       0              1         7.5452e+03                                    1.53e+03    \n",
      "       1              2         7.4568e+03      8.85e+01       8.25e+01       3.38e+04    \n",
      "       2              7         6.5408e+03      9.16e+02       1.72e-02       3.65e+04    \n",
      "       3              8         5.7471e+03      7.94e+02       3.56e-02       1.12e+04    \n",
      "       4              9         5.4447e+03      3.02e+02       2.57e-01       7.34e+03    \n",
      "       5             10         5.2080e+03      2.37e+02       3.94e-01       5.85e+03    \n",
      "       6             11         5.1503e+03      5.77e+01       4.00e-01       2.19e+03    \n",
      "       7             12         5.1297e+03      2.06e+01       4.04e-01       1.80e+03    \n",
      "       8             13         5.1212e+03      8.46e+00       4.04e-01       1.26e+03    \n",
      "       9             14         5.1159e+03      5.37e+00       4.04e-01       1.29e+03    \n",
      "      10             15         5.1072e+03      8.63e+00       8.06e-01       1.27e+03    \n",
      "      11             16         5.0905e+03      1.67e+01       1.61e+00       1.27e+03    \n",
      "      12             17         5.0572e+03      3.33e+01       3.19e+00       1.23e+03    \n",
      "      13             18         4.9904e+03      6.68e+01       6.31e+00       1.16e+03    \n",
      "      14             19         4.8577e+03      1.33e+02       1.23e+01       1.43e+03    \n",
      "      15             20         4.6177e+03      2.40e+02       2.32e+01       3.09e+03    \n",
      "      16             21         4.4545e+03      1.63e+02       2.25e+01       2.90e+03    \n",
      "      17             22         4.4237e+03      3.07e+01       5.27e+00       3.96e+02    \n",
      "      18             23         4.4232e+03      5.59e-01       5.06e-01       1.36e+01    \n",
      "      19             24         4.4232e+03      6.73e-03       1.12e-01       3.21e+00    \n",
      "      20             25         4.4232e+03      2.44e-04       2.10e-02       5.91e-01    \n",
      "      21             26         4.4232e+03      8.82e-06       4.01e-03       1.15e-01    \n",
      "`ftol` termination condition is satisfied.\n",
      "Function evaluations 26, initial cost 7.5452e+03, final cost 4.4232e+03, first-order optimality 1.15e-01.\n",
      "[[Model]]\n",
      "    (((((((((((Model(manygauss, prefix='Halpha_0_', SPECRES='<q3dfit.common.spectConvol.spectConvol object at 0x7fa089196700>') + Model(manygauss, prefix='Hbeta_0_', SPECRES='<q3dfit.common.spectConvol.spectConvol object at 0x7fa089196700>')) + Model(manygauss, prefix='lbOIrb6300_0_', SPECRES='<q3dfit.common.spectConvol.spectConvol object at 0x7fa089196700>')) + Model(manygauss, prefix='lbOIrb6364_0_', SPECRES='<q3dfit.common.spectConvol.spectConvol object at 0x7fa089196700>')) + Model(manygauss, prefix='lbOIIIrb4959_0_', SPECRES='<q3dfit.common.spectConvol.spectConvol object at 0x7fa089196700>')) + Model(manygauss, prefix='lbOIIIrb5007_0_', SPECRES='<q3dfit.common.spectConvol.spectConvol object at 0x7fa089196700>')) + Model(manygauss, prefix='lbNIIrb6548_0_', SPECRES='<q3dfit.common.spectConvol.spectConvol object at 0x7fa089196700>')) + Model(manygauss, prefix='lbNIIrb6583_0_', SPECRES='<q3dfit.common.spectConvol.spectConvol object at 0x7fa089196700>')) + Model(manygauss, prefix='lbSIIrb6716_0_', SPECRES='<q3dfit.common.spectConvol.spectConvol object at 0x7fa089196700>')) + Model(manygauss, prefix='lbSIIrb6731_0_', SPECRES='<q3dfit.common.spectConvol.spectConvol object at 0x7fa089196700>')) + Model(manygauss, prefix='lbNIrb5198_0_', SPECRES='<q3dfit.common.spectConvol.spectConvol object at 0x7fa089196700>')) + Model(manygauss, prefix='lbNIrb5200_0_', SPECRES='<q3dfit.common.spectConvol.spectConvol object at 0x7fa089196700>'))\n",
      "[[Fit Statistics]]\n",
      "    # fitting method   = least_squares\n",
      "    # function evals   = 26\n",
      "    # data points      = 5920\n",
      "    # variables        = 10\n",
      "    chi-square         = 8846.36660\n",
      "    reduced chi-square = 1.49684714\n",
      "    Akaike info crit   = 2397.88861\n",
      "    Bayesian info crit = 2464.74952\n",
      "[[Variables]]\n",
      "    Halpha_0_flx:                 0.13825562 +/- 0.00348939 (2.52%) (init = 0.0118355)\n",
      "    Halpha_0_cwv:                 0.71471251 +/- 3.0317e-06 (0.00%) (init = 0.7152139)\n",
      "    Halpha_0_sig:                 54.5252660 +/- 1.40360593 (2.57%) (init = 50)\n",
      "    Halpha_0_srsigslam:           0 (fixed)\n",
      "    Hbeta_0_flx:                  0.05313554 +/- 0.00612873 (11.53%) (init = 0)\n",
      "    Hbeta_0_cwv:                  0.52941849 +/- 2.2457e-06 (0.00%) == '4.861350e-01 / 6.562800e-01 * Halpha_0_cwv'\n",
      "    Hbeta_0_sig:                  54.5252660 +/- 1.40360592 (2.57%) == 'Halpha_0_sig'\n",
      "    Hbeta_0_srsigslam:            0 (fixed)\n",
      "    lbOIrb6300_0_flx:             8.3029e-04 +/- 0.00187820 (226.21%) (init = 0.003297248)\n",
      "    lbOIrb6300_0_cwv:             0.68612532 +/- 2.9104e-06 (0.00%) == '6.300300e-01 / 6.562800e-01 * Halpha_0_cwv'\n",
      "    lbOIrb6300_0_sig:             54.5252660 +/- 1.40360592 (2.57%) == 'Halpha_0_sig'\n",
      "    lbOIrb6300_0_srsigslam:       0 (fixed)\n",
      "    lbOIrb6364_0_flx:             2.7676e-04 +/- 6.2607e-04 (226.21%) == 'lbOIrb6300_0_flx/3.'\n",
      "    lbOIrb6364_0_cwv:             0.69303852 +/- 2.9397e-06 (0.00%) == '6.363780e-01 / 6.562800e-01 * Halpha_0_cwv'\n",
      "    lbOIrb6364_0_sig:             54.5252660 +/- 1.40360592 (2.57%) == 'Halpha_0_sig'\n",
      "    lbOIrb6364_0_srsigslam:       0 (fixed)\n",
      "    lbOIIIrb4959_0_flx:           0.01495751 +/- 0.00154760 (10.35%) == 'lbOIIIrb5007_0_flx/3.'\n",
      "    lbOIIIrb4959_0_cwv:           0.54004312 +/- 2.2908e-06 (0.00%) == '4.958910e-01 / 6.562800e-01 * Halpha_0_cwv'\n",
      "    lbOIIIrb4959_0_sig:           54.5252660 +/- 1.40360592 (2.57%) == 'Halpha_0_sig'\n",
      "    lbOIIIrb4959_0_srsigslam:     0 (fixed)\n",
      "    lbOIIIrb5007_0_flx:           0.04487252 +/- 0.00464281 (10.35%) (init = 0.005032584)\n",
      "    lbOIIIrb5007_0_cwv:           0.54526287 +/- 2.3129e-06 (0.00%) == '5.006840e-01 / 6.562800e-01 * Halpha_0_cwv'\n",
      "    lbOIIIrb5007_0_sig:           54.5252660 +/- 1.40360592 (2.57%) == 'Halpha_0_sig'\n",
      "    lbOIIIrb5007_0_srsigslam:     0 (fixed)\n",
      "    lbNIIrb6548_0_flx:            0.02039987 +/- 7.7879e-04 (3.82%) == 'lbNIIrb6583_0_flx/3.'\n",
      "    lbNIIrb6548_0_cwv:            0.71310618 +/- 3.0249e-06 (0.00%) == '6.548050e-01 / 6.562800e-01 * Halpha_0_cwv'\n",
      "    lbNIIrb6548_0_sig:            54.5252660 +/- 1.40360592 (2.57%) == 'Halpha_0_sig'\n",
      "    lbNIIrb6548_0_srsigslam:      0 (fixed)\n",
      "    lbNIIrb6583_0_flx:            0.06119961 +/- 0.00233637 (3.82%) (init = 0.007728245)\n",
      "    lbNIIrb6583_0_cwv:            0.71696137 +/- 3.0412e-06 (0.00%) == '6.583450e-01 / 6.562800e-01 * Halpha_0_cwv'\n",
      "    lbNIIrb6583_0_sig:            54.5252660 +/- 1.40360592 (2.57%) == 'Halpha_0_sig'\n",
      "    lbNIIrb6583_0_srsigslam:      0 (fixed)\n",
      "    lbSIIrb6716_0_flx:            0.02608361 +/- 0.00192937 (7.40%) (init = 0)\n",
      "    lbSIIrb6716_0_cwv:            0.73144446 +/- 3.1027e-06 (0.00%) == '6.716440e-01 / 6.562800e-01 * Halpha_0_cwv'\n",
      "    lbSIIrb6716_0_sig:            54.5252660 +/- 1.40360592 (2.57%) == 'Halpha_0_sig'\n",
      "    lbSIIrb6716_0_srsigslam:      0 (fixed)\n",
      "    lbSIIrb6731_0_flx:            0.02104443 +/- 0.00183921 (8.74%) (init = 0)\n",
      "    lbSIIrb6731_0_cwv:            0.73301049 +/- 3.1093e-06 (0.00%) == '6.730820e-01 / 6.562800e-01 * Halpha_0_cwv'\n",
      "    lbSIIrb6731_0_sig:            54.5252660 +/- 1.40360592 (2.57%) == 'Halpha_0_sig'\n",
      "    lbSIIrb6731_0_srsigslam:      0 (fixed)\n",
      "    lbNIrb5198_0_flx:             0.00449507 +/- 0.00267797 (59.58%) (init = 0.0001095495)\n",
      "    lbNIrb5198_0_cwv:             0.56606999 +/- 2.4012e-06 (0.00%) == '5.197900e-01 / 6.562800e-01 * Halpha_0_cwv'\n",
      "    lbNIrb5198_0_sig:             54.5252660 +/- 1.40360592 (2.57%) == 'Halpha_0_sig'\n",
      "    lbNIrb5198_0_srsigslam:       0 (fixed)\n",
      "    lbNIrb5200_0_flx:             0.00299671 +/- 0.00178531 (59.58%) == 'lbNIrb5198_0_flx/lbNIrb5198_div_lbNIrb5200_0'\n",
      "    lbNIrb5200_0_cwv:             0.56632701 +/- 2.4023e-06 (0.00%) == '5.200260e-01 / 6.562800e-01 * Halpha_0_cwv'\n",
      "    lbNIrb5200_0_sig:             54.5252660 +/- 1.40360592 (2.57%) == 'Halpha_0_sig'\n",
      "    lbNIrb5200_0_srsigslam:       0 (fixed)\n",
      "    lbNIrb5198_div_lbNIrb5200_0:  1.5 (fixed)\n",
      "FITSPEC: Line fit took 11.9 s.\n",
      "FITLOOP: Second call to FITSPEC\n",
      "FITLOOP: Setting 185.000000 points from zero/inf flux or neg/zero/inf error to np.nan\n"
     ]
    },
    {
     "name": "stdout",
     "output_type": "stream",
     "text": [
      "   Iteration     Total nfev        Cost      Cost reduction    Step norm     Optimality   \n",
      "       0              1         3.0985e+05                                    8.36e+07    \n",
      "       1              2         4.5614e+04      2.64e+05       5.94e-03       3.10e+06    \n",
      "       2              3         1.2196e+04      3.34e+04       1.19e-02       1.12e+06    \n",
      "       3              4         5.9309e+03      6.26e+03       8.59e-03       3.30e+03    \n",
      "       4              5         5.7654e+03      1.66e+02       4.75e-02       1.18e+04    \n",
      "       5              6         5.5500e+03      2.15e+02       2.89e-02       2.91e+05    \n",
      "       6              7         5.5373e+03      1.27e+01       5.31e-04       5.96e+03    \n",
      "       7              8         5.0692e+03      4.68e+02       9.43e-02       1.15e+05    \n",
      "       8              9         5.0674e+03      1.88e+00       2.74e-04       1.10e+04    \n",
      "       9             10         4.5933e+03      4.74e+02       1.90e-01       4.21e+05    \n",
      "      10             11         4.5869e+03      6.39e+00       2.16e-05       2.07e+04    \n",
      "      11             12         4.5863e+03      5.83e-01       4.44e-04       6.38e+03    \n",
      "      12             13         4.5859e+03      3.61e-01       7.75e-05       1.01e+03    \n",
      "      13             14         4.5850e+03      9.57e-01       3.95e-05       1.07e+04    \n",
      "      14             15         4.5848e+03      1.83e-01       3.12e-05       2.41e+03    \n",
      "      15             16         4.5846e+03      1.87e-01       6.79e-05       1.00e+03    \n",
      "      16             17         4.5842e+03      3.71e-01       3.68e-05       4.62e+03    \n",
      "      17             19         4.5791e+03      5.16e+00       7.96e-03       4.19e+03    \n",
      "      18             20         4.5763e+03      2.81e+00       5.61e-03       3.89e+03    \n",
      "      19             21         4.5723e+03      3.98e+00       1.01e-02       3.44e+03    \n",
      "      20             22         4.5637e+03      8.61e+00       5.81e-02       4.00e+04    \n",
      "      21             23         4.5636e+03      5.57e-02       1.97e-06       8.98e+02    \n",
      "      22             24         4.5636e+03      1.69e-02       3.29e-04       1.42e+02    \n",
      "      23             25         4.5636e+03      5.99e-03       3.93e-03       3.81e+03    \n",
      "      24             26         4.5636e+03      4.07e-03       3.40e-05       2.09e+02    \n",
      "      25             27         4.5636e+03      4.44e-03       3.16e-03       7.29e+02    \n",
      "      26             28         4.5636e+03      1.86e-03       2.81e-05       2.41e+02    \n",
      "      27             29         4.5636e+03      1.48e-03       1.45e-03       4.84e+02    \n",
      "      28             30         4.5636e+03      7.13e-04       1.71e-05       2.41e+02    \n",
      "      29             32         4.5636e+03      1.47e-02       1.46e-02       1.46e+01    \n",
      "      30             34         4.5636e+03      4.33e-04       3.80e-04       6.86e+01    \n",
      "      31             35         4.5636e+03      3.07e-04       3.57e-04       2.75e+01    \n",
      "      32             36         4.5636e+03      1.30e-06       1.80e-06       2.74e+01    \n",
      "`ftol` termination condition is satisfied.\n",
      "Function evaluations 36, initial cost 3.0985e+05, final cost 4.5636e+03, first-order optimality 2.74e+01.\n",
      "[[Variables]]\n",
      "    stars_add_exp_a:    0.40101452 (init = 0)\n",
      "    stars_add_exp_b:    0.04528240 (init = 0)\n",
      "    stars_add_exp_c:    9.3871e-11 (init = 0)\n",
      "    stars_add_exp_d:    1.9247e-07 (init = 0)\n",
      "    stars_add_exp_e:    1.0085e-10 (init = 0)\n",
      "    stars_add_exp_f:    1.0085e-10 (init = 0)\n",
      "    stars_add_exp_g:    1.0073e-10 (init = 0)\n",
      "    stars_add_exp_h:    1.0073e-10 (init = 0)\n",
      "    qso_mult_exp_a:     0.00584355 (init = 0)\n",
      "    qso_mult_exp_b:     0.00185789 (init = 0)\n",
      "    qso_mult_exp_c:     7.7111e-04 (init = 0)\n",
      "    qso_mult_exp_d:     5.1151e-09 (init = 0)\n",
      "    qso_mult_exp_e:     4.8490e-08 (init = 0)\n",
      "    qso_mult_exp_f:     4.8490e-08 (init = 0)\n",
      "    qso_mult_exp_g:     1.9482e-06 (init = 0)\n",
      "    qso_mult_exp_h:     8.0451e-07 (init = 0)\n",
      "    g_0pt715flx:        1.0000e-10 (init = 0)\n",
      "    g_0pt715cwv:        0.715 (fixed)\n",
      "    g_0pt715sig:        0.00476997 (init = 0.004769967)\n",
      "    g_0pt715srsigslam:  0 (fixed)\n",
      "    g_0pt53flx:         1.0000e-10 (init = 0)\n",
      "    g_0pt53cwv:         0.53 (fixed)\n",
      "    g_0pt53sig:         0.00353578 (init = 0.003535779)\n",
      "    g_0pt53srsigslam:   0 (fixed)\n",
      " Best Fit:       Vel     sigma\n",
      " comp.  0:       -21        85\n",
      "chi2/DOF: 1.278; degree = 30; mdegree = 0\n",
      "method = capfit; Jac calls: 3; Func calls: 11; Status: 2\n",
      "linear_method = lsq_box; Nonzero Templates (>0.1%):  1 / 1\n",
      "Templates weights:\n",
      "    0.0207\n",
      "FITSPEC: Continuum fit took 0.9 s.\n",
      "   Iteration     Total nfev        Cost      Cost reduction    Step norm     Optimality   \n",
      "       0              1         4.4058e+03                                    4.65e+02    \n",
      "       1              2         4.4009e+03      4.88e+00       1.82e+00       1.07e+02    \n",
      "       2              3         4.4008e+03      9.28e-02       4.06e-01       1.38e+01    \n",
      "       3              4         4.4008e+03      2.19e-03       6.23e-02       2.27e+00    \n",
      "       4              5         4.4008e+03      4.90e-05       9.24e-03       3.32e-01    \n",
      "       5              6         4.4008e+03      1.09e-06       1.38e-03       5.03e-02    \n",
      "`ftol` termination condition is satisfied.\n",
      "Function evaluations 6, initial cost 4.4058e+03, final cost 4.4008e+03, first-order optimality 5.03e-02.\n",
      "[[Model]]\n",
      "    (((((((((((Model(manygauss, prefix='Halpha_0_', SPECRES='<q3dfit.common.spectConvol.spectConvol object at 0x7fa089196700>') + Model(manygauss, prefix='Hbeta_0_', SPECRES='<q3dfit.common.spectConvol.spectConvol object at 0x7fa089196700>')) + Model(manygauss, prefix='lbOIrb6300_0_', SPECRES='<q3dfit.common.spectConvol.spectConvol object at 0x7fa089196700>')) + Model(manygauss, prefix='lbOIrb6364_0_', SPECRES='<q3dfit.common.spectConvol.spectConvol object at 0x7fa089196700>')) + Model(manygauss, prefix='lbOIIIrb4959_0_', SPECRES='<q3dfit.common.spectConvol.spectConvol object at 0x7fa089196700>')) + Model(manygauss, prefix='lbOIIIrb5007_0_', SPECRES='<q3dfit.common.spectConvol.spectConvol object at 0x7fa089196700>')) + Model(manygauss, prefix='lbNIIrb6548_0_', SPECRES='<q3dfit.common.spectConvol.spectConvol object at 0x7fa089196700>')) + Model(manygauss, prefix='lbNIIrb6583_0_', SPECRES='<q3dfit.common.spectConvol.spectConvol object at 0x7fa089196700>')) + Model(manygauss, prefix='lbSIIrb6716_0_', SPECRES='<q3dfit.common.spectConvol.spectConvol object at 0x7fa089196700>')) + Model(manygauss, prefix='lbSIIrb6731_0_', SPECRES='<q3dfit.common.spectConvol.spectConvol object at 0x7fa089196700>')) + Model(manygauss, prefix='lbNIrb5198_0_', SPECRES='<q3dfit.common.spectConvol.spectConvol object at 0x7fa089196700>')) + Model(manygauss, prefix='lbNIrb5200_0_', SPECRES='<q3dfit.common.spectConvol.spectConvol object at 0x7fa089196700>'))\n",
      "[[Fit Statistics]]\n",
      "    # fitting method   = least_squares\n",
      "    # function evals   = 6\n",
      "    # data points      = 5920\n",
      "    # variables        = 10\n",
      "    chi-square         = 8801.60369\n",
      "    reduced chi-square = 1.48927304\n",
      "    Akaike info crit   = 2367.85716\n",
      "    Bayesian info crit = 2434.71808\n",
      "[[Variables]]\n",
      "    Halpha_0_flx:                 0.13900399 +/- 0.00363375 (2.61%) (init = 0.1382556)\n",
      "    Halpha_0_cwv:                 0.71471214 +/- 3.0079e-06 (0.00%) (init = 0.7147125)\n",
      "    Halpha_0_sig:                 52.2284815 +/- 1.40555232 (2.69%) (init = 54.52527)\n",
      "    Halpha_0_srsigslam:           0 (fixed)\n",
      "    Hbeta_0_flx:                  0.05866848 +/- 0.00631758 (10.77%) (init = 0.05313554)\n",
      "    Hbeta_0_cwv:                  0.52941822 +/- 2.2280e-06 (0.00%) == '4.861350e-01 / 6.562800e-01 * Halpha_0_cwv'\n",
      "    Hbeta_0_sig:                  52.2284815 +/- 1.40555232 (2.69%) == 'Halpha_0_sig'\n",
      "    Hbeta_0_srsigslam:            0 (fixed)\n",
      "    lbOIrb6300_0_flx:             0.00197075 +/- 0.00192231 (97.54%) (init = 0.000830286)\n",
      "    lbOIrb6300_0_cwv:             0.68612496 +/- 2.8875e-06 (0.00%) == '6.300300e-01 / 6.562800e-01 * Halpha_0_cwv'\n",
      "    lbOIrb6300_0_sig:             52.2284815 +/- 1.40555232 (2.69%) == 'Halpha_0_sig'\n",
      "    lbOIrb6300_0_srsigslam:       0 (fixed)\n",
      "    lbOIrb6364_0_flx:             6.5692e-04 +/- 6.4077e-04 (97.54%) == 'lbOIrb6300_0_flx/3.'\n",
      "    lbOIrb6364_0_cwv:             0.69303816 +/- 2.9166e-06 (0.00%) == '6.363780e-01 / 6.562800e-01 * Halpha_0_cwv'\n",
      "    lbOIrb6364_0_sig:             52.2284815 +/- 1.40555232 (2.69%) == 'Halpha_0_sig'\n",
      "    lbOIrb6364_0_srsigslam:       0 (fixed)\n",
      "    lbOIIIrb4959_0_flx:           0.01529190 +/- 0.00159138 (10.41%) == 'lbOIIIrb5007_0_flx/3.'\n",
      "    lbOIIIrb4959_0_cwv:           0.54004285 +/- 2.2728e-06 (0.00%) == '4.958910e-01 / 6.562800e-01 * Halpha_0_cwv'\n",
      "    lbOIIIrb4959_0_sig:           52.2284815 +/- 1.40555232 (2.69%) == 'Halpha_0_sig'\n",
      "    lbOIIIrb4959_0_srsigslam:     0 (fixed)\n",
      "    lbOIIIrb5007_0_flx:           0.04587569 +/- 0.00477415 (10.41%) (init = 0.04487252)\n",
      "    lbOIIIrb5007_0_cwv:           0.54526259 +/- 2.2947e-06 (0.00%) == '5.006840e-01 / 6.562800e-01 * Halpha_0_cwv'\n",
      "    lbOIIIrb5007_0_sig:           52.2284815 +/- 1.40555232 (2.69%) == 'Halpha_0_sig'\n",
      "    lbOIIIrb5007_0_srsigslam:     0 (fixed)\n",
      "    lbNIIrb6548_0_flx:            0.02003657 +/- 7.9982e-04 (3.99%) == 'lbNIIrb6583_0_flx/3.'\n",
      "    lbNIIrb6548_0_cwv:            0.71310582 +/- 3.0011e-06 (0.00%) == '6.548050e-01 / 6.562800e-01 * Halpha_0_cwv'\n",
      "    lbNIIrb6548_0_sig:            52.2284815 +/- 1.40555232 (2.69%) == 'Halpha_0_sig'\n",
      "    lbNIIrb6548_0_srsigslam:      0 (fixed)\n",
      "    lbNIIrb6583_0_flx:            0.06010970 +/- 0.00239947 (3.99%) (init = 0.06119961)\n",
      "    lbNIIrb6583_0_cwv:            0.71696100 +/- 3.0173e-06 (0.00%) == '6.583450e-01 / 6.562800e-01 * Halpha_0_cwv'\n",
      "    lbNIIrb6583_0_sig:            52.2284815 +/- 1.40555232 (2.69%) == 'Halpha_0_sig'\n",
      "    lbNIIrb6583_0_srsigslam:      0 (fixed)\n",
      "    lbSIIrb6716_0_flx:            0.02604952 +/- 0.00197606 (7.59%) (init = 0.02608361)\n",
      "    lbSIIrb6716_0_cwv:            0.73144408 +/- 3.0783e-06 (0.00%) == '6.716440e-01 / 6.562800e-01 * Halpha_0_cwv'\n",
      "    lbSIIrb6716_0_sig:            52.2284815 +/- 1.40555232 (2.69%) == 'Halpha_0_sig'\n",
      "    lbSIIrb6716_0_srsigslam:      0 (fixed)\n",
      "    lbSIIrb6731_0_flx:            0.02057788 +/- 0.00188543 (9.16%) (init = 0.02104443)\n",
      "    lbSIIrb6731_0_cwv:            0.73301012 +/- 3.0849e-06 (0.00%) == '6.730820e-01 / 6.562800e-01 * Halpha_0_cwv'\n",
      "    lbSIIrb6731_0_sig:            52.2284815 +/- 1.40555232 (2.69%) == 'Halpha_0_sig'\n",
      "    lbSIIrb6731_0_srsigslam:      0 (fixed)\n",
      "    lbNIrb5198_0_flx:             0.00403761 +/- 0.00276858 (68.57%) (init = 0.004495068)\n",
      "    lbNIrb5198_0_cwv:             0.56606970 +/- 2.3823e-06 (0.00%) == '5.197900e-01 / 6.562800e-01 * Halpha_0_cwv'\n",
      "    lbNIrb5198_0_sig:             52.2284815 +/- 1.40555232 (2.69%) == 'Halpha_0_sig'\n",
      "    lbNIrb5198_0_srsigslam:       0 (fixed)\n",
      "    lbNIrb5200_0_flx:             0.00269174 +/- 0.00184572 (68.57%) == 'lbNIrb5198_0_flx/lbNIrb5198_div_lbNIrb5200_0'\n",
      "    lbNIrb5200_0_cwv:             0.56632672 +/- 2.3834e-06 (0.00%) == '5.200260e-01 / 6.562800e-01 * Halpha_0_cwv'\n",
      "    lbNIrb5200_0_sig:             52.2284815 +/- 1.40555232 (2.69%) == 'Halpha_0_sig'\n",
      "    lbNIrb5200_0_srsigslam:       0 (fixed)\n",
      "    lbNIrb5198_div_lbNIrb5200_0:  1.5 (fixed)\n",
      "FITSPEC: Line fit took 3.2 s.\n"
     ]
    }
   ],
   "source": [
    "q3df(q3di,cols=cols,rows=rows, quiet=False)"
   ]
  },
  {
   "cell_type": "markdown",
   "metadata": {},
   "source": [
    "Plot the results. The resulting plots are saved as `.jpg` files. Data from multiple spaxels are collated into dictionaries containing emission-line and continuum best-fit parameters and saved to various ancillary files."
   ]
  },
  {
   "cell_type": "code",
   "execution_count": null,
   "metadata": {},
   "outputs": [
    {
     "name": "stdout",
     "output_type": "stream",
     "text": [
      "CUBE: Negative values encountered in variance array. Taking absolute value.\n",
      "> \u001b[0;32m/Users/caroline/Documents/ARI-Heidelberg/Q3D/QUESTFIT/q3dfit/common/pltlin.py\u001b[0m(203)\u001b[0;36mpltlin\u001b[0;34m()\u001b[0m\n",
      "\u001b[0;32m    201 \u001b[0;31m                        \u001b[0;31m#     xticks[i] = float('{:.2e}'.format(el))\u001b[0m\u001b[0;34m\u001b[0m\u001b[0;34m\u001b[0m\u001b[0;34m\u001b[0m\u001b[0m\n",
      "\u001b[0m\u001b[0;32m    202 \u001b[0;31m            \u001b[0;32mimport\u001b[0m \u001b[0mpdb\u001b[0m\u001b[0;34m;\u001b[0m \u001b[0mpdb\u001b[0m\u001b[0;34m.\u001b[0m\u001b[0mset_trace\u001b[0m\u001b[0;34m(\u001b[0m\u001b[0;34m)\u001b[0m\u001b[0;34m\u001b[0m\u001b[0;34m\u001b[0m\u001b[0m\n",
      "\u001b[0m\u001b[0;32m--> 203 \u001b[0;31m            \u001b[0mxticks\u001b[0m \u001b[0;34m=\u001b[0m \u001b[0mnp\u001b[0m\u001b[0;34m.\u001b[0m\u001b[0mdelete\u001b[0m\u001b[0;34m(\u001b[0m\u001b[0mxticks\u001b[0m\u001b[0;34m,\u001b[0m \u001b[0;34m[\u001b[0m\u001b[0;36m0\u001b[0m\u001b[0;34m]\u001b[0m\u001b[0;34m)\u001b[0m\u001b[0;34m\u001b[0m\u001b[0;34m\u001b[0m\u001b[0m\n",
      "\u001b[0m\u001b[0;32m    204 \u001b[0;31m            \u001b[0;31m# create minor x-ticks\u001b[0m\u001b[0;34m\u001b[0m\u001b[0;34m\u001b[0m\u001b[0;34m\u001b[0m\u001b[0m\n",
      "\u001b[0m\u001b[0;32m    205 \u001b[0;31m            \u001b[0mxmticks\u001b[0m \u001b[0;34m=\u001b[0m \u001b[0mnp\u001b[0m\u001b[0;34m.\u001b[0m\u001b[0marray\u001b[0m\u001b[0;34m(\u001b[0m\u001b[0;34m[\u001b[0m\u001b[0;36m0\u001b[0m\u001b[0;34m]\u001b[0m\u001b[0;34m)\u001b[0m\u001b[0;34m\u001b[0m\u001b[0;34m\u001b[0m\u001b[0m\n",
      "\u001b[0m\n",
      "ipdb> xran[1]\n",
      "0.5344182300567627\n",
      "ipdb> xran\n",
      "array([0.52441823, 0.53441823])\n"
     ]
    }
   ],
   "source": [
    "q3da(q3di,cols=cols,rows=rows)"
   ]
  }
 ],
 "metadata": {
  "kernelspec": {
   "display_name": "Python 3 (ipykernel)",
   "language": "python",
   "name": "python3"
  },
  "language_info": {
   "codemirror_mode": {
    "name": "ipython",
    "version": 3
   },
   "file_extension": ".py",
   "mimetype": "text/x-python",
   "name": "python",
   "nbconvert_exporter": "python",
   "pygments_lexer": "ipython3",
   "version": "3.8.12"
  }
 },
 "nbformat": 4,
 "nbformat_minor": 4
}
