{
 "cells": [
  {
   "cell_type": "markdown",
   "metadata": {},
   "source": [
    "# Run Q3Dfit from this Jupyter Notebook in Astroconda Environment."
   ]
  },
  {
   "cell_type": "markdown",
   "metadata": {},
   "source": [
    "This Jupyter notebook allows you to run Q3Dfit, a PSF decomposition and spectral analysis package tailored for JWST NIRSpec and MIRI IFU observations. \n",
    "\n",
    "Q3Dfit is developed as a science-enabling data product by the Early Release Science Team #1335 Q3D. You can find more information about this ERS program **Q3D** [here](https://wwwstaff.ari.uni-heidelberg.de/dwylezalek/q3d.html) and [here](https://www.stsci.edu/jwst/science-execution/approved-programs/dd-ers/program-1335).\n",
    "\n",
    "The software is based on the existing package IFSFIT developed by Dave Rupke (see [ADS link](https://ui.adsabs.harvard.edu/abs/2017ApJ...850...40R/abstract)).\n",
    "\n",
    "The following notebook will guide you through the initialization procedure and will then perform the analysis. "
   ]
  },
  {
   "cell_type": "markdown",
   "metadata": {},
   "source": [
    "## Table of Contents\n",
    "\n",
    "* [1. Initialization](#chapter1)\n",
    "    * [1.1. Setting up the directory tree](#chapter1_1)\n",
    "    * [1.2. Setting up the fitting parameters](#chapter1_2)        \n",
    "* [2. Run Q3Dfit](#chapter2)\n",
    "* [3. Run plotting script (q3da)](#chapter3)\n",
    "\n"
   ]
  },
  {
   "cell_type": "markdown",
   "metadata": {},
   "source": [
    "<font color='red'>We need to decide where the makeqsotemplate functionality goes. </font>"
   ]
  },
  {
   "cell_type": "markdown",
   "metadata": {},
   "source": [
    "## 1. Initialization <a class=\"anchor\" id=\"chapter1\"></a>"
   ]
  },
  {
   "cell_type": "code",
   "execution_count": null,
   "metadata": {},
   "outputs": [],
   "source": [
    "import os.path\n",
    "import numpy as np"
   ]
  },
  {
   "cell_type": "markdown",
   "metadata": {},
   "source": [
    "### 1.1. Setting up the directory tree <a class=\"anchor\" id=\"chapter1_1\"></a>\n",
    "\n",
    "Define the directories in which your data cube(s) that you want to analyse are stored and the output directories. We recommend creating a working directory that you name after your target, in which all outputs from Q3Dfit will be saved. "
   ]
  },
  {
   "cell_type": "code",
   "execution_count": null,
   "metadata": {},
   "outputs": [],
   "source": [
    "# book-keeping variables (optional; for this box only)\n",
    "volume = '' # base directory\n",
    "gal = 'pg1411' # prefix label for output files\n",
    "\n",
    "# Input files\n",
    "infile = volume+'.fits' # path + name of your input cube\n",
    "qsotemplate = volume+gal+'qsotemplate.npy' \n",
    "stellartemplates = volume+gal+'hosttemplate.npy'\n",
    "\n",
    "# Output directories/files\n",
    "outdir = volume+'' # path + name of directory for saving the output files\n",
    "path_to_npy_file = '' # path for initproc.npy\n",
    "logfile = outdir+gal+'_fitlog.txt'\n",
    "#mapdir = '' # directory for saving the output maps; needed for makemaps.py when it is running"
   ]
  },
  {
   "cell_type": "markdown",
   "metadata": {},
   "source": [
    "Some general information about your cube:"
   ]
  },
  {
   "cell_type": "code",
   "execution_count": null,
   "metadata": {},
   "outputs": [],
   "source": [
    "ncols = 17 # number of columns\n",
    "nrows = 26 # number of rows\n",
    "# centcol = 9.002\n",
    "# centrow = 14.002\n",
    "platescale = 0.3\n",
    "fitrange = [4620,7450] #in Angstrom\n",
    "\n",
    "if not os.path.isfile(infile): print('Data cube not found.')"
   ]
  },
  {
   "cell_type": "markdown",
   "metadata": {},
   "source": [
    "### 1.2. Setting up the fitting parameters <a class=\"anchor\" id=\"chapter1_2\"></a>"
   ]
  },
  {
   "cell_type": "markdown",
   "metadata": {},
   "source": [
    "What lines do you want to fit? You can choose from the linelist <font color='red'>provide reference here</font>."
   ]
  },
  {
   "cell_type": "code",
   "execution_count": null,
   "metadata": {},
   "outputs": [],
   "source": [
    "lines = ['Halpha','Hbeta', '[OI]6300','[OI]6364','[OIII]4959','[OIII]5007', '[NII]6548','[NII]6583','[SII]6716','[SII]6731']"
   ]
  },
  {
   "cell_type": "markdown",
   "metadata": {},
   "source": [
    "How many components do you want to be fitted to the emission lines?"
   ]
  },
  {
   "cell_type": "code",
   "execution_count": null,
   "metadata": {},
   "outputs": [],
   "source": [
    "maxncomp = 1"
   ]
  },
  {
   "cell_type": "code",
   "execution_count": null,
   "metadata": {},
   "outputs": [],
   "source": [
    "# Initialize line ties, n_comps, z_inits, and sig_inits.\n",
    "linetie = dict()\n",
    "ncomp = dict()\n",
    "zinit_gas = dict()\n",
    "siginit_gas = dict()\n",
    "for i in lines:\n",
    "    linetie[i] = 'Halpha'\n",
    "    ncomp[i] = np.full((ncols,nrows),maxncomp)\n",
    "    ncomp[i][8,13] = 0\n",
    "    zinit_gas[i] = np.full((ncols,nrows,maxncomp),0.0898)\n",
    "    siginit_gas[i] = np.full(maxncomp,50)\n",
    "    zinit_gas[i][2,18,:]=0.091\n",
    "    zinit_gas[i][4,21:22,:]=0.091\n",
    "    zinit_gas[i][5,21,:]=0.091\n",
    "    zinit_gas[i][6:8,23:25,:]=0.091\n",
    "    zinit_gas[i][1:4,1:7,:]=0.0894\n",
    "    zinit_gas[i][6:16,0:7,:]=0.089\n",
    "    zinit_gas[i][11,8:9,:]=0.089\n",
    "    zinit_stars=np.full((ncols,nrows),0.0898)\n",
    "\n",
    "#\n",
    "# Optional pars\n",
    "#\n",
    "\n",
    "# Tweaked regions are around HeII,Hb/[OIII],HeI5876/NaD,[OI],Halpha, and [SII]\n",
    "# Lower and upper wavelength for re-fit\n",
    "tw_lo = [4600,5200,6300,6800,7000,7275]\n",
    "tw_hi = [4800,5500,6500,7000,7275,7375]\n",
    "# Number of wavelength regions to re-fit\n",
    "tw_n = len(tw_lo)\n",
    "# Fitting orders\n",
    "deford = 1\n",
    "tw_ord = np.full(tw_n,deford)\n",
    "# Parameters for continuum fit\n",
    "# In third dimension:\n",
    "#   first element is lower wavelength limit\n",
    "#   second element is upper\n",
    "#   third is fit order\n",
    "tweakcntfit = np.full((ncols,nrows,3,tw_n),0)\n",
    "tweakcntfit[:,:,0,:] = tw_lo\n",
    "tweakcntfit[:,:,1,:] = tw_hi\n",
    "tweakcntfit[:,:,2,:] = tw_ord\n",
    "\n",
    "# Parameters for emission line plotting\n",
    "linoth = np.full((2, 6), '', dtype=object)\n",
    "linoth[0, 2] = '[OIII]4959'\n",
    "linoth[0, 3] = '[OI]6364'\n",
    "linoth[:, 4] = ['[NII]6548', '[NII]6583']\n",
    "linoth[0, 5] = '[SII]6716'\n",
    "argspltlin1 = {'nx': 3,\n",
    "               'ny': 2,\n",
    "               'label': ['', 'Hbeta', '[OIII]5007',\n",
    "                         '[OI]6300', 'Halpha', '[SII]6731'],\n",
    "               'wave': [0,4861,5007,6300,6563,6731],\n",
    "               'off': [[-120,90],[-80,50],[-130,50],\n",
    "                     [-80,120],[-95,70],[-95,50]],\n",
    "               'linoth': linoth}\n",
    "\n",
    "# Velocity dispersion limits and fixed values\n",
    "siglim_gas = np.ndarray(2)\n",
    "siglim_gas[:] = [5, 500]\n",
    "# lratfix = {'[NI]5200/5198': [1.5]}\n",
    "\n",
    "#\n",
    "# Output structure\n",
    "#"
   ]
  },
  {
   "cell_type": "markdown",
   "metadata": {},
   "source": [
    "The following cell will create the initialisation structure. **Do not change anything in this cell.** "
   ]
  },
  {
   "cell_type": "code",
   "execution_count": null,
   "metadata": {},
   "outputs": [],
   "source": [
    "initproc = { \\\n",
    "        # Required pars\n",
    "        'fitran': fitrange,\n",
    "        'fluxunits': 1e-15,  # erg/s/cm^2/arcsec^2\n",
    "        'infile': infile,\n",
    "        'label': gal,\n",
    "        'lines': lines,\n",
    "        'linetie': linetie,\n",
    "        'maxncomp': maxncomp,\n",
    "        'name': 'PG1411+442',\n",
    "        'ncomp': ncomp,\n",
    "        # 'mapdir': mapdir,\n",
    "        'outdir': outdir,\n",
    "        'platescale': platescale,\n",
    "        'positionangle': 335,\n",
    "        'minoraxispa': 75,\n",
    "        'zinit_stars': zinit_stars,\n",
    "        'zinit_gas': zinit_gas,\n",
    "        'zsys_gas': 0.0898,\n",
    "        # Optional pars\n",
    "        'argscheckcomp': {'sigcut': 3,\n",
    "                          'ignore': ['[OI]6300', '[OI]6364',\n",
    "                                     '[SII]6716', '[SII]6731']},\n",
    "        'argscontfit': {'blrpar': [0, 7150, 5000/299792*7150,\n",
    "                                   0, 5300, 5000/299792*5300],\n",
    "                        'qsoxdr': qsotemplate,\n",
    "                        'siginit_stars': 50,\n",
    "                        'uselog': 1,\n",
    "                        'refit': 1},\n",
    "        'argslinelist': {'vacuum': False,\n",
    "                         'waveunit': 'Angstrom'},\n",
    "        'argsreadcube': {'waveunit_in': 'Angstrom',\n",
    "                         'waveunit_out': 'Angstrom',\n",
    "                         'fluxunit_in': 'erg/s/cm2/Angstrom/sr',\n",
    "                         'fluxunit_out': 'erg/s/cm2/Angstrom/sr'},\n",
    "        'startempfile': stellartemplates,\n",
    "        'argspltlin1': argspltlin1,\n",
    "        'decompose_qso_fit': 1,\n",
    "        # 'remove_scattered': 1,\n",
    "        'fcncheckcomp': 'checkcomp',\n",
    "        'fcncontfit': 'fitqsohost',\n",
    "        'maskwidths_def': 500,\n",
    "        # 'tweakcntfit': tweakcntfit,\n",
    "        'emlsigcut': 2,\n",
    "        'logfile': logfile,\n",
    "        'siglim_gas': siglim_gas,\n",
    "        'siginit_gas': siginit_gas,\n",
    "        'siginit_stars': 50,\n",
    "        'cutrange': np.array([6410, 6430]),\n",
    "        'nocvdf': 1,\n",
    "        # 'cvdf_vlimits': [-3e3,3e3],\n",
    "        # 'cvdf_vstep': 10d,\n",
    "        # 'host': {'dat_fits': volume+'ifs/gmos/cubes/'+gal+'/'+\\\n",
    "        #         gal+outstr+'_host_dat_2.fits'} \\\n",
    "    }"
   ]
  },
  {
   "cell_type": "markdown",
   "metadata": {},
   "source": [
    "If you want to run q3dfit in batch mode, run this cell, which saves initproc to an \"npy\" file. In your python command line, read in that \"npy\" file with <pre><code> initproc = np.load('path/to/the/npy/file/initproc.npy') </code></pre> and then run q3dfit with <pre><code> q3df(initproc,cols=cols,rows=rows) </code></pre>"
   ]
  },
  {
   "cell_type": "code",
   "execution_count": null,
   "metadata": {},
   "outputs": [],
   "source": [
    "initproc_npy = 'initproc.npy'\n",
    "np.save(path_to_npy_file+initproc_npy,initproc)"
   ]
  },
  {
   "cell_type": "markdown",
   "metadata": {},
   "source": [
    "## 2. Run Q3Dfit <a class=\"anchor\" id=\"chapter2\"></a>"
   ]
  },
  {
   "cell_type": "code",
   "execution_count": null,
   "metadata": {},
   "outputs": [],
   "source": [
    "# This may be unique to the user, insert your path to the q3dfit/ folder here\n",
    "import sys\n",
    "if '../../' not in sys.path:\n",
    "    sys.path.append('../../')\n",
    "\n",
    "from q3dfit.common.q3df import q3df\n",
    "from q3dfit.common.q3da import q3da"
   ]
  },
  {
   "cell_type": "code",
   "execution_count": null,
   "metadata": {},
   "outputs": [],
   "source": [
    "cols = [14]\n",
    "rows = [11]"
   ]
  },
  {
   "cell_type": "code",
   "execution_count": null,
   "metadata": {},
   "outputs": [],
   "source": [
    "q3df(initproc,cols=cols,rows=rows)"
   ]
  },
  {
   "cell_type": "markdown",
   "metadata": {},
   "source": [
    "## 3. Run plotting script (q3da) <a class=\"anchor\" id=\"chapter3\"></a>"
   ]
  },
  {
   "cell_type": "code",
   "execution_count": null,
   "metadata": {},
   "outputs": [],
   "source": [
    "q3da(initproc,cols=cols,rows=rows)"
   ]
  },
  {
   "cell_type": "code",
   "execution_count": null,
   "metadata": {},
   "outputs": [],
   "source": []
  }
 ],
 "metadata": {
  "kernelspec": {
   "display_name": "Python 3",
   "language": "python",
   "name": "python3"
  },
  "language_info": {
   "codemirror_mode": {
    "name": "ipython",
    "version": 3
   },
   "file_extension": ".py",
   "mimetype": "text/x-python",
   "name": "python",
   "nbconvert_exporter": "python",
   "pygments_lexer": "ipython3",
   "version": "3.7.10"
  }
 },
 "nbformat": 4,
 "nbformat_minor": 4
}
