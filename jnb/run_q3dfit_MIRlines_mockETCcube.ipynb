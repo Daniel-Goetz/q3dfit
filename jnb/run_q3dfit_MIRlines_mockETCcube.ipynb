{
 "cells": [
  {
   "cell_type": "markdown",
   "metadata": {},
   "source": [
    "# Run Q3Dfit from this Jupyter Notebook in Astroconda Environment."
   ]
  },
  {
   "cell_type": "markdown",
   "metadata": {},
   "source": [
    "This Jupyter notebook allows you to run Q3Dfit, a PSF decomposition and spectral analysis package tailored for JWST NIRSpec and MIRI IFU observations. \n",
    "\n",
    "Q3Dfit is developed as a science-enabling data product by the Early Release Science Team #1335 Q3D. You can find more information about this ERS program **Q3D** [here](https://wwwstaff.ari.uni-heidelberg.de/dwylezalek/q3d.html) and [here](https://www.stsci.edu/jwst/science-execution/approved-programs/dd-ers/program-1335).\n",
    "\n",
    "The software is based on the existing package IFSFIT developed by Dave Rupke (see [ADS link](https://ui.adsabs.harvard.edu/abs/2017ApJ...850...40R/abstract)).\n",
    "\n",
    "The following notebook will guide you through the initialization procedure and will then perform the analysis. "
   ]
  },
  {
   "cell_type": "markdown",
   "metadata": {},
   "source": [
    "## Table of Contents\n",
    "\n",
    "* [1. Initialization](#chapter1)\n",
    "    * [1.1. Setting up the directory tree](#chapter1_1)\n",
    "    * [1.2. Setting up the fitting parameters](#chapter1_2)        \n",
    "* [2. Run Q3Dfit](#chapter2)\n",
    "* [3. Run plotting script (q3da)](#chapter3)\n",
    "\n"
   ]
  },
  {
   "cell_type": "markdown",
   "metadata": {},
   "source": [
    "<font color='red'>We need to decide where the makeqsotemplate functionality goes. </font>"
   ]
  },
  {
   "cell_type": "markdown",
   "metadata": {},
   "source": [
    "## 1. Initialization <a class=\"anchor\" id=\"chapter1\"></a>"
   ]
  },
  {
   "cell_type": "code",
   "execution_count": null,
   "metadata": {},
   "outputs": [],
   "source": [
    "import os.path\n",
    "import os\n",
    "import numpy as np\n",
    "from q3dfit.common.questfit_readcf import readcf"
   ]
  },
  {
   "cell_type": "markdown",
   "metadata": {},
   "source": [
    "### 1.1. Setting up the directory tree <a class=\"anchor\" id=\"chapter1_1\"></a>\n",
    "\n",
    "Define the directories in which your data cube(s) that you want to analyse are stored and the output directories. We recommend creating a working directory that you name after your target, in which all outputs from Q3Dfit will be saved. "
   ]
  },
  {
   "cell_type": "code",
   "execution_count": null,
   "metadata": {},
   "outputs": [],
   "source": [
    "# book-keeping variables (unique to the user)\n",
    "# Input files\n",
    "volume = '../../../MIRISIM/MIRI-ETC-SIM/' # base directory\n",
    "infile = volume+'miri_etc_cube.fits' # path + name of your input cube\n",
    "cfinfile = '../test/test_questfit/miritest.cf'\n",
    "qsotemplate = '../data/questfit_templates/miri_qsotemplate.npy'\n",
    "\n",
    "# Output directories/files\n",
    "outdir = volume+'outputs/' # path + name of directory for saving the output files\n",
    "logfile = outdir+'miritest_fitlog.txt' # path to output logfile\n",
    "path_to_npy_file = outdir # path for initproc.npy"
   ]
  },
  {
   "cell_type": "markdown",
   "metadata": {},
   "source": [
    "\n",
    "\n",
    "Some general information about your cube:"
   ]
  },
  {
   "cell_type": "code",
   "execution_count": null,
   "metadata": {},
   "outputs": [],
   "source": [
    "ncols = 16\n",
    "nrows = 25\n",
    "fitrange = [11.53050463,13.47485667] # in micron\n",
    "if not os.path.isfile(infile): \n",
    "    print('Data cube not found.')\n",
    "if not os.path.isfile(cfinfile):\n",
    "    print('Configuration file not found.')\n",
    "else:\n",
    "    config_file = readcf(cfinfile)\n",
    "### Point to QSO template. If this does not yet exist, it will be generated from the cube.\n",
    "if not os.path.exists(qsotemplate):\n",
    "    from q3dfit.common.makeqsotemplate import makeqsotemplate\n",
    "    makeqsotemplate(infile, qsotemplate, dataext=1, varext=2, dqext=3, waveext=None)    "
   ]
  },
  {
   "cell_type": "markdown",
   "metadata": {},
   "source": [
    "### 1.2. Setting up the fitting parameters <a class=\"anchor\" id=\"chapter1_2\"></a>"
   ]
  },
  {
   "cell_type": "markdown",
   "metadata": {},
   "source": [
    "What lines do you want to fit? You can choose from the linelist <font color='red'>provide reference here</font>."
   ]
  },
  {
   "cell_type": "code",
   "execution_count": null,
   "metadata": {},
   "outputs": [],
   "source": [
    "lines = ['[NeII]12.81']"
   ]
  },
  {
   "cell_type": "markdown",
   "metadata": {},
   "source": [
    "How many components do you want to be fitted to the emission lines?"
   ]
  },
  {
   "cell_type": "code",
   "execution_count": null,
   "metadata": {},
   "outputs": [],
   "source": [
    "maxncomp = 1"
   ]
  },
  {
   "cell_type": "code",
   "execution_count": null,
   "metadata": {},
   "outputs": [],
   "source": [
    "# Initialize line ties, n_comps, z_inits, and sig_inits.\n",
    "linetie = dict()\n",
    "ncomp = dict()\n",
    "zinit_gas = dict()\n",
    "siginit_gas = dict()\n",
    "for i in lines:\n",
    "    linetie[i] = '[NeII]12.81'\n",
    "    ncomp[i] = np.full((ncols,nrows),maxncomp)\n",
    "    zinit_gas[i] = np.full((ncols,nrows,maxncomp),0.)\n",
    "    siginit_gas[i] = np.full(maxncomp, 500.)\n",
    "    zinit_stars=np.full((ncols,nrows),0.0)"
   ]
  },
  {
   "cell_type": "code",
   "execution_count": null,
   "metadata": {},
   "outputs": [],
   "source": [
    "siglim_gas = np.array([5., 1000.])"
   ]
  },
  {
   "cell_type": "markdown",
   "metadata": {},
   "source": [
    "Description of continuum fitting parameters\n",
    "\n",
    "From questfit_readcf.py, columns in .cf file:\n",
    "\n",
    " - col 0: filename (if nessesary; path hardcoded in readcf.pro)\n",
    " - col 1: lower wavelength limit or normalization factor\n",
    " - col 2: upper wavelength limit or fix/free parameter (0 or 1) for normalization\n",
    " - col 3: name of ext. curve or ice feature\n",
    " - col 4: initial guess for Av\n",
    " - col 5: fix/free parameter (0/1) for Av\n",
    " - col 6: S,M = screen or mixed extinction\n",
    " - col 7: initial guess for BB temperature or powerlaw index\n",
    " - col 8: fix/free parameter (1/0) for BB temperature or powerlaw index"
   ]
  },
  {
   "cell_type": "code",
   "execution_count": null,
   "metadata": {},
   "outputs": [],
   "source": [
    "fcncontfit = 'questfit'\n",
    "\n",
    "#else:\n",
    "#    questfit_config = readcf(cfinfile)\n",
    "\n",
    "argscontfit = dict()\n",
    "argscontfit['config_file'] = cfinfile\n",
    "argscontfit['models_dictionary'] = {}\n",
    "argscontfit['template_dictionary'] = {}\n",
    "argscontfit['outdir'] = outdir"
   ]
  },
  {
   "cell_type": "code",
   "execution_count": null,
   "metadata": {},
   "outputs": [],
   "source": [
    "argspltlin1 = {'nx': 1,\n",
    "               'ny': 1,\n",
    "               'line': lines,\n",
    "               'size': [1.]}"
   ]
  },
  {
   "cell_type": "markdown",
   "metadata": {},
   "source": [
    "The following cell will create the initialisation structure. **Do not change anything in this cell.** "
   ]
  },
  {
   "cell_type": "code",
   "execution_count": null,
   "metadata": {},
   "outputs": [],
   "source": [
    "initproc = { \\\n",
    "            # Required pars\n",
    "            'fcninitpar': 'parinit',\n",
    "            'fitran': fitrange,\n",
    "            'fluxunits': 1,\n",
    "            'infile': infile,\n",
    "            'label': config_file['source'][0].replace('.ideos','').replace('.npy', ''),\n",
    "            'lines': lines,\n",
    "            'linetie': linetie,\n",
    "            'maxncomp': maxncomp,\n",
    "            'name': 'mockETC',\n",
    "            'ncomp': ncomp,\n",
    "            'outdir': outdir,\n",
    "            'zinit_stars': zinit_stars,\n",
    "            'zinit_gas': zinit_gas,\n",
    "            'zsys_gas': 0.0,\n",
    "            # Optional pars\n",
    "            'argsreadcube': {'wmapext': None,\n",
    "                             'waveunit_in': 'Angstrom',\n",
    "                             'fluxunit_in': 'Jy',},     \n",
    "            'fcncontfit': 'questfit',\n",
    "            'argscontfit': argscontfit,\n",
    "            'argspltlin1': argspltlin1,\n",
    "            'fcncheckcomp': 'checkcomp',\n",
    "            'maskwidths_def': 2000,\n",
    "            'emlsigcut': 2,\n",
    "            'logfile': logfile,\n",
    "            'siglim_gas': siglim_gas,\n",
    "            'siginit_gas': siginit_gas,\n",
    "            'nocvdf': 1\n",
    "           }"
   ]
  },
  {
   "cell_type": "markdown",
   "metadata": {},
   "source": [
    "If you want to run `q3dfit` in batch mode, run this cell, which saves initproc to an `npy` file. In your python command line, read in that `npy` file with\n",
    "<pre><code>import numpy as np\n",
    "initproc = np.load('path/to/the/npy/file/initproc.npy',allow_pickle=True)</code></pre>\n",
    "and then run `q3dfit` with \n",
    "<pre><code>from q3dfit.common.q3df\n",
    "import q3df q3df(initproc[()],cols=cols,rows=rows)</code></pre>"
   ]
  },
  {
   "cell_type": "code",
   "execution_count": null,
   "metadata": {},
   "outputs": [],
   "source": [
    "initproc_npy = 'initproc.npy'\n",
    "np.save(path_to_npy_file+initproc_npy,initproc)"
   ]
  },
  {
   "cell_type": "markdown",
   "metadata": {},
   "source": [
    "## 2. Run Q3Dfit <a class=\"anchor\" id=\"chapter2\"></a>"
   ]
  },
  {
   "cell_type": "code",
   "execution_count": null,
   "metadata": {},
   "outputs": [],
   "source": [
    "# This may be unique to the user, insert your path to the q3dfit/ folder here\n",
    "import sys\n",
    "if '../../' not in sys.path:\n",
    "    sys.path.append('../../')\n",
    "\n",
    "from q3dfit.common.q3df import q3df\n",
    "from q3dfit.common.q3da import q3da"
   ]
  },
  {
   "cell_type": "code",
   "execution_count": null,
   "metadata": {},
   "outputs": [],
   "source": [
    "cols = [7]\n",
    "rows = [14]"
   ]
  },
  {
   "cell_type": "code",
   "execution_count": null,
   "metadata": {},
   "outputs": [],
   "source": [
    "q3df(initproc, cols=cols, rows=rows, quiet=False)"
   ]
  },
  {
   "cell_type": "markdown",
   "metadata": {},
   "source": [
    "## 3. Run plotting script (q3da) <a class=\"anchor\" id=\"chapter3\"></a>"
   ]
  },
  {
   "cell_type": "code",
   "execution_count": null,
   "metadata": {},
   "outputs": [],
   "source": [
    "%matplotlib inline\n",
    "q3da(initproc, cols=cols, rows=rows, quiet=False)"
   ]
  }
 ],
 "metadata": {
  "kernelspec": {
   "display_name": "Python 3 (ipykernel)",
   "language": "python",
   "name": "python3"
  },
  "language_info": {
   "codemirror_mode": {
    "name": "ipython",
    "version": 3
   },
   "file_extension": ".py",
   "mimetype": "text/x-python",
   "name": "python",
   "nbconvert_exporter": "python",
   "pygments_lexer": "ipython3",
   "version": "3.7.11"
  }
 },
 "nbformat": 4,
 "nbformat_minor": 4
}
