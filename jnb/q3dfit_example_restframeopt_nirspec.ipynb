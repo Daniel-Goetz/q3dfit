{
 "cells": [
  {
   "cell_type": "markdown",
   "metadata": {},
   "source": [
    "# q3dfit notebook: rest-frame optical, JWST/NIRSpec data of J1652 (SDSSJ165202.64+172852.3) from [Wylezalek et al. 2022](https://ui.adsabs.harvard.edu/abs/2022arXiv221010074W/abstract)"
   ]
  },
  {
   "cell_type": "markdown",
   "metadata": {},
   "source": [
    "<h3><font color='teal'>Installation of the environment and the package are described <a href=\"https://q3dfit.readthedocs.io/\">here</a>. </font></h3>"
   ]
  },
  {
   "cell_type": "markdown",
   "metadata": {},
   "source": [
    "This Jupyter notebook allows you to run Q3Dfit, a PSF decomposition and spectral analysis package tailored for JWST NIRSpec and MIRI IFU observations. \n",
    "\n",
    "Q3Dfit is developed as a science-enabling data product by the Early Release Science Team #1335 Q3D. You can find more information about this ERS program **Q3D** [here](https://q3d.github.io/) and [here](https://www.stsci.edu/jwst/science-execution/approved-programs/dd-ers/program-1335).\n",
    "\n",
    "The software is based on the existing package IFSFIT developed by Dave Rupke (see [ADS link](https://ui.adsabs.harvard.edu/abs/2017ApJ...850...40R/abstract)).\n",
    "\n",
    "The following notebook will guide you through the initialization procedure and will then perform the analysis. "
   ]
  },
  {
   "cell_type": "markdown",
   "metadata": {},
   "source": [
    "## Table of Contents\n",
    "\n",
    "* [1. Initialization](#chapter1)\n",
    "    * [1.0. Setting up the directory tree](#chapter1_0)\n",
    "    * [1.1. Initializing the fit](#chapter1_1)\n",
    "    * [1.2. Setting up the data and models](#chapter1_2)\n",
    "    * [1.3. Setting up the fitting parameters](#chapter1_3)\n",
    "        * [1.3.1. Emission line parameters](#chapter1_3_1)\n",
    "        * [1.3.2. Continuum parameters](#chapter1_3_2)\n",
    "* [2. Run fitting](#chapter2)\n",
    "* [3. Plot fit](#chapter3)\n",
    "* [4. Combine fit results for entire cube](#chapter4)\n",
    "* [5. Map fit results](#chapter5)"
   ]
  },
  {
   "cell_type": "markdown",
   "metadata": {},
   "source": [
    "## 1. Initialization <a class=\"anchor\" id=\"chapter1\"></a>"
   ]
  },
  {
   "cell_type": "code",
   "execution_count": null,
   "metadata": {},
   "outputs": [],
   "source": [
    "import os.path\n",
    "import numpy as np\n",
    "%load_ext autoreload\n",
    "%autoreload 2\n",
    "%matplotlib inline"
   ]
  },
  {
   "cell_type": "code",
   "execution_count": null,
   "metadata": {},
   "outputs": [],
   "source": [
    "# Be sure to set the path to q3dfit correctly.\n",
    "# For instance:\n",
    "#import sys\n",
    "#sys.path.append('/Users/jwstuser/q3dfit/')\n",
    "#import sys\n",
    "#sys.path.append(\"../\")"
   ]
  },
  {
   "cell_type": "markdown",
   "metadata": {},
   "source": [
    "### 1.0. Setting up the directory tree <a class=\"anchor\" id=\"chapter1_0\"></a>\n",
    "\n",
    "Define the directories in which the data cube(s) that you want to analyse are stored and the output directories. We recommend creating a working directory that you name after your target, in which all outputs from q3dfit will be saved. Then download test data."
   ]
  },
  {
   "cell_type": "code",
   "execution_count": null,
   "metadata": {},
   "outputs": [],
   "source": [
    "# Base directory (book-keeping)\n",
    "volume = 'nirspec-j1652/'\n",
    "# prefix label for output files\n",
    "label = 'j1652'\n",
    "# Input directory\n",
    "indir = volume\n",
    "if not os.path.exists(indir):\n",
    "    os.makedirs(indir)\n",
    "# Output directory\n",
    "outdir = volume\n",
    "if not os.path.exists(outdir):\n",
    "    os.makedirs(outdir)\n",
    "# Initialization file (q3di.npy) directory\n",
    "initdir = volume\n",
    "# Output logfile\n",
    "logfile = outdir+label+'-fitlog.txt'"
   ]
  },
  {
   "cell_type": "markdown",
   "metadata": {},
   "source": [
    "Download data from public Box folder:"
   ]
  },
  {
   "cell_type": "code",
   "execution_count": null,
   "metadata": {},
   "outputs": [],
   "source": [
    "# make tuples of urls and download filenames\n",
    "# infile = data cube\n",
    "infile_tup=('https://rhodes.box.com/shared/static/scu2ydokah2wcqtfsh1tg2y76m75b91q.fits','nirspec-j1652.fits')\n",
    "# download files; by default don't force overwrite and take first element of output\n",
    "from q3dfit.jnb import download_files\n",
    "infile = download_files(infile_tup, outdir, force=False)[0]\n",
    "# add subdirectory to filenames\n",
    "infile = initdir+infile"
   ]
  },
  {
   "cell_type": "markdown",
   "metadata": {},
   "source": [
    "### 1.1. Initializing the fit <a class=\"anchor\" id=\"chapter1_1\"></a>"
   ]
  },
  {
   "cell_type": "markdown",
   "metadata": {},
   "source": [
    "The initial parameters of the fit are stored in an object of class `q3din`. Each parameter or attribute of this class controls some aspect of the fit process. We start by instantiating the class. The only required parameters at the outset are the input data cube and label; the label is used for output file naming. \n",
    "\n",
    "The default JWST pipeline output has data, variance, and data quality in extensions 1, 2, and 3, respectively. Our processed cube has a different set of extensions, so we specify them here."
   ]
  },
  {
   "cell_type": "code",
   "execution_count": null,
   "metadata": {},
   "outputs": [],
   "source": [
    "from q3dfit.q3din import q3din\n",
    "q3di = q3din(infile, label, datext=0, varext=1, dqext=2, outdir=outdir, logfile=logfile)"
   ]
  },
  {
   "cell_type": "markdown",
   "metadata": {},
   "source": [
    "Here's a list of the fit parameters that are automatically set:"
   ]
  },
  {
   "cell_type": "code",
   "execution_count": null,
   "metadata": {
    "scrolled": true
   },
   "outputs": [],
   "source": [
    "q3di.__dict__"
   ]
  },
  {
   "cell_type": "markdown",
   "metadata": {},
   "source": [
    "### 1.2. Setting up the data and models <a class=\"anchor\" id=\"chapter1_2\"></a>\n",
    "\n",
    "Some general information about your cube. `argsreadcube` is a dictionary of attributes sent to the `Cube` class.\n",
    "- For non-JWST data, set `wmapext` to `None`. The WMAP extension is a [3-D weight image](https://jwst-pipeline.readthedocs.io/en/latest/jwst/data_products/science_products.html) giving the relative weights of the output spaxels. While our data is from JWST, the wmap extension has been cut out during processing.\n",
    "- Microns are the wavelength unit used internally, but `q3dfit` can accept input/output in Å.\n",
    "- `q3dit` does calculations in f$_\\lambda$ space, but assumes input units of MJy/sr, the JWST default. Other input wavelength units can be specified. In this case, the reduced data has been converted to erg/s/cm$^2$/Å. The output flux units will be in erg/s/cm$^2$/$\\mu$m."
   ]
  },
  {
   "cell_type": "code",
   "execution_count": null,
   "metadata": {},
   "outputs": [],
   "source": [
    "q3di.argsreadcube = {'wmapext': None,\n",
    "                     'fluxunit_in': 'erg/s/cm2/Angstrom'}\n",
    "cube = q3di.load_cube()"
   ]
  },
  {
   "cell_type": "markdown",
   "metadata": {},
   "source": [
    "Let's plot a spaxel near the quasar to see how it looks. The arguments are column and row in unity-offset units. Specifying `radius=0` selects a single spaxel; specifying `radius` > 0 spaxels extracts flux in a circular aperture using `photutils`. This is the region of the galaxy's spectrum containing H$\\beta$ and [OIII] 4959, 5007 Å. The flux units are erg/s/cm$^2$/$\\mu$m."
   ]
  },
  {
   "cell_type": "code",
   "execution_count": null,
   "metadata": {},
   "outputs": [],
   "source": [
    "spec_test = cube.specextract(48, 48, radius=0)"
   ]
  },
  {
   "cell_type": "markdown",
   "metadata": {},
   "source": [
    "Due to the fact that JWST/NIRSpec undersamples the PSF, bright point sources create undulations in the spectrum. We apply light smoothing with a circular aperture of radius 2.5 spaxels to account for this, and then plot the result."
   ]
  },
  {
   "cell_type": "code",
   "execution_count": null,
   "metadata": {},
   "outputs": [],
   "source": [
    "cube.convolve(2.5)"
   ]
  },
  {
   "cell_type": "code",
   "execution_count": null,
   "metadata": {},
   "outputs": [],
   "source": [
    "spec_conv = cube.specextract(48, 48, radius=0)"
   ]
  },
  {
   "cell_type": "markdown",
   "metadata": {},
   "source": [
    "Now we'll write this convolved cube to disk, and redefine it as our input file for the fit."
   ]
  },
  {
   "cell_type": "code",
   "execution_count": null,
   "metadata": {},
   "outputs": [],
   "source": [
    "cube.writefits(initdir+'nirspec-j1652-conv.fits')\n",
    "q3di.infile = initdir+'nirspec-j1652-conv.fits'"
   ]
  },
  {
   "cell_type": "markdown",
   "metadata": {},
   "source": [
    "This time, we are going to normalize to minimize numerical issues in the fitting."
   ]
  },
  {
   "cell_type": "code",
   "execution_count": null,
   "metadata": {},
   "outputs": [],
   "source": [
    "q3di.argsreadcube = {'wmapext': None, \n",
    "                     'fluxunit_in': 'erg/s/cm2/micron',\n",
    "                     'fluxnorm': 1e-17}\n",
    "cube = q3di.load_cube()"
   ]
  },
  {
   "cell_type": "markdown",
   "metadata": {},
   "source": [
    "Let's double-check what we have:"
   ]
  },
  {
   "cell_type": "code",
   "execution_count": null,
   "metadata": {},
   "outputs": [],
   "source": [
    "spec_test = cube.specextract(48, 48, radius=0)"
   ]
  },
  {
   "cell_type": "markdown",
   "metadata": {},
   "source": [
    "Name and systemic redshift of the galaxy. `zsys_gas` is an input for calculating velocity maps in `q3dpro` and for initializing the arrays of initial guesses below."
   ]
  },
  {
   "cell_type": "code",
   "execution_count": null,
   "metadata": {},
   "outputs": [],
   "source": [
    "q3di.name = 'J1652'\n",
    "q3di.zsys_gas = 2.9489"
   ]
  },
  {
   "cell_type": "markdown",
   "metadata": {},
   "source": [
    "Wavelength range over which to fit data. The user can also specify sets of regions to ignore in the fit."
   ]
  },
  {
   "cell_type": "code",
   "execution_count": null,
   "metadata": {},
   "outputs": [],
   "source": [
    "q3di.fitrange = [1.82, 2.09]\n",
    "#q3di.cutrange = np.array([,])"
   ]
  },
  {
   "cell_type": "markdown",
   "metadata": {},
   "source": [
    "Create quasar template from the peak spaxel. We normalize so the template flux is around unity."
   ]
  },
  {
   "cell_type": "code",
   "execution_count": null,
   "metadata": {},
   "outputs": [],
   "source": [
    "qsotemplate = outdir+'nirspec-j1652-quasar-template.npy'\n",
    "cube.makeqsotemplate(qsotemplate, radius=0., norm=5e3)"
   ]
  },
  {
   "cell_type": "markdown",
   "metadata": {},
   "source": [
    "### 1.3. Setting up the fitting parameters <a class=\"anchor\" id=\"chapter1_3\"></a>"
   ]
  },
  {
   "cell_type": "markdown",
   "metadata": {},
   "source": [
    "#### 1.3.1. Emission-line parameters <a class=\"anchor\" id=\"chapter1_3_1\"></a>"
   ]
  },
  {
   "cell_type": "markdown",
   "metadata": {},
   "source": [
    "What lines do you want to fit? You can choose from the linelists available [here](https://github.com/Q3D/q3dfit/tree/main/q3dfit/data/linelists), or in `q3dfit/data/linelists/`."
   ]
  },
  {
   "cell_type": "code",
   "execution_count": null,
   "metadata": {},
   "outputs": [],
   "source": [
    "lines = ['Hbeta', '[OIII]4959', '[OIII]5007']"
   ]
  },
  {
   "cell_type": "markdown",
   "metadata": {},
   "source": [
    "This block sets up initial conditions for the emission-line fit to each spaxel. This initialization method adds a number of new attributes to the object. Emission lines are set to a common redshift and velocity dispersion, set to `q3di.zsys_gas` and 50 km/s by default. However, different sets of emission lines can have different velocities and linewidths by specifying different lines to which to tie particular emission lines. Different initial conditions can also be set on a spaxel-by-spaxel and/or line-by-line basis. The default number of velocity components is 1. Here, we change this to 3."
   ]
  },
  {
   "cell_type": "code",
   "execution_count": null,
   "metadata": {},
   "outputs": [],
   "source": [
    "q3di.init_linefit(lines, linetie='[OIII]5007', maxncomp=3)\n",
    "q3di.__dict__.keys()"
   ]
  },
  {
   "cell_type": "markdown",
   "metadata": {},
   "source": [
    "Because of the complexity of these line profiles, we change the default initial conditions. `zinit_gas` and `siginit_gas` are dictionaries of arrays that hold the initial conditions for each line, spaxel, and velocity component."
   ]
  },
  {
   "cell_type": "code",
   "execution_count": null,
   "metadata": {},
   "outputs": [],
   "source": [
    "for i in lines:\n",
    "    # narrow, redshifted component\n",
    "    q3di.zinit_gas[i][:,:,2] = 2.959\n",
    "    # broad, blueshifted component\n",
    "    q3di.zinit_gas[i][:,:,1] = 2.9489\n",
    "    q3di.siginit_gas[i][:,:,1] = 500."
   ]
  },
  {
   "cell_type": "markdown",
   "metadata": {},
   "source": [
    "`siglim_gas` sets lower and upper bounds for the Gaussian width (sigma) of the emission line. These limits can be set globablly, for all spaxels and components, by defining a 2-element array. The limits can also be set for individual spaxels (but all components) by defining an (Ncol x Nrow x 2) array."
   ]
  },
  {
   "cell_type": "code",
   "execution_count": null,
   "metadata": {},
   "outputs": [],
   "source": [
    "# Global limit\n",
    "q3di.siglim_gas = np.array([40., 2000.])\n",
    "\n",
    "# Spaxel-by-spaxel limit\n",
    "# siglim_gas = np.ndarray((dx, dy, 2))\n",
    "# siglim_gas[:,:,] = array([5.,1000.])\n",
    "# siglim_gas[13, 10, :] = array([5.,500.])"
   ]
  },
  {
   "cell_type": "markdown",
   "metadata": {},
   "source": [
    "The routine `checkcomp` automatically discards components that it deems insignificant after each fit. It does so with both a significance cut on flux, and if the linewidth is too large. If components are removed, the fit is re-run. The `sigcut` parameter determines the level of the significance cut. `ignore` is a list of lines to ignore when performing the significance cut. Component checking can be disabled by setting `checkcomp = False`."
   ]
  },
  {
   "cell_type": "code",
   "execution_count": null,
   "metadata": {},
   "outputs": [],
   "source": [
    "#q3di.checkcomp = False\n",
    "q3di.argscheckcomp['sigcut'] = 3.\n",
    "q3di.argscheckcomp['ignore']= ['Hbeta']"
   ]
  },
  {
   "cell_type": "markdown",
   "metadata": {},
   "source": [
    "#### Line ratio constraints\n",
    "Lines with ratios fixed by atomic physics have their ratios fixed automatically. Other line ratios can have bound constraints applied, or they can be fixed to a particular value.\n",
    "\n",
    "`line1`, `line2`, and `comp` are required. `comp` is an array of velocity components (zero-indexed) on which to apply the constraints, one array for each pair of lines.\n",
    "\n",
    "`value` is the initial value of `line1`/`line2`. Presently, if `value` is specified for one pair of lines, it must be specified for all. Otherwise, the initial value is determined from the data.\n",
    "\n",
    "The ratio can be `fixed` to the initial value. Presently, if `fixed` is defined, it must be set to `True` or `False` for all pairs of line.\n",
    "\n",
    "If the ratio is not `fixed`, `lower` and `upper` limits can also be specified. (If they are not, and the line pair is a doublet in the doublets.tbl file, then the lower and upper limits are set using the data in that file.) Presently, if `lower` or `upper` is defined here for one set of lines, it must be defined here for every pair of lines."
   ]
  },
  {
   "cell_type": "code",
   "execution_count": null,
   "metadata": {},
   "outputs": [],
   "source": [
    "# Required columns:\n",
    "# line1 = ['[NI]5198', '[SII]6716']\n",
    "# line2 = ['[NI]5200', '[SII]6731']\n",
    "# comp = np.array([[0], [0]], dtype=np.int32)\n",
    "\n",
    "# Optional columns:\n",
    "# value = [1.5, 1.]\n",
    "# fixed = [True, False]\n",
    "# lower = []\n",
    "# upper = []\n",
    "\n",
    "# Write table\n",
    "# from astropy.table import QTable\n",
    "# lineratio = QTable([line1, line2, comp, value, fixed], names=['line1', 'line2', 'comp', 'value', 'fixed'])\n",
    "\n",
    "# q3di.argslineinit['lineratio']=lineratio"
   ]
  },
  {
   "cell_type": "markdown",
   "metadata": {},
   "source": [
    "#### Spectral resolution convolution\n",
    "##### Just running convolution ---\n",
    "\n",
    "If no convolution is desired, then set `q3di.spect_convol = dict()`. \n",
    "If convolution is desired, then the `'ws_instrum'` tag of `spect_convol` must be set.\n",
    "\n",
    "The syntax for `'ws_instrum'` is `{INSTRUMENT:[METHOD]}`, which should mirror the filename in `q3dfit/data/dispersion_files/`. METHOD specifies the grating, spectral resolution [R], Δλ FWHM in [Å], velocity in [km/s].\n",
    "\n",
    "Examples convolving with: \n",
    "1. flat R=500: `{'flat':['R500']}`\n",
    "2. flat velocity FWHM = 30km/s: `{'flat':['kms30']}`\n",
    "3. flat Δλ FWHM = 4 Å: `{'flat':['dlambda4']}`\n",
    "4. JWST NIRSPEC / G140M: `{'JWST_NIRSPEC':['G140M']}`\n",
    "\n",
    "If desired flat convolution file does not exist, then a new file will be created automatically. "
   ]
  },
  {
   "cell_type": "code",
   "execution_count": null,
   "metadata": {},
   "outputs": [],
   "source": [
    "q3di.spect_convol['ws_instrum'] = {'JWST_NIRSPEC':['G235H']}"
   ]
  },
  {
   "cell_type": "markdown",
   "metadata": {},
   "source": [
    "##### Creating convolution files (optional) ---\n",
    "\n",
    "If the user wants to create a dispersion file, there are 2 methods:\n",
    "\n",
    "1. First, run `from q3dfit.common.spectConvol import dispFile` and initialize: `dispObj = dispFile()`\n",
    "2. Create the files with either method A or B\n",
    "\n",
    "2.(A) Create a flat R=120 dispersion file from 10 μm to 30 μm: \n",
    "\n",
    "`dispObj.make_dispersion(120,WAVELEN=[10,30],TYPE='R')`\n",
    "\n",
    "2.(B) Create a custom dispersion file with user supplied wavelength and Resolving power lists:\n",
    "\n",
    "`dispObj.make_custom_dispersion([wavelen list],R=[some R list],FILENAME='custom_RlistA_disp')`\n",
    "\n",
    "3. Specify desired dispersion file in convolution: running custom example 2B\n",
    "\n",
    "`{'custom':['RlistA']}`"
   ]
  },
  {
   "cell_type": "code",
   "execution_count": null,
   "metadata": {},
   "outputs": [],
   "source": [
    "#from q3dfit.common.spectConvol import dispFile\n",
    "#dobj = dispFile()\n",
    "#dispObj.make_custom_dispersion([wavelen list],R=[some R list],FILENAME='custom_RlistA_disp')\n",
    "#q3di.spect_convol['ws_instrum'] = {'custom':['RlistA']}"
   ]
  },
  {
   "cell_type": "markdown",
   "metadata": {},
   "source": [
    "#### Options to `lmfit` and `scipy.optimize.least_squares` (or `scipy.optimize.leastsq`, or other optimizer)\n",
    "`q3dfit` uses the `fit` method of the [`Model` class](https://lmfit.github.io/lmfit-py/model.html#lmfit.model.Model) of `lmfit` to call [`scipy.optimize.least_squares`](https://docs.scipy.org/doc/scipy/reference/generated/scipy.optimize.least_squares.html), or another method of choice. Both the method and function have options which can be changed in the `q3dfit` call. To do so, add key/value pairs to the `argslinefit` dictionary, which in turn is a keyword of the `q3di` dictionary.\n",
    "\n",
    "The options to the `fit` method in `lmfit` that can currently be changed are the following:\n",
    "- `method`: in particular, `leastsq` may be faster than `least_squares`\n",
    "- `max_nfev`: maximum number of function evaluations before the fit aborts\n",
    "- `iter_cb`: if this is set to \"per_iteration\", the value of every model parameter at each function evaluation is printed to `stdout`\n",
    "\n",
    "Most parameters of `least_squares`/`leastsq` can be changed in this way, unless they are specifically set by `lmfit`. Examples which have been tested include:\n",
    "- `x_scale`: jac\n",
    "- `tr_solver`: lsmr\n",
    "- `loss`: soft_l1\n",
    "- `ftol`, `gtol`, `xtol`\n",
    "- `epsfcn`"
   ]
  },
  {
   "cell_type": "code",
   "execution_count": null,
   "metadata": {},
   "outputs": [],
   "source": [
    "#q3di.argslinefit['method'] = 'leastsq'\n",
    "#q3di.argslinefit['iter_cb'] = 'per_iteration'\n",
    "# As an example, to change the criteria for fit convergence from the defaults of 1.e-8 to 1.e-10:\n",
    "q3di.argslinefit['ftol'] = 1.e-10\n",
    "q3di.argslinefit['gtol'] = 1.e-10\n",
    "q3di.argslinefit['xtol'] = 1.e-10\n",
    "q3di.argslinefit['x_scale'] = 'jac'\n",
    "q3di.argslinefit['tr_solver'] = 'lsmr'\n",
    "# .. and the \"suitable step length for the forward- difference approximation of the Jacobian. Normally the actual step length will be sqrt(epsfcn)*x\"\n",
    "# this is only for scipy.optimize.leastsq\n",
    "#q3di.argslinefit['epsfcn'] = 1.e-15"
   ]
  },
  {
   "cell_type": "markdown",
   "metadata": {},
   "source": [
    "#### 1.3.2 Continuum parameters <a class=\"anchor\" id=\"chapter1_3_2\"></a>"
   ]
  },
  {
   "cell_type": "markdown",
   "metadata": {},
   "source": [
    "We next initialize the continuum. As part of this, we give it the name of our continuum fitting function. (See Rupke et al. 2017 for more details on the methodology of `q3dfit` when separating a quasar from its host galaxy.)"
   ]
  },
  {
   "cell_type": "code",
   "execution_count": null,
   "metadata": {},
   "outputs": [],
   "source": [
    "q3di.init_contfit('fitqsohost')\n",
    "q3di.__dict__.keys()"
   ]
  },
  {
   "cell_type": "markdown",
   "metadata": {},
   "source": [
    "`q3dfit` first masks emission lines before fitting. The default mask value is 500 km/s for each velocity component for the first fit. During the second fit, the mask value is set automatically using the best-fit linewidths determined from the first fit.\n",
    "\n",
    "For this case, the lines are quite broad and we change the default."
   ]
  },
  {
   "cell_type": "code",
   "execution_count": null,
   "metadata": {},
   "outputs": [],
   "source": [
    "q3di.maskwidths_def = 2000."
   ]
  },
  {
   "cell_type": "markdown",
   "metadata": {},
   "source": [
    "The continuum fitting parameters specified here are for the case of simultaneous fitting of a stellar and quasar template.\n",
    "- `hostord` = [Optional] additive Legendre polynomial for host [starlight] component. Adds components up to order `hostord`.\n",
    "- `qsoord` = [Optional] additive Legendre polynomial for host [starlight] component. Adds components up to order `qsoord`.\n",
    "- `qsoxdr` = Filename and path of quasar template created earlier with `makeqsotemplate.py`.\n",
    "- `refit` = Set to `ppxf` to fit (data - quasar) residual with stellar model.\n",
    "- `blrpar` = Set of initial Gaussian parameters (flux, observed wavelength, sigma in km/s) for fitting empirical scattered-light model (relevant only for narrow set of cases)."
   ]
  },
  {
   "cell_type": "code",
   "execution_count": null,
   "metadata": {},
   "outputs": [],
   "source": [
    "q3di.argscontfit['qsoxdr'] = qsotemplate\n",
    "q3di.argscontfit['qsoord'] = 2\n",
    "q3di.argscontfit['hostord'] = 2\n",
    "q3di.decompose_qso_fit = True"
   ]
  },
  {
   "cell_type": "markdown",
   "metadata": {},
   "source": [
    "Optional arguments to `lmfit`. See above for a description in the case of line fits."
   ]
  },
  {
   "cell_type": "code",
   "execution_count": null,
   "metadata": {},
   "outputs": [],
   "source": [
    "#q3di.argscontfit['method'] = 'leastsq'\n",
    "\n",
    "argslmfit = dict()\n",
    "argslmfit['ftol'] = 1.e-12\n",
    "argslmfit['gtol'] = 1.e-12\n",
    "argslmfit['xtol'] = 1.e-12\n",
    "argslmfit['x_scale'] = 'jac'\n",
    "argslmfit['tr_solver'] = 'lsmr'\n",
    "#argslmfit['epsfcn'] = 1.e-15\n",
    "\n",
    "q3di.argscontfit['argslmfit'] = argslmfit"
   ]
  },
  {
   "cell_type": "markdown",
   "metadata": {},
   "source": [
    "If you want to run `q3dfit` in batch mode, run this cell, which saves q3di to an `npy` file. In your python command line, read in file and run `q3dfit` with\n",
    "<pre><code>q3di = '/path/to/the/npy/file/q3di.npy'\n",
    "from q3dfit.q3dfit import q3dfit\n",
    "q3dfot(q3di,cols=cols,rows=rows)</code></pre>\n",
    "N.B.: When running `q3dfit` using multiple cores (`ncores=N` in the call to `q3df`), the input dictionary has to be specified in this way; i.e., as a string describing the location of this .npy file."
   ]
  },
  {
   "cell_type": "code",
   "execution_count": null,
   "metadata": {},
   "outputs": [],
   "source": [
    "q3di_npy = 'q3di.npy'\n",
    "np.save(initdir+q3di_npy, q3di)"
   ]
  },
  {
   "cell_type": "markdown",
   "metadata": {},
   "source": [
    "## 2. Run fit <a class=\"anchor\" id=\"chapter2\"></a>"
   ]
  },
  {
   "cell_type": "markdown",
   "metadata": {},
   "source": [
    "Choose columns and rows to fit. Ranges are specified as two-element lists specifying the first and last spaxel."
   ]
  },
  {
   "cell_type": "code",
   "execution_count": null,
   "metadata": {},
   "outputs": [],
   "source": [
    "cols = 45\n",
    "rows = 29"
   ]
  },
  {
   "cell_type": "markdown",
   "metadata": {},
   "source": [
    "Run the fit. Choose `quiet=False` for verbose output. An output object for each spaxel, of class `q3dout`, is saved to a numpy binary file labeled with prefix `q3di['label']` and suffix `_col_row.npy`. See note above on multicore processing."
   ]
  },
  {
   "cell_type": "code",
   "execution_count": null,
   "metadata": {},
   "outputs": [
    {
     "name": "stdout",
     "output_type": "stream",
     "text": [
      "     1609           1773        1.3128e+03      4.04e-08       9.23e-05       4.40e-04    \n",
      "     1610           1774        1.3128e+03      4.56e-07       1.05e-03       4.27e-04    \n",
      "     1611           1775        1.3128e+03      6.86e-07       1.61e-03       4.19e-04    \n",
      "     1612           1776        1.3128e+03      1.80e-07       4.25e-04       4.18e-04    \n",
      "     1613           1777        1.3128e+03      1.06e-07       2.49e-04       4.17e-04    \n",
      "     1614           1778        1.3128e+03      7.85e-08       1.97e-04       8.83e-03    \n",
      "     1615           1779        1.3128e+03      6.70e-07       1.56e-03       2.37e-03    \n",
      "     1616           1780        1.3128e+03      1.76e-08       4.17e-05       2.33e-03    \n",
      "     1617           1781        1.3128e+03      1.73e-08       4.10e-05       2.28e-03    \n",
      "     1618           1782        1.3128e+03      9.05e-07       2.16e-03       4.25e-04    \n",
      "     1619           1783        1.3128e+03      1.72e-06       4.30e-03       6.00e-04    \n",
      "     1620           1784        1.3128e+03      2.95e-07       1.11e-03       4.20e-04    \n",
      "     1621           1785        1.3128e+03      1.05e-07       2.28e-03       1.43e-03    \n",
      "     1622           1786        1.3128e+03      4.82e-07       6.10e-04       4.45e-04    \n",
      "     1623           1787        1.3128e+03      4.41e-07       8.67e-04       4.62e-04    \n",
      "     1624           1788        1.3128e+03      8.27e-07       1.96e-03       4.33e-04    \n",
      "     1625           1789        1.3128e+03      1.63e-06       3.89e-03       4.32e-04    \n",
      "     1626           1790        1.3128e+03      8.39e-07       7.98e-03       3.03e-03    \n",
      "     1627           1791        1.3128e+03      2.11e-06       1.72e-03       6.98e-03    \n",
      "     1628           1792        1.3128e+03      2.59e-07       2.58e-03       1.74e-03    \n",
      "     1629           1793        1.3128e+03      4.97e-07       5.92e-04       4.98e-04    \n",
      "     1630           1794        1.3128e+03      4.47e-07       8.46e-04       4.98e-04    \n",
      "     1631           1795        1.3128e+03      8.21e-07       1.92e-03       4.12e-04    \n",
      "     1632           1796        1.3128e+03      9.26e-07       2.22e-03       4.17e-04    \n",
      "     1633           1797        1.3128e+03      1.58e-06       3.81e-03       4.15e-04    \n",
      "     1634           1798        1.3128e+03      1.32e-06       7.00e-03       2.47e-03    \n",
      "     1635           1800        1.3128e+03      1.45e-06       2.54e-03       2.17e-03    \n",
      "     1636           1801        1.3128e+03      6.65e-07       1.78e-03       1.50e-03    \n",
      "     1637           1803        1.3128e+03      2.58e-07       5.53e-04       5.02e-04    \n",
      "     1638           1804        1.3128e+03      1.15e-07       2.62e-04       4.13e-04    \n",
      "     1639           1805        1.3128e+03      1.99e-07       4.67e-04       4.13e-04    \n",
      "     1640           1806        1.3128e+03      8.29e-08       1.96e-04       1.19e-03    \n",
      "     1641           1807        1.3128e+03      4.07e-07       9.57e-04       4.10e-04    \n",
      "     1642           1808        1.3128e+03      1.09e-07       2.58e-04       4.10e-04    \n",
      "     1643           1809        1.3128e+03      1.93e-07       4.59e-04       4.11e-04    \n",
      "     1644           1810        1.3128e+03      4.68e-08       1.97e-04       1.81e-02    \n",
      "     1645           1811        1.3128e+03      1.28e-06       3.71e-03       7.83e-04    \n",
      "     1646           1812        1.3128e+03      9.38e-07       2.24e-03       8.14e-04    \n",
      "     1647           1813        1.3128e+03      6.57e-07       4.14e-03       1.80e-03    \n",
      "     1648           1814        1.3128e+03      6.02e-07       3.53e-03       4.48e-03    \n",
      "     1649           1815        1.3128e+03      1.00e-06       1.16e-03       9.13e-04    \n",
      "     1650           1816        1.3128e+03      4.21e-07       8.53e-04       5.02e-04    \n",
      "     1651           1817        1.3128e+03      3.38e-07       8.03e-04       4.60e-04    \n",
      "     1652           1818        1.3128e+03      3.18e-07       7.53e-04       4.39e-04    \n",
      "     1653           1819        1.3128e+03      2.73e-08       6.44e-05       4.38e-04    \n",
      "     1654           1820        1.3128e+03      8.12e-07       1.92e-03       4.09e-04    \n",
      "     1655           1821        1.3128e+03      5.20e-07       1.23e-03       4.11e-04    \n",
      "     1656           1822        1.3128e+03      1.62e-06       3.86e-03       4.11e-04    \n",
      "     1657           1823        1.3128e+03      3.10e-06       7.73e-03       7.29e-04    \n",
      "     1658           1826        1.3128e+03      2.96e-07       8.95e-04       6.92e-04    \n",
      "     1659           1827        1.3128e+03      3.11e-07       7.20e-04       4.98e-04    \n",
      "     1660           1828        1.3128e+03      6.12e-07       1.46e-03       4.12e-04    \n",
      "     1661           1829        1.3128e+03      4.54e-07       1.07e-03       4.06e-04    \n",
      "     1662           1830        1.3128e+03      1.21e-06       2.91e-03       4.08e-04    \n",
      "     1663           1831        1.3128e+03      6.41e-07       1.57e-03       4.12e-04    \n",
      "     1664           1832        1.3128e+03      3.41e-07       8.95e-04       4.14e-04    \n",
      "     1665           1833        1.3128e+03      5.35e-07       2.34e-03       1.06e-03    \n",
      "     1666           1835        1.3128e+03      3.33e-07       1.90e-03       1.72e-03    \n",
      "     1667           1836        1.3128e+03      2.51e-07       3.47e-04       1.97e-03    \n",
      "     1668           1837        1.3128e+03      2.89e-07       9.02e-04       7.00e-04    \n",
      "     1669           1838        1.3128e+03      2.78e-07       7.67e-04       4.10e-04    \n",
      "     1670           1839        1.3128e+03      5.93e-07       1.45e-03       6.03e-04    \n",
      "     1671           1840        1.3128e+03      3.15e-07       8.42e-04       4.12e-04    \n",
      "     1672           1841        1.3128e+03      5.21e-07       2.13e-03       1.03e-03    \n",
      "     1673           1842        1.3128e+03      1.38e-07       2.18e-04       7.71e-04    \n",
      "     1674           1843        1.3128e+03      4.00e-08       7.01e-05       6.88e-04    \n",
      "     1675           1844        1.3128e+03      7.21e-09       1.30e-05       6.74e-04    \n",
      "     1676           1846        1.3128e+03      2.88e-07       8.94e-04       6.97e-04    \n",
      "     1677           1847        1.3128e+03      3.11e-07       7.24e-04       5.29e-04    \n",
      "     1678           1848        1.3128e+03      2.77e-07       6.60e-04       4.16e-04    \n",
      "     1679           1849        1.3128e+03      9.03e-08       2.15e-04       4.15e-04    \n",
      "     1680           1850        1.3128e+03      6.12e-07       1.46e-03       4.09e-04    \n",
      "     1681           1851        1.3128e+03      5.77e-07       1.38e-03       4.04e-04    \n",
      "     1682           1852        1.3128e+03      1.51e-07       3.59e-04       4.08e-04    \n",
      "     1683           1853        1.3128e+03      1.19e-06       2.92e-03       4.04e-04    \n",
      "     1684           1855        1.3128e+03      3.12e-07       1.65e-03       1.14e-03    \n",
      "     1685           1856        1.3128e+03      5.55e-07       1.19e-03       1.83e-03    \n",
      "     1686           1857        1.3128e+03      5.87e-07       1.45e-03       4.10e-04    \n",
      "     1687           1858        1.3128e+03      3.96e-07       9.24e-04       4.07e-04    \n",
      "     1688           1859        1.3128e+03      5.18e-08       1.22e-04       4.07e-04    \n",
      "     1689           1860        1.3128e+03      7.50e-07       1.77e-03       4.09e-04    \n",
      "     1690           1861        1.3128e+03      1.21e-06       2.91e-03       4.10e-04    \n",
      "     1691           1862        1.3128e+03      3.16e-07       8.75e-04       4.10e-04    \n",
      "     1692           1863        1.3128e+03      4.17e-07       9.98e-04       4.11e-04    \n",
      "     1693           1864        1.3128e+03      7.18e-07       1.73e-03       4.13e-04    \n",
      "     1694           1865        1.3128e+03      4.19e-07       1.11e-03       4.07e-04    \n",
      "     1695           1866        1.3128e+03      1.28e-07       3.22e-04       4.06e-04    \n",
      "     1696           1867        1.3128e+03      1.42e-06       3.80e-03       7.52e-04    \n",
      "     1697           1869        1.3128e+03      5.58e-07       1.41e-03       1.79e-03    \n",
      "     1698           1870        1.3128e+03      6.48e-08       1.41e-04       1.60e-03    \n",
      "     1699           1871        1.3128e+03      4.99e-07       1.48e-03       6.59e-04    \n",
      "     1700           1872        1.3128e+03      7.23e-07       2.82e-03       1.48e-03    \n",
      "     1701           1873        1.3128e+03      3.68e-07       1.93e-03       1.14e-03    \n",
      "     1702           1874        1.3128e+03      1.88e-07       3.03e-04       7.31e-04    \n",
      "     1703           1875        1.3128e+03      1.92e-07       4.60e-04       7.78e-04    \n"
     ]
    },
    {
     "name": "stdout",
     "output_type": "stream",
     "text": [
      "     1704           1876        1.3128e+03      1.24e-07       3.03e-04       5.70e-04    \n",
      "     1705           1877        1.3128e+03      3.12e-07       7.34e-04       4.10e-04    \n",
      "     1706           1878        1.3128e+03      3.06e-07       7.24e-04       4.09e-04    \n",
      "     1707           1879        1.3128e+03      2.06e-08       9.73e-05       1.35e-02    \n",
      "     1708           1880        1.3128e+03      7.15e-07       1.83e-03       5.04e-03    \n",
      "     1709           1881        1.3128e+03      1.48e-07       3.59e-04       4.33e-03    \n",
      "     1710           1882        1.3128e+03      1.00e-06       2.50e-03       8.85e-04    \n",
      "     1711           1883        1.3128e+03      1.14e-06       3.44e-03       8.66e-04    \n",
      "     1712           1884        1.3128e+03      6.60e-07       1.63e-03       8.44e-04    \n",
      "     1713           1885        1.3128e+03      1.74e-07       4.04e-04       6.02e-04    \n",
      "     1714           1887        1.3128e+03      4.58e-07       1.58e-03       9.02e-04    \n",
      "     1715           1888        1.3128e+03      1.44e-07       1.88e-03       1.72e-03    \n",
      "     1716           1889        1.3128e+03      2.73e-07       3.31e-04       2.24e-03    \n",
      "     1717           1890        1.3128e+03      2.24e-07       4.88e-04       9.81e-04    \n",
      "     1718           1891        1.3128e+03      2.81e-08       6.55e-05       9.39e-04    \n",
      "     1719           1892        1.3128e+03      2.71e-08       6.40e-05       8.91e-04    \n",
      "     1720           1893        1.3128e+03      8.40e-08       2.04e-04       7.42e-04    \n",
      "     1721           1894        1.3128e+03      3.06e-07       7.64e-04       4.15e-04    \n",
      "     1722           1895        1.3128e+03      5.72e-07       1.51e-03       4.33e-04    \n",
      "     1723           1896        1.3128e+03      4.87e-07       1.19e-03       4.15e-04    \n",
      "     1724           1897        1.3128e+03      2.48e-07       6.15e-04       4.13e-04    \n",
      "     1725           1898        1.3128e+03      2.08e-07       5.06e-04       4.10e-04    \n",
      "     1726           1899        1.3128e+03      5.66e-09       1.35e-05       4.09e-04    \n",
      "     1727           1900        1.3128e+03      1.92e-07       4.61e-04       4.07e-04    \n",
      "     1728           1901        1.3128e+03      7.90e-09       1.89e-05       4.10e-04    \n",
      "     1729           1902        1.3128e+03      4.47e-09       2.18e-05       1.03e-02    \n",
      "     1730           1903        1.3128e+03      5.49e-09       1.24e-05       1.03e-02    \n",
      "     1731           1904        1.3128e+03      6.05e-08       1.37e-04       9.73e-03    \n",
      "     1732           1905        1.3128e+03      1.06e-06       2.54e-03       4.60e-04    \n",
      "     1733           1906        1.3128e+03      2.03e-06       6.48e-03       1.23e-03    \n",
      "     1734           1909        1.3128e+03      4.72e-07       8.32e-04       5.93e-04    \n",
      "     1735           1910        1.3128e+03      8.94e-08       1.74e-04       5.68e-04    \n",
      "     1736           1911        1.3128e+03      1.60e-08       3.22e-05       5.64e-04    \n",
      "     1737           1912        1.3128e+03      2.91e-07       6.08e-04       4.89e-04    \n",
      "     1738           1913        1.3128e+03      4.19e-08       9.28e-05       4.82e-04    \n",
      "     1739           1914        1.3128e+03      3.14e-07       7.03e-04       4.41e-04    \n",
      "     1740           1915        1.3128e+03      4.22e-07       9.72e-04       4.29e-04    \n",
      "     1741           1916        1.3128e+03      1.95e-07       4.60e-04       4.25e-04    \n",
      "     1742           1917        1.3128e+03      2.79e-07       6.56e-04       4.19e-04    \n",
      "     1743           1918        1.3128e+03      3.32e-07       7.87e-04       4.13e-04    \n",
      "     1744           1919        1.3128e+03      2.78e-08       6.58e-05       4.12e-04    \n",
      "     1745           1920        1.3128e+03      6.14e-07       1.47e-03       4.04e-04    \n",
      "     1746           1921        1.3128e+03      1.20e-06       2.95e-03       3.99e-04    \n",
      "     1747           1922        1.3128e+03      3.49e-07       2.00e-03       1.07e-03    \n",
      "     1748           1923        1.3128e+03      4.66e-07       1.50e-03       5.07e-04    \n",
      "     1749           1924        1.3128e+03      9.89e-08       2.31e-04       4.01e-04    \n",
      "     1750           1926        1.3128e+03      4.01e-07       1.61e-03       9.64e-04    \n",
      "     1751           1927        1.3128e+03      3.14e-08       4.92e-05       9.01e-04    \n",
      "     1752           1928        1.3128e+03      2.48e-07       4.49e-04       4.29e-04    \n",
      "     1753           1929        1.3128e+03      1.42e-07       3.60e-04       4.36e-04    \n",
      "     1754           1930        1.3128e+03      2.86e-08       6.83e-05       4.25e-04    \n",
      "     1755           1931        1.3128e+03      1.20e-08       2.85e-05       4.16e-04    \n",
      "     1756           1932        1.3128e+03      5.89e-07       1.49e-03       4.03e-04    \n",
      "     1757           1933        1.3128e+03      2.29e-07       6.44e-04       4.02e-04    \n",
      "     1758           1934        1.3128e+03      8.85e-07       3.06e-03       1.06e-03    \n",
      "     1759           1935        1.3128e+03      8.00e-08       2.38e-03       1.88e-03    \n",
      "     1760           1936        1.3128e+03      3.85e-07       4.20e-04       3.11e-03    \n",
      "     1761           1937        1.3128e+03      2.18e-07       3.96e-04       2.47e-03    \n",
      "     1762           1938        1.3128e+03      2.85e-07       8.61e-04       1.09e-03    \n",
      "     1763           1939        1.3128e+03      1.13e-08       2.53e-05       1.06e-03    \n",
      "     1764           1940        1.3128e+03      1.00e-08       2.25e-05       1.02e-03    \n",
      "     1765           1941        1.3128e+03      5.96e-08       1.37e-04       8.47e-04    \n",
      "     1766           1942        1.3128e+03      6.91e-08       1.61e-04       6.74e-04    \n",
      "     1767           1943        1.3128e+03      5.89e-08       1.38e-04       5.65e-04    \n",
      "     1768           1944        1.3128e+03      3.60e-08       8.46e-05       5.12e-04    \n",
      "     1769           1945        1.3128e+03      3.77e-07       8.93e-04       4.05e-04    \n",
      "     1770           1946        1.3128e+03      1.84e-08       4.39e-05       4.05e-04    \n",
      "     1771           1947        1.3128e+03      1.27e-07       3.04e-04       4.04e-04    \n",
      "     1772           1948        1.3128e+03      7.49e-07       1.80e-03       4.01e-04    \n",
      "     1773           1949        1.3128e+03      1.78e-07       4.37e-04       4.01e-04    \n",
      "     1774           1950        1.3128e+03      8.89e-08       2.13e-04       4.00e-04    \n",
      "     1775           1951        1.3128e+03      1.50e-06       3.61e-03       4.05e-04    \n",
      "     1776           1952        1.3128e+03      5.52e-07       1.34e-03       4.02e-04    \n",
      "     1777           1953        1.3128e+03      6.57e-07       1.59e-03       3.99e-04    \n",
      "     1778           1954        1.3128e+03      3.21e-08       7.69e-05       3.98e-04    \n",
      "     1779           1955        1.3128e+03      7.09e-08       1.70e-04       3.99e-04    \n",
      "     1780           1956        1.3128e+03      3.15e-07       7.57e-04       4.03e-04    \n",
      "     1781           1957        1.3128e+03      7.49e-07       1.85e-03       4.05e-04    \n",
      "     1782           1958        1.3128e+03      3.53e-07       1.07e-03       4.19e-04    \n",
      "     1783           1959        1.3128e+03      2.75e-07       6.27e-04       4.00e-04    \n",
      "     1784           1960        1.3128e+03      1.37e-06       7.36e-03       2.25e-03    \n",
      "     1785           1961        1.3128e+03      1.46e-06       1.44e-03       7.29e-04    \n",
      "     1786           1962        1.3128e+03      6.43e-07       2.62e-03       1.50e-03    \n",
      "     1787           1964        1.3128e+03      7.08e-07       1.72e-03       2.79e-03    \n",
      "     1788           1965        1.3128e+03      1.08e-07       2.28e-04       2.42e-03    \n",
      "     1789           1966        1.3128e+03      7.49e-08       1.66e-04       2.19e-03    \n",
      "     1790           1967        1.3128e+03      6.56e-07       1.81e-03       5.86e-04    \n",
      "     1791           1968        1.3128e+03      6.21e-07       1.67e-03       6.35e-04    \n",
      "     1792           1969        1.3128e+03      2.29e-07       6.69e-04       4.42e-04    \n",
      "     1793           1970        1.3128e+03      9.91e-07       3.68e-03       1.36e-03    \n",
      "     1794           1972        1.3128e+03      5.78e-07       1.18e-03       9.85e-04    \n"
     ]
    },
    {
     "name": "stdout",
     "output_type": "stream",
     "text": [
      "     1795           1973        1.3128e+03      2.13e-08       4.59e-05       9.27e-04    \n",
      "     1796           1974        1.3128e+03      1.66e-07       3.71e-04       4.59e-04    \n",
      "     1797           1975        1.3128e+03      3.40e-07       8.11e-04       4.02e-04    \n",
      "     1798           1976        1.3128e+03      4.76e-08       1.15e-04       4.09e-04    \n",
      "     1799           1977        1.3128e+03      2.80e-08       6.80e-05       4.13e-04    \n",
      "     1800           1978        1.3128e+03      7.68e-09       3.72e-05       7.84e-03    \n",
      "     1801           1979        1.3128e+03      6.56e-07       1.77e-03       6.83e-04    \n",
      "     1802           1980        1.3128e+03      1.32e-07       2.97e-04       6.84e-04    \n",
      "     1803           1981        1.3128e+03      7.38e-07       2.02e-03       6.22e-04    \n",
      "     1804           1982        1.3128e+03      1.16e-06       2.80e-03       4.40e-04    \n",
      "     1805           1983        1.3128e+03      1.01e-06       3.75e-03       1.50e-03    \n",
      "     1806           1985        1.3128e+03      5.14e-07       1.13e-03       7.40e-04    \n",
      "     1807           1986        1.3128e+03      3.78e-07       8.44e-04       4.41e-04    \n",
      "     1808           1987        1.3128e+03      7.40e-07       1.80e-03       3.95e-04    \n",
      "     1809           1988        1.3128e+03      4.87e-07       1.16e-03       3.97e-04    \n",
      "     1810           1989        1.3128e+03      1.16e-06       2.99e-03       5.19e-04    \n",
      "     1811           1990        1.3128e+03      7.32e-07       3.54e-03       1.78e-03    \n",
      "     1812           1992        1.3128e+03      6.83e-07       1.15e-03       8.78e-04    \n",
      "     1813           1993        1.3128e+03      3.82e-07       8.40e-04       4.45e-04    \n",
      "     1814           1994        1.3128e+03      1.24e-07       2.98e-04       4.35e-04    \n",
      "     1815           1995        1.3128e+03      2.37e-07       5.73e-04       4.19e-04    \n",
      "     1816           1996        1.3128e+03      4.43e-08       1.07e-04       4.17e-04    \n",
      "     1817           1997        1.3128e+03      3.15e-08       7.59e-05       4.17e-04    \n",
      "     1818           1998        1.3128e+03      3.45e-07       8.30e-04       4.05e-04    \n",
      "     1819           1999        1.3128e+03      3.81e-08       9.17e-05       4.04e-04    \n",
      "     1820           2000        1.3128e+03      1.04e-08       2.49e-05       4.04e-04    \n",
      "     1821           2001        1.3128e+03      4.75e-07       1.14e-03       3.97e-04    \n",
      "     1822           2002        1.3128e+03      1.77e-08       4.26e-05       3.98e-04    \n",
      "     1823           2003        1.3128e+03      1.14e-08       5.46e-05       1.01e-02    \n",
      "     1824           2004        1.3128e+03      6.29e-07       1.63e-03       5.45e-03    \n",
      "     1825           2005        1.3128e+03      1.22e-07       3.06e-04       4.92e-03    \n",
      "     1826           2006        1.3128e+03      4.72e-08       1.18e-04       4.73e-03    \n",
      "     1827           2007        1.3128e+03      6.30e-08       1.57e-04       4.49e-03    \n",
      "     1828           2008        1.3128e+03      4.52e-09       1.13e-05       4.48e-03    \n",
      "     1829           2009        1.3128e+03      3.00e-07       7.56e-04       3.38e-03    \n",
      "     1830           2010        1.3128e+03      2.21e-07       5.52e-04       2.76e-03    \n",
      "     1831           2011        1.3128e+03      5.28e-08       1.31e-04       2.64e-03    \n",
      "     1832           2012        1.3128e+03      1.31e-07       3.25e-04       2.34e-03    \n",
      "     1833           2013        1.3128e+03      7.43e-07       2.07e-03       7.16e-04    \n",
      "     1834           2014        1.3128e+03      1.48e-06       3.53e-03       5.86e-04    \n",
      "     1835           2015        1.3128e+03      2.03e-07       4.85e-04       4.23e-04    \n",
      "     1836           2016        1.3128e+03      2.79e-06       7.54e-03       1.08e-03    \n",
      "     1837           2019        1.3128e+03      3.54e-07       9.19e-04       1.09e-03    \n",
      "     1838           2020        1.3128e+03      1.91e-07       4.55e-04       4.86e-04    \n",
      "     1839           2021        1.3128e+03      3.72e-07       8.52e-04       4.26e-04    \n",
      "     1840           2022        1.3128e+03      7.29e-07       1.72e-03       4.16e-04    \n",
      "     1841           2023        1.3128e+03      1.40e-06       3.53e-03       5.05e-04    \n",
      "     1842           2025        1.3128e+03      1.42e-07       2.05e-03       1.53e-03    \n",
      "     1843           2026        1.3128e+03      3.45e-07       4.14e-04       2.92e-03    \n",
      "     1844           2027        1.3128e+03      3.79e-07       1.18e-03       1.06e-03    \n",
      "     1845           2028        1.3128e+03      2.97e-07       9.57e-04       6.19e-04    \n",
      "     1846           2029        1.3128e+03      3.67e-07       8.66e-04       1.02e-03    \n",
      "     1847           2030        1.3128e+03      7.26e-07       1.76e-03       3.93e-04    \n",
      "     1848           2031        1.3128e+03      1.31e-06       3.51e-03       7.43e-04    \n",
      "     1849           2034        1.3128e+03      2.21e-07       5.33e-04       4.04e-04    \n",
      "     1850           2035        1.3128e+03      1.85e-07       4.31e-04       4.05e-04    \n",
      "     1851           2036        1.3128e+03      2.07e-07       4.97e-04       3.97e-04    \n",
      "     1852           2037        1.3128e+03      3.66e-07       8.85e-04       4.00e-04    \n",
      "     1853           2038        1.3128e+03      5.05e-07       1.22e-03       3.91e-04    \n",
      "     1854           2039        1.3128e+03      1.14e-08       2.76e-05       3.97e-04    \n",
      "     1855           2040        1.3128e+03      7.31e-07       1.77e-03       3.94e-04    \n",
      "     1856           2041        1.3128e+03      2.81e-07       6.79e-04       3.96e-04    \n",
      "     1857           2042        1.3128e+03      9.43e-07       2.28e-03       3.97e-04    \n",
      "     1858           2043        1.3128e+03      2.26e-07       5.48e-04       3.93e-04    \n",
      "     1859           2044        1.3128e+03      9.43e-08       2.28e-04       3.95e-04    \n",
      "     1860           2045        1.3128e+03      1.46e-06       3.53e-03       3.93e-04    \n",
      "     1861           2046        1.3128e+03      3.94e-07       9.55e-04       3.93e-04    \n",
      "     1862           2047        1.3128e+03      1.55e-06       3.76e-03       3.94e-04    \n",
      "     1863           2048        1.3128e+03      5.85e-07       1.42e-03       3.94e-04    \n",
      "     1864           2049        1.3128e+03      9.55e-07       2.31e-03       3.91e-04    \n",
      "     1865           2050        1.3128e+03      1.04e-06       2.51e-03       3.96e-04    \n",
      "     1866           2051        1.3128e+03      3.94e-07       9.56e-04       3.94e-04    \n",
      "     1867           2052        1.3128e+03      3.27e-07       7.91e-04       3.93e-04    \n",
      "     1868           2053        1.3128e+03      2.91e-06       7.07e-03       3.93e-04    \n",
      "     1869           2054        1.3128e+03      5.75e-06       1.41e-02       6.09e-04    \n",
      "     1870           2057        1.3128e+03      6.15e-07       1.76e-03       1.17e-03    \n",
      "     1871           2058        1.3128e+03      6.78e-08       2.06e-03       1.59e-03    \n",
      "     1872           2059        1.3128e+03      3.62e-07       4.11e-04       3.09e-03    \n",
      "     1873           2060        1.3128e+03      4.06e-07       1.19e-03       1.15e-03    \n",
      "     1874           2061        1.3128e+03      3.07e-07       9.36e-04       5.61e-04    \n",
      "     1875           2062        1.3128e+03      3.61e-07       8.64e-04       9.54e-04    \n",
      "     1876           2063        1.3128e+03      7.17e-07       1.76e-03       3.88e-04    \n",
      "     1877           2064        1.3128e+03      1.29e-06       3.50e-03       7.96e-04    \n",
      "     1878           2066        1.3128e+03      2.82e-07       8.78e-04       7.19e-04    \n",
      "     1879           2067        1.3128e+03      1.70e-07       3.83e-04       3.90e-04    \n",
      "     1880           2068        1.3128e+03      2.92e-07       7.08e-04       3.93e-04    \n",
      "     1881           2069        1.3128e+03      5.05e-07       1.22e-03       3.87e-04    \n",
      "     1882           2070        1.3128e+03      1.79e-07       4.34e-04       3.87e-04    \n",
      "     1883           2071        1.3128e+03      2.41e-07       5.84e-04       3.88e-04    \n",
      "     1884           2072        1.3128e+03      5.83e-07       1.42e-03       3.90e-04    \n",
      "     1885           2073        1.3128e+03      1.15e-06       2.84e-03       3.90e-04    \n",
      "     1886           2074        1.3128e+03      1.62e-06       5.67e-03       1.63e-03    \n",
      "     1887           2076        1.3128e+03      6.74e-07       1.88e-03       1.64e-03    \n",
      "     1888           2077        1.3128e+03      5.31e-07       1.34e-03       1.49e-03    \n",
      "     1889           2078        1.3128e+03      2.66e-07       1.62e-03       1.30e-03    \n",
      "     1890           2079        1.3128e+03      5.80e-07       1.33e-03       2.37e-03    \n",
      "     1891           2080        1.3128e+03      2.60e-07       6.49e-04       1.22e-03    \n",
      "     1892           2081        1.3128e+03      5.25e-08       1.26e-04       1.15e-03    \n"
     ]
    },
    {
     "name": "stdout",
     "output_type": "stream",
     "text": [
      "     1893           2082        1.3128e+03      5.30e-07       1.45e-03       4.86e-04    \n",
      "     1894           2084        1.3128e+03      2.45e-07       8.18e-04       5.71e-04    \n",
      "     1895           2085        1.3128e+03      2.94e-07       7.02e-04       7.14e-04    \n",
      "     1896           2086        1.3128e+03      4.07e-07       9.80e-04       3.90e-04    \n",
      "     1897           2087        1.3128e+03      5.80e-07       1.41e-03       3.88e-04    \n",
      "     1898           2088        1.3128e+03      1.07e-06       2.86e-03       6.11e-04    \n",
      "     1899           2090        1.3128e+03      5.22e-07       1.39e-03       1.40e-03    \n",
      "     1900           2091        1.3128e+03      3.30e-07       1.55e-03       1.03e-03    \n",
      "     1901           2092        1.3128e+03      5.51e-07       1.34e-03       2.11e-03    \n",
      "     1902           2093        1.3128e+03      3.77e-07       1.51e-03       9.78e-04    \n",
      "     1903           2094        1.3128e+03      5.41e-07       1.34e-03       1.99e-03    \n",
      "     1904           2095        1.3128e+03      3.63e-07       1.52e-03       1.01e-03    \n",
      "     1905           2096        1.3128e+03      5.43e-07       1.34e-03       2.05e-03    \n",
      "     1906           2097        1.3128e+03      3.58e-07       1.52e-03       1.01e-03    \n",
      "     1907           2098        1.3128e+03      4.48e-07       8.99e-04       1.30e-03    \n",
      "     1908           2099        1.3128e+03      5.61e-07       1.42e-03       4.00e-04    \n",
      "     1909           2100        1.3128e+03      2.14e-07       2.64e-03       1.64e-03    \n",
      "     1910           2101        1.3128e+03      4.96e-07       5.54e-04       3.55e-03    \n",
      "     1911           2102        1.3128e+03      3.61e-07       8.15e-04       2.34e-03    \n",
      "     1912           2103        1.3128e+03      4.90e-07       1.23e-03       3.86e-04    \n",
      "     1913           2104        1.3128e+03      6.01e-08       1.46e-04       3.84e-04    \n",
      "     1914           2105        1.3128e+03      7.51e-07       2.43e-03       8.58e-04    \n",
      "     1915           2106        1.3128e+03      5.81e-07       2.29e-03       2.12e-03    \n",
      "     1916           2107        1.3128e+03      3.46e-07       6.76e-04       1.40e-03    \n",
      "     1917           2108        1.3128e+03      4.22e-07       2.49e-03       1.35e-03    \n",
      "     1918           2109        1.3128e+03      7.98e-07       1.90e-03       2.78e-03    \n",
      "     1919           2111        1.3128e+03      2.60e-07       6.57e-04       5.27e-04    \n",
      "     1920           2112        1.3128e+03      2.50e-07       5.73e-04       5.35e-04    \n",
      "     1921           2113        1.3128e+03      4.92e-07       1.18e-03       3.93e-04    \n",
      "     1922           2114        1.3128e+03      8.31e-07       2.10e-03       3.90e-04    \n",
      "     1923           2115        1.3128e+03      1.89e-07       4.41e-04       3.85e-04    \n",
      "     1924           2116        1.3128e+03      7.26e-07       2.48e-03       9.27e-04    \n",
      "     1925           2118        1.3128e+03      3.27e-07       7.67e-04       5.92e-04    \n",
      "     1926           2119        1.3128e+03      4.01e-08       9.14e-05       4.84e-04    \n",
      "     1927           2120        1.3128e+03      2.48e-07       5.89e-04       3.89e-04    \n",
      "     1928           2121        1.3128e+03      2.21e-07       5.41e-04       3.83e-04    \n",
      "     1929           2122        1.3128e+03      4.89e-07       1.20e-03       3.90e-04    \n",
      "     1930           2123        1.3128e+03      3.16e-07       7.73e-04       3.93e-04    \n",
      "     1931           2124        1.3128e+03      9.78e-07       2.39e-03       3.87e-04    \n",
      "     1932           2125        1.3128e+03      1.95e-06       4.76e-03       3.83e-04    \n",
      "     1933           2126        1.3128e+03      8.63e-07       2.16e-03       3.83e-04    \n",
      "     1934           2128        1.3128e+03      6.04e-07       2.52e-03       1.18e-03    \n",
      "     1935           2129        1.3128e+03      6.16e-07       2.24e-03       2.68e-03    \n",
      "     1936           2130        1.3128e+03      3.38e-07       6.58e-04       1.86e-03    \n",
      "     1937           2131        1.3128e+03      2.38e-07       6.15e-04       1.34e-03    \n",
      "     1938           2132        1.3128e+03      1.85e-07       4.66e-04       1.12e-03    \n",
      "     1939           2133        1.3128e+03      9.51e-07       2.35e-03       3.91e-04    \n",
      "     1940           2134        1.3128e+03      1.22e-06       4.74e-03       1.67e-03    \n",
      "     1941           2136        1.3128e+03      7.17e-07       1.58e-03       1.32e-03    \n",
      "     1942           2137        1.3128e+03      4.78e-07       1.14e-03       7.26e-04    \n",
      "     1943           2138        1.3128e+03      5.09e-07       2.58e-03       1.50e-03    \n",
      "     1944           2139        1.3128e+03      6.65e-07       2.20e-03       3.01e-03    \n",
      "     1945           2141        1.3128e+03      3.72e-07       6.88e-04       6.11e-04    \n",
      "     1946           2142        1.3128e+03      2.44e-07       5.52e-04       4.27e-04    \n",
      "     1947           2143        1.3128e+03      2.18e-07       5.26e-04       4.08e-04    \n",
      "     1948           2144        1.3128e+03      4.79e-07       1.16e-03       3.85e-04    \n",
      "     1949           2145        1.3128e+03      7.45e-07       1.81e-03       3.83e-04    \n",
      "     1950           2146        1.3128e+03      9.57e-07       2.34e-03       3.86e-04    \n",
      "     1951           2147        1.3128e+03      9.48e-07       2.32e-03       3.80e-04    \n",
      "     1952           2148        1.3128e+03      1.53e-06       3.78e-03       3.80e-04    \n",
      "     1953           2149        1.3128e+03      1.57e-06       4.68e-03       1.14e-03    \n",
      "     1954           2151        1.3128e+03      4.00e-07       8.73e-04       3.90e-04    \n",
      "     1955           2152        1.3128e+03      4.43e-07       1.05e-03       4.02e-04    \n",
      "     1956           2153        1.3128e+03      3.10e-07       7.67e-04       3.90e-04    \n",
      "     1957           2154        1.3128e+03      2.44e-07       5.99e-04       3.87e-04    \n",
      "     1958           2155        1.3128e+03      3.58e-07       8.74e-04       3.82e-04    \n",
      "     1959           2156        1.3128e+03      1.84e-07       4.52e-04       3.81e-04    \n",
      "     1960           2157        1.3128e+03      8.84e-07       2.17e-03       3.84e-04    \n",
      "     1961           2158        1.3128e+03      5.63e-07       1.38e-03       3.83e-04    \n",
      "     1962           2159        1.3128e+03      5.68e-07       1.40e-03       3.82e-04    \n",
      "     1963           2160        1.3128e+03      1.62e-06       4.36e-03       7.28e-04    \n",
      "     1964           2161        1.3128e+03      2.43e-07       3.95e-03       2.19e-03    \n",
      "     1965           2162        1.3128e+03      1.14e-06       1.37e-03       9.90e-04    \n",
      "     1966           2163        1.3128e+03      4.33e-07       9.36e-04       4.51e-04    \n",
      "     1967           2164        1.3128e+03      9.19e-08       2.26e-04       4.41e-04    \n",
      "     1968           2165        1.3128e+03      8.39e-07       2.09e-03       4.05e-04    \n",
      "     1969           2166        1.3128e+03      1.65e-06       4.05e-03       3.92e-04    \n",
      "     1970           2167        1.3128e+03      1.84e-06       6.08e-03       1.52e-03    \n",
      "     1971           2168        1.3128e+03      5.22e-07       2.03e-03       1.12e-03    \n",
      "     1972           2171        1.3128e+03      2.87e-07       6.57e-04       9.99e-04    \n",
      "     1973           2172        1.3128e+03      6.27e-08       1.46e-04       7.76e-04    \n",
      "     1974           2173        1.3128e+03      2.14e-07       5.10e-04       3.98e-04    \n",
      "     1975           2174        1.3128e+03      2.41e-07       5.75e-04       3.97e-04    \n",
      "     1976           2175        1.3128e+03      3.56e-07       8.62e-04       3.90e-04    \n",
      "     1977           2176        1.3128e+03      4.17e-07       1.02e-03       3.81e-04    \n",
      "     1978           2177        1.3128e+03      2.84e-07       6.95e-04       3.80e-04    \n",
      "     1979           2178        1.3128e+03      8.36e-07       2.04e-03       3.78e-04    \n",
      "     1980           2179        1.3128e+03      1.60e-06       4.13e-03       5.27e-04    \n",
      "     1981           2181        1.3128e+03      6.55e-07       2.02e-03       1.19e-03    \n",
      "     1982           2183        1.3128e+03      2.39e-07       6.14e-04       4.67e-04    \n",
      "     1983           2184        1.3128e+03      2.11e-07       4.99e-04       3.96e-04    \n",
      "     1984           2185        1.3128e+03      4.18e-07       1.02e-03       3.76e-04    \n"
     ]
    },
    {
     "name": "stdout",
     "output_type": "stream",
     "text": [
      "     1985           2186        1.3128e+03      1.24e-07       3.03e-04       3.76e-04    \n",
      "     1986           2187        1.3128e+03      3.93e-07       9.66e-04       3.76e-04    \n",
      "     1987           2188        1.3128e+03      4.64e-07       1.16e-03       3.76e-04    \n",
      "     1988           2189        1.3128e+03      8.14e-07       2.06e-03       3.91e-04    \n",
      "     1989           2190        1.3128e+03      1.13e-07       2.92e-04       3.86e-04    \n",
      "     1990           2191        1.3128e+03      2.23e-07       5.51e-04       3.84e-04    \n",
      "[[Variables]]\n",
      "    stars_add_exp_a: -4.03979684 (init = 0)\n",
      "    stars_add_exp_b:  0.09968240 (init = 0)\n",
      "    stars_add_exp_c: -0.07092916 (init = 0)\n",
      "    stars_add_exp_d:  7.99702314 (init = 0)\n",
      "    stars_add_exp_e:  1.4423e-13 (init = 0)\n",
      "    stars_add_exp_f:  9.9682e-11 (init = 0)\n",
      "    stars_add_exp_g: -1.4902e-08 (init = 0)\n",
      "    stars_add_exp_h:  9.9881e-11 (init = 0)\n",
      "    stars_add_leg_i:  1.85343931 (init = 0)\n",
      "    stars_add_leg_j:  1.4594e-31 (init = 0)\n",
      "    stars_add_leg_k:  1.0604e-40 (init = 0)\n",
      "    stars_add_leg_l:  0 (fixed)\n",
      "    stars_add_leg_m:  0 (fixed)\n",
      "    stars_add_leg_n:  0 (fixed)\n",
      "    stars_add_leg_o:  0 (fixed)\n",
      "    stars_add_leg_p:  0 (fixed)\n",
      "    stars_add_leg_q:  0 (fixed)\n",
      "    stars_add_leg_r:  0 (fixed)\n",
      "    qso_mult_exp_a:   0.52405345 (init = 0)\n",
      "    qso_mult_exp_b:   3.65929397 (init = 0)\n",
      "    qso_mult_exp_c:  -0.52403768 (init = 0)\n",
      "    qso_mult_exp_d:   5.81486834 (init = 0)\n",
      "    qso_mult_exp_e:   2.0774e-13 (init = 0)\n",
      "    qso_mult_exp_f:   1.0000e-10 (init = 0)\n",
      "    qso_mult_exp_g:   6.9971e-33 (init = 0)\n",
      "    qso_mult_exp_h:   1.0000e-10 (init = 0)\n",
      "    qso_mult_leg_i:   2.1926e-34 (init = 0)\n",
      "    qso_mult_leg_j:   1.1956e-34 (init = 0)\n",
      "    qso_mult_leg_k:   4.0197e-37 (init = 0)\n",
      "    qso_mult_leg_l:   0 (fixed)\n",
      "    qso_mult_leg_m:   0 (fixed)\n",
      "    qso_mult_leg_n:   0 (fixed)\n",
      "    qso_mult_leg_o:   0 (fixed)\n",
      "    qso_mult_leg_p:   0 (fixed)\n",
      "    qso_mult_leg_q:   0 (fixed)\n",
      "    qso_mult_leg_r:   0 (fixed)\n",
      "FITSPEC: Continuum fit took 49.0 s.\n",
      "   Iteration     Total nfev        Cost      Cost reduction    Step norm     Optimality   \n",
      "       0              1         8.8618e+03                                    1.39e+04    \n",
      "       1              2         4.1516e+03      4.71e+03       1.52e+02       2.83e+03    \n",
      "       2              3         3.3582e+03      7.93e+02       8.14e+01       6.60e+02    \n",
      "       3              4         3.1540e+03      2.04e+02       4.21e+01       1.31e+03    \n",
      "       4              5         3.0312e+03      1.23e+02       1.39e+02       1.38e+03    \n",
      "       5              6         2.8451e+03      1.86e+02       1.01e+02       1.31e+03    \n",
      "       6              7         2.4362e+03      4.09e+02       1.47e+02       7.37e+02    \n",
      "       7              8         2.1834e+03      2.53e+02       9.76e+01       1.77e+03    \n",
      "       8              9         2.1546e+03      2.88e+01       2.24e+01       1.13e+03    \n",
      "       9             10         2.1117e+03      4.29e+01       2.63e+01       2.65e+02    \n",
      "      10             11         2.1071e+03      4.58e+00       1.46e+01       1.74e+02    \n",
      "      11             12         2.1068e+03      3.10e-01       3.17e+00       1.32e+02    \n",
      "      12             13         2.1066e+03      2.41e-01       2.78e+00       3.73e+01    \n",
      "      13             14         2.1065e+03      4.54e-02       1.09e+00       8.84e+00    \n",
      "      14             15         2.1065e+03      6.52e-03       5.41e-01       1.67e+00    \n",
      "      15             16         2.1065e+03      1.35e-03       2.65e-01       8.51e-01    \n",
      "      16             17         2.1065e+03      3.83e-04       1.49e-01       4.58e-01    \n",
      "      17             18         2.1065e+03      1.15e-04       7.89e-02       2.47e-01    \n",
      "      18             19         2.1065e+03      3.51e-05       4.45e-02       1.36e-01    \n",
      "      19             20         2.1065e+03      1.08e-05       2.41e-02       7.45e-02    \n",
      "`ftol` termination condition is satisfied.\n",
      "Function evaluations 20, initial cost 8.8618e+03, final cost 2.1065e+03, first-order optimality 7.45e-02.\n",
      "[[Model]]\n",
      "    ((((((((Model(manygauss, prefix='Hbeta_0_', SPECRES='<q3dfit.spectConvol.spectConvol object at 0x7fb2c0937130>') + Model(manygauss, prefix='Hbeta_1_', SPECRES='<q3dfit.spectConvol.spectConvol object at 0x7fb2c0937130>')) + Model(manygauss, prefix='Hbeta_2_', SPECRES='<q3dfit.spectConvol.spectConvol object at 0x7fb2c0937130>')) + Model(manygauss, prefix='lbOIIIrb4959_0_', SPECRES='<q3dfit.spectConvol.spectConvol object at 0x7fb2c0937130>')) + Model(manygauss, prefix='lbOIIIrb4959_1_', SPECRES='<q3dfit.spectConvol.spectConvol object at 0x7fb2c0937130>')) + Model(manygauss, prefix='lbOIIIrb4959_2_', SPECRES='<q3dfit.spectConvol.spectConvol object at 0x7fb2c0937130>')) + Model(manygauss, prefix='lbOIIIrb5007_0_', SPECRES='<q3dfit.spectConvol.spectConvol object at 0x7fb2c0937130>')) + Model(manygauss, prefix='lbOIIIrb5007_1_', SPECRES='<q3dfit.spectConvol.spectConvol object at 0x7fb2c0937130>')) + Model(manygauss, prefix='lbOIIIrb5007_2_', SPECRES='<q3dfit.spectConvol.spectConvol object at 0x7fb2c0937130>'))\n",
      "[[Fit Statistics]]\n",
      "    # fitting method   = least_squares\n",
      "    # function evals   = 20\n",
      "    # data points      = 682\n",
      "    # variables        = 12\n",
      "    chi-square         = 4213.06708\n",
      "    reduced chi-square = 6.28815983\n",
      "    Akaike info crit   = 1265.86507\n",
      "    Bayesian info crit = 1320.16543\n",
      "    R-squared          = 0.99396017\n",
      "[[Variables]]\n",
      "    Hbeta_0_flx:         0.64196245 +/- 11.3322477 (1765.25%) (init = 39.92791)\n",
      "    Hbeta_0_cwv:         1.92360799 +/- 2.1144e-04 (0.01%) == '4.862708e-01 / 5.008237e-01 * lbOIIIrb5007_0_cwv'\n",
      "    Hbeta_0_sig:         40.0000000 +/- 57.2366979 (143.09%) == 'lbOIIIrb5007_0_sig'\n",
      "    Hbeta_1_flx:         44.3865288 +/- 3.94894093 (8.90%) (init = 39.92791)\n",
      "    Hbeta_1_cwv:         1.91698773 +/- 7.9442e-05 (0.00%) == '4.862708e-01 / 5.008237e-01 * lbOIIIrb5007_1_cwv'\n",
      "    Hbeta_1_sig:         234.394724 +/- 10.1711879 (4.34%) == 'lbOIIIrb5007_1_sig'\n",
      "    Hbeta_2_flx:         30.4440181 +/- 3.37283712 (11.08%) (init = 24.96845)\n",
      "    Hbeta_2_cwv:         1.92196357 +/- 2.0633e-04 (0.01%) == '4.862708e-01 / 5.008237e-01 * lbOIIIrb5007_2_cwv'\n",
      "    Hbeta_2_sig:         299.047061 +/- 22.8176552 (7.63%) == 'lbOIIIrb5007_2_sig'\n",
      "    lbOIIIrb4959_0_flx:  14.3284534 +/- 14.6002199 (101.90%) == 'lbOIIIrb5007_0_flx/3.'\n",
      "    lbOIIIrb4959_0_cwv:  1.96221142 +/- 2.1569e-04 (0.01%) == '4.960294e-01 / 5.008237e-01 * lbOIIIrb5007_0_cwv'\n",
      "    lbOIIIrb4959_0_sig:  40.0000000 +/- 57.2366979 (143.09%) == 'lbOIIIrb5007_0_sig'\n",
      "    lbOIIIrb4959_1_flx:  80.0527720 +/- 2.29588051 (2.87%) == 'lbOIIIrb5007_1_flx/3.'\n",
      "    lbOIIIrb4959_1_cwv:  1.95545830 +/- 8.1036e-05 (0.00%) == '4.960294e-01 / 5.008237e-01 * lbOIIIrb5007_1_cwv'\n",
      "    lbOIIIrb4959_1_sig:  234.394724 +/- 10.1711879 (4.34%) == 'lbOIIIrb5007_1_sig'\n",
      "    lbOIIIrb4959_2_flx:  41.0205002 +/- 2.12143952 (5.17%) == 'lbOIIIrb5007_2_flx/3.'\n",
      "    lbOIIIrb4959_2_cwv:  1.96053400 +/- 2.1047e-04 (0.01%) == '4.960294e-01 / 5.008237e-01 * lbOIIIrb5007_2_cwv'\n",
      "    lbOIIIrb4959_2_sig:  299.047061 +/- 22.8176552 (7.63%) == 'lbOIIIrb5007_2_sig'\n",
      "    lbOIIIrb5007_0_flx:  42.9853601 +/- 43.8006597 (101.90%) (init = 202.2287)\n",
      "    lbOIIIrb5007_0_cwv:  1.98117688 +/- 2.1777e-04 (0.01%) (init = 1.977703)\n",
      "    lbOIIIrb5007_0_sig:  40.0000000 +/- 57.2366979 (143.09%) (init = 50)\n",
      "    lbOIIIrb5007_1_flx:  240.158316 +/- 6.88764153 (2.87%) (init = 202.2287)\n",
      "    lbOIIIrb5007_1_cwv:  1.97435850 +/- 8.1820e-05 (0.00%) (init = 1.977703)\n",
      "    lbOIIIrb5007_1_sig:  234.394724 +/- 10.1711879 (4.34%) (init = 500)\n",
      "    lbOIIIrb5007_2_flx:  123.061501 +/- 6.36431854 (5.17%) (init = 107.3015)\n",
      "    lbOIIIrb5007_2_cwv:  1.97948326 +/- 2.1250e-04 (0.01%) (init = 1.982761)\n",
      "    lbOIIIrb5007_2_sig:  299.047061 +/- 22.8176552 (7.63%) (init = 50)\n",
      "FITSPEC: Line fit took 3.7 s.\n",
      "FIT STATUS: 2\n",
      "FITLOOP: Second call to FITSPEC\n",
      "   Iteration     Total nfev        Cost      Cost reduction    Step norm     Optimality   \n",
      "       0              1         2.4684e+04                                    2.48e+03    \n",
      "       1              2         2.4683e+04      7.16e-02       1.41e-05       2.48e+03    \n",
      "       2              3         2.4683e+04      1.43e-01       2.83e-05       2.48e+03    \n",
      "       3              4         2.4683e+04      2.86e-01       5.66e-05       2.48e+03    \n",
      "       4              5         2.4682e+04      5.73e-01       1.13e-04       2.48e+03    \n",
      "       5              6         2.4681e+04      1.15e+00       2.26e-04       2.48e+03    \n"
     ]
    },
    {
     "name": "stdout",
     "output_type": "stream",
     "text": [
      "       6              7         2.4679e+04      2.29e+00       4.53e-04       2.48e+03    \n",
      "       7              8         2.4674e+04      4.58e+00       9.05e-04       2.48e+03    \n",
      "       8              9         2.4665e+04      9.16e+00       1.81e-03       2.48e+03    \n",
      "       9             10         2.4647e+04      1.83e+01       3.62e-03       2.48e+03    \n",
      "      10             11         2.4610e+04      3.66e+01       7.24e-03       2.47e+03    \n",
      "      11             12         2.4537e+04      7.32e+01       1.45e-02       2.47e+03    \n",
      "      12             13         2.4391e+04      1.46e+02       2.90e-02       2.46e+03    \n",
      "      13             14         2.4101e+04      2.91e+02       5.79e-02       2.45e+03    \n",
      "      14             15         2.3525e+04      5.76e+02       1.16e-01       2.42e+03    \n",
      "      15             16         2.2392e+04      1.13e+03       2.32e-01       2.36e+03    \n",
      "      16             17         2.0198e+04      2.19e+03       4.63e-01       2.27e+03    \n",
      "      17             18         1.6023e+04      4.17e+03       9.27e-01       2.12e+03    \n",
      "      18             19         8.2502e+03      7.77e+03       1.85e+00       1.81e+03    \n",
      "      19             20         3.9351e+03      4.32e+03       3.63e+00       8.12e+03    \n",
      "      20             21         2.5627e+03      1.37e+03       3.70e+00       2.62e+03    \n",
      "      21             22         1.8195e+03      7.43e+02       2.01e+00       1.27e+03    \n",
      "      22             23         1.7757e+03      4.38e+01       3.71e+00       1.17e+03    \n",
      "      23             25         1.6572e+03      1.18e+02       9.03e-01       1.21e+02    \n",
      "      24             27         1.6507e+03      6.53e+00       5.98e-01       4.61e+00    \n",
      "      25             28         1.6497e+03      9.59e-01       9.42e-01       7.36e+01    \n",
      "      26             29         1.6476e+03      2.13e+00       9.73e-01       4.12e+01    \n",
      "      27             30         1.6474e+03      2.49e-01       1.45e-02       8.55e+00    \n",
      "      28             31         1.6471e+03      2.73e-01       2.17e-01       3.07e+00    \n",
      "      29             33         1.6467e+03      3.52e-01       4.55e-01       3.11e+00    \n",
      "      30             34         1.6464e+03      2.81e-01       8.90e-01       6.29e+00    \n",
      "      31             35         1.6464e+03      2.45e-02       6.48e-03       4.30e+00    \n",
      "      32             36         1.6464e+03      9.32e-03       9.50e-01       2.18e+01    \n",
      "      33             37         1.6463e+03      6.43e-02       9.29e-03       3.68e+00    \n",
      "      34             38         1.6463e+03      6.54e-02       1.68e-01       6.75e-01    \n",
      "      35             39         1.6462e+03      5.78e-02       2.54e-01       7.95e-01    \n",
      "      36             42         1.6462e+03      1.91e-03       7.38e-02       1.88e-01    \n",
      "      37             44         1.6462e+03      2.21e-04       2.71e-02       2.68e-02    \n",
      "      38             46         1.6462e+03      4.15e-05       2.12e-02       1.25e-02    \n",
      "      39             47         1.6462e+03      5.82e-05       1.29e-02       1.21e-02    \n",
      "      40             48         1.6462e+03      1.29e-05       1.44e-02       5.75e-03    \n",
      "      41             50         1.6462e+03      1.34e-05       5.99e-03       4.83e-03    \n",
      "      42             51         1.6462e+03      1.59e-06       5.38e-03       3.31e-03    \n",
      "      43             52         1.6462e+03      1.70e-06       1.40e-03       3.69e-04    \n",
      "      44             53         1.6462e+03      1.68e-06       1.36e-03       8.04e-04    \n",
      "      45             54         1.6462e+03      3.41e-07       3.09e-03       2.30e-03    \n",
      "      46             55         1.6462e+03      1.12e-06       3.69e-03       2.62e-03    \n",
      "      47             57         1.6462e+03      2.11e-07       1.50e-03       6.94e-04    \n",
      "      48             58         1.6462e+03      7.31e-08       8.65e-04       6.01e-04    \n",
      "      49             60         1.6462e+03      3.07e-08       3.60e-04       1.29e-04    \n",
      "      50             61         1.6462e+03      1.77e-08       1.03e-04       7.73e-05    \n",
      "      51             63         1.6462e+03      2.90e-09       1.45e-04       7.60e-05    \n",
      "      52             64         1.6462e+03      3.89e-09       9.38e-05       9.54e-05    \n",
      "      53             66         1.6462e+03      1.36e-09       3.39e-05       2.49e-05    \n",
      "      54             68         1.6462e+03      5.30e-10       1.80e-05       3.10e-05    \n",
      "      55             70         1.6462e+03      1.90e-10       1.43e-05       1.15e-05    \n",
      "      56             71         1.6462e+03      2.56e-10       2.93e-05       1.41e-05    \n",
      "      57             72         1.6462e+03      8.32e-11       6.16e-05       3.94e-05    \n",
      "      58             74         1.6462e+03      1.30e-10       2.20e-05       1.44e-05    \n",
      "      59             75         1.6462e+03      5.96e-11       1.56e-05       9.00e-06    \n",
      "      60             77         1.6462e+03      1.89e-11       1.10e-05       1.05e-05    \n",
      "      61             78         1.6462e+03      2.32e-11       8.42e-06       1.08e-05    \n",
      "      62             79         1.6462e+03      6.59e-12       9.18e-06       7.71e-06    \n",
      "      63             80         1.6462e+03      5.46e-12       2.30e-06       1.14e-05    \n",
      "      64             81         1.6462e+03      4.55e-13       1.39e-06       5.86e-06    \n",
      "      65             82         1.6462e+03      6.82e-13       4.39e-07       7.39e-06    \n",
      "`ftol` termination condition is satisfied.\n",
      "Function evaluations 82, initial cost 2.4684e+04, final cost 1.6462e+03, first-order optimality 7.39e-06.\n",
      "[[Variables]]\n",
      "    stars_add_exp_a:  1.66911057 (init = 0)\n",
      "    stars_add_exp_b:  1.09349933 (init = 0)\n",
      "    stars_add_exp_c: -1.66910251 (init = 0)\n",
      "    stars_add_exp_d:  1.74976984 (init = 0)\n",
      "    stars_add_exp_e: -2.3323e-14 (init = 0)\n",
      "    stars_add_exp_f:  1.0002e-10 (init = 0)\n",
      "    stars_add_exp_g:  1.3519e-12 (init = 0)\n",
      "    stars_add_exp_h:  1.0001e-10 (init = 0)\n",
      "    stars_add_leg_i:  3.3196e-11 (init = 0)\n",
      "    stars_add_leg_j:  1.8745e-15 (init = 0)\n",
      "    stars_add_leg_k:  4.9403e-16 (init = 0)\n",
      "    stars_add_leg_l:  0 (fixed)\n",
      "    stars_add_leg_m:  0 (fixed)\n",
      "    stars_add_leg_n:  0 (fixed)\n",
      "    stars_add_leg_o:  0 (fixed)\n",
      "    stars_add_leg_p:  0 (fixed)\n",
      "    stars_add_leg_q:  0 (fixed)\n",
      "    stars_add_leg_r:  0 (fixed)\n",
      "    qso_mult_exp_a:  -1.2467e-06 (init = 0)\n",
      "    qso_mult_exp_b:   5.40740988 (init = 0)\n",
      "    qso_mult_exp_c:  -1.8781e-06 (init = 0)\n",
      "    qso_mult_exp_d:   5.34358953 (init = 0)\n",
      "    qso_mult_exp_e:   1.2507e-12 (init = 0)\n",
      "    qso_mult_exp_f:   1.0000e-10 (init = 0)\n",
      "    qso_mult_exp_g:   1.3383e-12 (init = 0)\n",
      "    qso_mult_exp_h:   1.0000e-10 (init = 0)\n",
      "    qso_mult_leg_i:   4.82659558 (init = 0)\n",
      "    qso_mult_leg_j:   2.45797469 (init = 0)\n",
      "    qso_mult_leg_k:   4.2946e-29 (init = 0)\n",
      "    qso_mult_leg_l:   0 (fixed)\n",
      "    qso_mult_leg_m:   0 (fixed)\n",
      "    qso_mult_leg_n:   0 (fixed)\n",
      "    qso_mult_leg_o:   0 (fixed)\n",
      "    qso_mult_leg_p:   0 (fixed)\n",
      "    qso_mult_leg_q:   0 (fixed)\n",
      "    qso_mult_leg_r:   0 (fixed)\n",
      "FITSPEC: Continuum fit took 1.8 s.\n",
      "   Iteration     Total nfev        Cost      Cost reduction    Step norm     Optimality   \n",
      "       0              1         2.5567e+03                                    2.83e+03    \n",
      "       1              2         1.9878e+03      5.69e+02       4.39e+01       4.11e+02    \n",
      "       2              3         1.9669e+03      2.08e+01       1.96e+01       1.39e+02    \n",
      "       3              4         1.9664e+03      4.97e-01       1.34e+01       1.95e+01    \n",
      "       4              5         1.9663e+03      1.07e-01       1.31e+01       2.83e+02    \n",
      "       5              6         1.9661e+03      2.37e-01       6.98e+00       6.68e+00    \n",
      "       6              7         1.9660e+03      2.19e-02       3.81e+00       3.35e+01    \n",
      "       7              9         1.9660e+03      9.81e-03       1.67e+00       3.11e+00    \n",
      "       8             10         1.9660e+03      1.84e-03       6.55e-01       3.93e+00    \n",
      "       9             12         1.9660e+03      4.89e-04       3.53e-01       1.17e+00    \n",
      "      10             13         1.9660e+03      1.07e-04       1.67e-01       1.09e+00    \n",
      "      11             14         1.9660e+03      3.62e-06       2.11e-01       3.92e-01    \n",
      "      12             15         1.9660e+03      3.91e-05       8.28e-02       1.99e-01    \n"
     ]
    },
    {
     "name": "stdout",
     "output_type": "stream",
     "text": [
      "      13             16         1.9660e+03      5.23e-06       4.05e-02       2.35e-01    \n",
      "`ftol` termination condition is satisfied.\n",
      "Function evaluations 16, initial cost 2.5567e+03, final cost 1.9660e+03, first-order optimality 2.35e-01.\n",
      "[[Model]]\n",
      "    ((((((((Model(manygauss, prefix='Hbeta_0_', SPECRES='<q3dfit.spectConvol.spectConvol object at 0x7fb2c0937130>') + Model(manygauss, prefix='Hbeta_1_', SPECRES='<q3dfit.spectConvol.spectConvol object at 0x7fb2c0937130>')) + Model(manygauss, prefix='Hbeta_2_', SPECRES='<q3dfit.spectConvol.spectConvol object at 0x7fb2c0937130>')) + Model(manygauss, prefix='lbOIIIrb4959_0_', SPECRES='<q3dfit.spectConvol.spectConvol object at 0x7fb2c0937130>')) + Model(manygauss, prefix='lbOIIIrb4959_1_', SPECRES='<q3dfit.spectConvol.spectConvol object at 0x7fb2c0937130>')) + Model(manygauss, prefix='lbOIIIrb4959_2_', SPECRES='<q3dfit.spectConvol.spectConvol object at 0x7fb2c0937130>')) + Model(manygauss, prefix='lbOIIIrb5007_0_', SPECRES='<q3dfit.spectConvol.spectConvol object at 0x7fb2c0937130>')) + Model(manygauss, prefix='lbOIIIrb5007_1_', SPECRES='<q3dfit.spectConvol.spectConvol object at 0x7fb2c0937130>')) + Model(manygauss, prefix='lbOIIIrb5007_2_', SPECRES='<q3dfit.spectConvol.spectConvol object at 0x7fb2c0937130>'))\n",
      "[[Fit Statistics]]\n",
      "    # fitting method   = least_squares\n",
      "    # function evals   = 16\n",
      "    # data points      = 682\n",
      "    # variables        = 12\n",
      "    chi-square         = 3932.05118\n",
      "    reduced chi-square = 5.86873310\n",
      "    Akaike info crit   = 1218.78682\n",
      "    Bayesian info crit = 1273.08718\n",
      "    R-squared          = 0.99208241\n",
      "[[Variables]]\n",
      "    Hbeta_0_flx:         3.81395102 +/- 9.87698549 (258.97%) (init = 0.6419625)\n",
      "    Hbeta_0_cwv:         1.92368366 +/- 1.4247e-04 (0.01%) == '4.862708e-01 / 5.008237e-01 * lbOIIIrb5007_0_cwv'\n",
      "    Hbeta_0_sig:         45.3401922 +/- 41.7973029 (92.19%) == 'lbOIIIrb5007_0_sig'\n",
      "    Hbeta_1_flx:         43.1086404 +/- 4.01571725 (9.32%) (init = 44.38653)\n",
      "    Hbeta_1_cwv:         1.91705654 +/- 5.7098e-05 (0.00%) == '4.862708e-01 / 5.008237e-01 * lbOIIIrb5007_1_cwv'\n",
      "    Hbeta_1_sig:         204.078370 +/- 8.50110590 (4.17%) == 'lbOIIIrb5007_1_sig'\n",
      "    Hbeta_2_flx:         26.7934876 +/- 3.45920919 (12.91%) (init = 30.44402)\n",
      "    Hbeta_2_cwv:         1.92199489 +/- 1.8144e-04 (0.01%) == '4.862708e-01 / 5.008237e-01 * lbOIIIrb5007_2_cwv'\n",
      "    Hbeta_2_sig:         259.343095 +/- 21.2991578 (8.21%) == 'lbOIIIrb5007_2_sig'\n",
      "    lbOIIIrb4959_0_flx:  19.2423397 +/- 11.8484606 (61.57%) == 'lbOIIIrb5007_0_flx/3.'\n",
      "    lbOIIIrb4959_0_cwv:  1.96228861 +/- 1.4533e-04 (0.01%) == '4.960294e-01 / 5.008237e-01 * lbOIIIrb5007_0_cwv'\n",
      "    lbOIIIrb4959_0_sig:  45.3401922 +/- 41.7973029 (92.19%) == 'lbOIIIrb5007_0_sig'\n",
      "    lbOIIIrb4959_1_flx:  74.2583282 +/- 2.29520443 (3.09%) == 'lbOIIIrb5007_1_flx/3.'\n",
      "    lbOIIIrb4959_1_cwv:  1.95552849 +/- 5.8244e-05 (0.00%) == '4.960294e-01 / 5.008237e-01 * lbOIIIrb5007_1_cwv'\n",
      "    lbOIIIrb4959_1_sig:  204.078370 +/- 8.50110590 (4.17%) == 'lbOIIIrb5007_1_sig'\n",
      "    lbOIIIrb4959_2_flx:  32.6906768 +/- 2.15521885 (6.59%) == 'lbOIIIrb5007_2_flx/3.'\n",
      "    lbOIIIrb4959_2_cwv:  1.96056595 +/- 1.8508e-04 (0.01%) == '4.960294e-01 / 5.008237e-01 * lbOIIIrb5007_2_cwv'\n",
      "    lbOIIIrb4959_2_sig:  259.343095 +/- 21.2991578 (8.21%) == 'lbOIIIrb5007_2_sig'\n",
      "    lbOIIIrb5007_0_flx:  57.7270192 +/- 35.5453817 (61.57%) (init = 42.98536)\n",
      "    lbOIIIrb5007_0_cwv:  1.98125482 +/- 1.4674e-04 (0.01%) (init = 1.981177)\n",
      "    lbOIIIrb5007_0_sig:  45.3401922 +/- 41.7973030 (92.19%) (init = 40)\n",
      "    lbOIIIrb5007_1_flx:  222.774985 +/- 6.88561332 (3.09%) (init = 240.1583)\n",
      "    lbOIIIrb5007_1_cwv:  1.97442937 +/- 5.8807e-05 (0.00%) (init = 1.974358)\n",
      "    lbOIIIrb5007_1_sig:  204.078370 +/- 8.50110591 (4.17%) (init = 234.3947)\n",
      "    lbOIIIrb5007_2_flx:  98.0720305 +/- 6.46565659 (6.59%) (init = 123.0615)\n",
      "    lbOIIIrb5007_2_cwv:  1.97951551 +/- 1.8687e-04 (0.01%) (init = 1.979483)\n",
      "    lbOIIIrb5007_2_sig:  259.343095 +/- 21.2991578 (8.21%) (init = 299.0471)\n",
      "FITSPEC: Line fit took 2.7 s.\n",
      "FIT STATUS: 2\n",
      "FITLOOP: Repeating the fit of [OIII]5007 with 2 components.\n",
      "FITLOOP: First call to FITSPEC\n",
      "   Iteration     Total nfev        Cost      Cost reduction    Step norm     Optimality   \n",
      "       0              1         1.7083e+04                                    1.67e+03    \n",
      "       1              2         1.7083e+04      5.06e-02       1.41e-05       1.67e+03    \n",
      "       2              3         1.7083e+04      1.01e-01       2.83e-05       1.67e+03    \n",
      "       3              4         1.7083e+04      2.02e-01       5.66e-05       1.66e+03    \n",
      "       4              5         1.7082e+04      4.04e-01       1.13e-04       1.66e+03    \n",
      "       5              6         1.7081e+04      8.09e-01       2.26e-04       1.66e+03    \n",
      "       6              7         1.7080e+04      1.62e+00       4.53e-04       1.66e+03    \n",
      "       7              8         1.7077e+04      3.23e+00       9.05e-04       1.66e+03    \n",
      "       8              9         1.7070e+04      6.47e+00       1.81e-03       1.66e+03    \n",
      "       9             10         1.7057e+04      1.29e+01       3.62e-03       1.66e+03    \n",
      "      10             11         1.7031e+04      2.59e+01       7.24e-03       1.66e+03    \n",
      "      11             12         1.6980e+04      5.16e+01       1.45e-02       1.66e+03    \n",
      "      12             13         1.6877e+04      1.03e+02       2.90e-02       1.65e+03    \n",
      "      13             14         1.6672e+04      2.05e+02       5.79e-02       1.64e+03    \n",
      "      14             15         1.6265e+04      4.06e+02       1.16e-01       1.62e+03    \n",
      "      15             16         1.5468e+04      7.98e+02       2.32e-01       1.58e+03    \n",
      "      16             17         1.3925e+04      1.54e+03       4.63e-01       1.51e+03    \n",
      "      17             18         1.1011e+04      2.91e+03       9.27e-01       1.40e+03    \n",
      "      18             19         5.7067e+03      5.30e+03       1.85e+00       1.17e+03    \n",
      "      19             20         2.8872e+03      2.82e+03       3.66e+00       4.27e+03    \n",
      "      20             21         1.4506e+03      1.44e+03       7.59e-01       4.47e+02    \n",
      "      21             22         1.4070e+03      4.36e+01       1.74e-01       3.45e+01    \n",
      "      22             24         1.3957e+03      1.13e+01       9.67e-01       1.10e+01    \n",
      "      23             26         1.3940e+03      1.77e+00       4.52e-01       4.70e+00    \n",
      "      24             28         1.3934e+03      5.33e-01       2.83e-01       2.46e+00    \n",
      "      25             29         1.3930e+03      4.61e-01       4.74e-01       1.80e+01    \n",
      "      26             30         1.3926e+03      3.98e-01       5.05e-01       1.19e+01    \n",
      "      27             31         1.3925e+03      4.07e-02       7.69e-03       5.34e+00    \n",
      "      28             33         1.3924e+03      1.79e-01       2.32e-01       2.85e+00    \n",
      "      29             34         1.3921e+03      2.89e-01       3.85e-01       4.03e+00    \n",
      "      30             35         1.3920e+03      2.66e-02       4.78e-02       4.50e+00    \n",
      "      31             37         1.3919e+03      1.24e-01       1.88e-01       2.20e+00    \n",
      "      32             38         1.3918e+03      1.55e-01       4.16e-01       9.76e+00    \n",
      "      33             39         1.3917e+03      4.73e-02       6.78e-03       3.30e+00    \n",
      "      34             40         1.3917e+03      2.33e-02       5.74e-02       2.90e+00    \n",
      "      35             42         1.3916e+03      1.09e-01       3.01e-01       3.28e+00    \n",
      "      36             43         1.3916e+03      2.19e-02       4.92e-02       3.58e+00    \n",
      "      37             44         1.3915e+03      7.04e-02       4.20e-01       1.15e+01    \n",
      "      38             45         1.3914e+03      7.95e-02       8.67e-03       4.71e+00    \n",
      "      39             46         1.3914e+03      4.51e-02       1.08e-01       2.95e+00    \n",
      "      40             47         1.3913e+03      9.74e-02       6.29e-01       8.68e+00    \n",
      "      41             48         1.3912e+03      9.59e-02       1.54e-01       9.26e+00    \n",
      "      42             50         1.3911e+03      7.87e-02       1.07e-01       1.48e+00    \n",
      "      43             51         1.3910e+03      6.50e-02       2.13e-01       7.15e+00    \n"
     ]
    },
    {
     "name": "stdout",
     "output_type": "stream",
     "text": [
      "      44             52         1.3910e+03      7.63e-02       1.35e-01       3.77e+00    \n",
      "      45             53         1.3909e+03      6.33e-02       2.14e-01       9.48e+00    \n",
      "      46             54         1.3909e+03      2.71e-02       4.42e-03       2.40e+00    \n",
      "      47             55         1.3908e+03      9.16e-02       2.87e-01       6.34e+00    \n",
      "      48             56         1.3907e+03      5.69e-02       2.14e-01       1.51e+01    \n",
      "      49             57         1.3907e+03      4.55e-02       5.14e-03       2.94e+00    \n",
      "      50             58         1.3906e+03      8.42e-02       3.06e-01       1.29e+01    \n",
      "      51             59         1.3905e+03      5.85e-02       2.62e-01       2.14e+01    \n",
      "      52             61         1.3904e+03      1.16e-01       1.05e-01       2.95e+00    \n",
      "      53             62         1.3904e+03      5.60e-02       2.10e-01       1.44e+01    \n",
      "      54             64         1.3903e+03      5.56e-02       1.05e-01       4.20e+00    \n",
      "      55             65         1.3902e+03      5.44e-02       2.10e-01       1.06e+01    \n",
      "      56             67         1.3902e+03      4.34e-02       1.05e-01       4.93e+00    \n",
      "      57             68         1.3902e+03      4.39e-02       2.10e-01       1.91e+01    \n",
      "      58             70         1.3901e+03      4.13e-02       1.05e-01       4.98e+00    \n",
      "      59             71         1.3901e+03      3.96e-02       2.10e-01       1.49e+01    \n",
      "      60             73         1.3901e+03      2.98e-02       1.05e-01       5.61e+00    \n",
      "      61             74         1.3900e+03      2.86e-02       2.10e-01       2.32e+01    \n",
      "      62             75         1.3900e+03      3.60e-02       2.10e-01       2.08e+01    \n",
      "      63             77         1.3900e+03      1.96e-02       9.81e-02       3.76e+00    \n",
      "      64             78         1.3899e+03      2.05e-02       1.96e-01       1.47e+01    \n",
      "      65             79         1.3899e+03      1.01e-02       3.92e-01       5.94e+01    \n",
      "      66             80         1.3899e+03      2.90e-02       9.70e-04       2.60e-01    \n",
      "      67             81         1.3899e+03      4.25e-03       1.31e-01       2.09e+00    \n",
      "      68             82         1.3899e+03      9.12e-03       9.81e-02       5.77e-01    \n",
      "      69             84         1.3899e+03      2.22e-03       6.16e-02       1.23e-01    \n",
      "      70             85         1.3899e+03      2.32e-03       2.93e-02       5.09e-02    \n",
      "      71             86         1.3899e+03      3.84e-03       8.25e-02       8.14e-01    \n",
      "      72             87         1.3899e+03      2.77e-03       1.26e-01       3.90e-01    \n",
      "      73             89         1.3899e+03      4.24e-03       7.55e-02       1.37e-01    \n",
      "      74             90         1.3899e+03      1.49e-03       3.41e-02       2.58e-02    \n",
      "      75             91         1.3899e+03      2.79e-03       4.35e-02       2.15e-01    \n",
      "      76             92         1.3899e+03      4.49e-03       8.95e-02       6.30e-01    \n",
      "      77             94         1.3899e+03      4.05e-04       4.52e-02       5.28e-02    \n",
      "      78             96         1.3899e+03      6.73e-04       3.58e-02       4.98e-02    \n",
      "      79             97         1.3899e+03      1.98e-04       1.12e-02       8.31e-03    \n",
      "      80             98         1.3899e+03      2.10e-04       2.06e-02       2.59e-02    \n",
      "      81             100        1.3899e+03      9.14e-06       3.56e-02       4.82e-02    \n",
      "      82             101        1.3899e+03      8.02e-05       5.31e-03       4.86e-02    \n",
      "      83             102        1.3899e+03      6.15e-05       1.78e-02       1.27e-02    \n",
      "      84             103        1.3899e+03      3.45e-06       1.52e-02       2.04e-02    \n",
      "      85             104        1.3899e+03      2.53e-05       2.47e-03       2.65e-02    \n",
      "      86             105        1.3899e+03      2.96e-05       8.47e-03       9.44e-03    \n",
      "      87             106        1.3899e+03      2.29e-05       2.59e-03       2.99e-03    \n",
      "      88             107        1.3899e+03      4.00e-05       4.49e-03       5.44e-03    \n",
      "      89             109        1.3899e+03      1.08e-05       6.74e-03       7.83e-03    \n",
      "      90             110        1.3899e+03      1.85e-05       3.91e-03       1.11e-02    \n",
      "      91             111        1.3899e+03      1.65e-05       2.06e-03       2.54e-03    \n",
      "      92             112        1.3899e+03      2.09e-05       6.06e-03       6.85e-03    \n",
      "      93             114        1.3899e+03      9.54e-06       4.14e-03       3.89e-03    \n",
      "      94             115        1.3899e+03      6.48e-06       4.13e-04       7.03e-04    \n",
      "      95             116        1.3899e+03      1.18e-05       8.85e-04       7.23e-04    \n",
      "      96             117        1.3899e+03      1.69e-05       3.19e-03       3.51e-03    \n",
      "      97             120        1.3899e+03      2.92e-06       2.14e-03       1.71e-03    \n",
      "      98             121        1.3899e+03      1.73e-06       4.18e-04       2.99e-04    \n",
      "      99             122        1.3899e+03      3.17e-06       3.56e-04       3.78e-04    \n",
      "      100            123        1.3899e+03      5.06e-06       1.19e-03       1.29e-03    \n",
      "      101            126        1.3899e+03      5.88e-07       9.67e-04       7.49e-04    \n",
      "      102            127        1.3899e+03      4.51e-07       7.76e-05       9.78e-05    \n",
      "      103            128        1.3899e+03      8.37e-07       1.28e-04       1.41e-04    \n",
      "      104            129        1.3899e+03      1.95e-07       4.50e-05       7.30e-05    \n",
      "      105            130        1.3899e+03      5.98e-08       3.96e-06       7.06e-05    \n",
      "      106            131        1.3899e+03      1.44e-06       9.66e-05       9.23e-05    \n",
      "      107            133        1.3899e+03      1.91e-08       8.27e-06       5.63e-05    \n",
      "      108            134        1.3899e+03      5.01e-09       1.85e-06       5.28e-05    \n",
      "      109            135        1.3899e+03      3.04e-09       2.60e-06       5.12e-03    \n",
      "      110            136        1.3899e+03      6.64e-08       9.79e-06       5.09e-05    \n",
      "      111            137        1.3899e+03      1.24e-07       3.35e-05       2.11e-05    \n",
      "      112            138        1.3899e+03      2.37e-07       2.26e-05       1.82e-05    \n",
      "      113            139        1.3899e+03      4.25e-07       9.83e-05       6.12e-05    \n",
      "      114            141        1.3899e+03      1.53e-07       2.36e-04       1.92e-04    \n",
      "      115            142        1.3899e+03      5.42e-08       8.48e-04       9.69e-04    \n",
      "      116            143        1.3899e+03      1.68e-07       5.31e-04       2.90e-04    \n",
      "      117            144        1.3899e+03      4.65e-08       2.33e-04       2.14e-04    \n",
      "      118            145        1.3899e+03      6.08e-08       2.98e-04       3.52e-04    \n",
      "      119            147        1.3899e+03      8.62e-10       5.25e-04       4.46e-04    \n",
      "      120            148        1.3899e+03      1.93e-08       7.92e-05       7.31e-04    \n",
      "      121            149        1.3899e+03      1.76e-08       2.66e-04       2.89e-04    \n",
      "      122            150        1.3899e+03      5.73e-09       1.91e-04       2.00e-04    \n",
      "      123            151        1.3899e+03      1.39e-08       1.41e-04       3.78e-04    \n",
      "      124            152        1.3899e+03      1.06e-08       8.14e-05       8.40e-05    \n",
      "      125            153        1.3899e+03      7.11e-09       1.86e-04       1.75e-04    \n",
      "      126            155        1.3899e+03      3.90e-09       5.49e-05       3.53e-05    \n",
      "      127            156        1.3899e+03      2.66e-09       1.03e-05       1.14e-05    \n",
      "      128            157        1.3899e+03      5.04e-09       1.42e-05       1.18e-05    \n",
      "      129            158        1.3899e+03      3.49e-09       8.30e-06       1.91e-05    \n",
      "      130            159        1.3899e+03      8.44e-09       3.39e-05       4.43e-05    \n",
      "      131            161        1.3899e+03      1.77e-09       9.00e-05       8.63e-05    \n",
      "      132            162        1.3899e+03      3.31e-09       6.70e-05       1.63e-04    \n",
      "      133            163        1.3899e+03      2.73e-09       4.18e-05       5.14e-05    \n",
      "      134            164        1.3899e+03      1.33e-09       1.25e-04       1.53e-04    \n",
      "      135            165        1.3899e+03      3.10e-09       6.44e-05       5.25e-05    \n",
      "      136            166        1.3899e+03      1.15e-09       2.19e-05       2.26e-05    \n",
      "      137            167        1.3899e+03      1.58e-09       5.92e-06       5.07e-06    \n"
     ]
    },
    {
     "name": "stdout",
     "output_type": "stream",
     "text": [
      "      138            168        1.3899e+03      1.68e-09       2.27e-05       2.56e-05    \n",
      "      139            169        1.3899e+03      3.40e-10       2.13e-05       7.44e-06    \n",
      "      140            170        1.3899e+03      1.65e-09       8.44e-05       4.41e-05    \n",
      "      141            172        1.3899e+03      6.17e-10       6.58e-05       6.52e-05    \n",
      "      142            174        1.3899e+03      2.53e-10       1.68e-05       2.80e-05    \n",
      "      143            175        1.3899e+03      9.09e-12       7.53e-07       2.84e-05    \n",
      "      144            176        1.3899e+03      4.32e-11       6.94e-06       1.88e-05    \n",
      "      145            177        1.3899e+03      1.50e-11       3.01e-06       1.85e-05    \n",
      "      146            178        1.3899e+03      1.06e-10       1.09e-05       7.41e-06    \n",
      "      147            179        1.3899e+03      6.82e-13       7.69e-08       6.10e-06    \n",
      "`ftol` termination condition is satisfied.\n",
      "Function evaluations 179, initial cost 1.7083e+04, final cost 1.3899e+03, first-order optimality 6.10e-06.\n",
      "[[Variables]]\n",
      "    stars_add_exp_a: -4.66952636 (init = 0)\n",
      "    stars_add_exp_b:  0.04387930 (init = 0)\n",
      "    stars_add_exp_c: -5.1235e-07 (init = 0)\n",
      "    stars_add_exp_d:  5.76222894 (init = 0)\n",
      "    stars_add_exp_e: -3.2748e-15 (init = 0)\n",
      "    stars_add_exp_f:  1.0001e-10 (init = 0)\n",
      "    stars_add_exp_g:  1.0971e-12 (init = 0)\n",
      "    stars_add_exp_h:  1.0001e-10 (init = 0)\n",
      "    stars_add_leg_i:  4.77368018 (init = 0)\n",
      "    stars_add_leg_j:  0.11120238 (init = 0)\n",
      "    stars_add_leg_k:  4.0455e-42 (init = 0)\n",
      "    stars_add_leg_l:  0 (fixed)\n",
      "    stars_add_leg_m:  0 (fixed)\n",
      "    stars_add_leg_n:  0 (fixed)\n",
      "    stars_add_leg_o:  0 (fixed)\n",
      "    stars_add_leg_p:  0 (fixed)\n",
      "    stars_add_leg_q:  0 (fixed)\n",
      "    stars_add_leg_r:  0 (fixed)\n",
      "    qso_mult_exp_a:   0.51024688 (init = 0)\n",
      "    qso_mult_exp_b:   4.09685822 (init = 0)\n",
      "    qso_mult_exp_c:  -0.51024660 (init = 0)\n",
      "    qso_mult_exp_d:   5.60131740 (init = 0)\n",
      "    qso_mult_exp_e:  -9.9762e-32 (init = 0)\n",
      "    qso_mult_exp_f:   1.0000e-10 (init = 0)\n",
      "    qso_mult_exp_g:  -3.9093e-33 (init = 0)\n",
      "    qso_mult_exp_h:   1.0000e-10 (init = 0)\n",
      "    qso_mult_leg_i:   2.9642e-09 (init = 0)\n",
      "    qso_mult_leg_j:   3.8937e-34 (init = 0)\n",
      "    qso_mult_leg_k:   1.5577e-37 (init = 0)\n",
      "    qso_mult_leg_l:   0 (fixed)\n",
      "    qso_mult_leg_m:   0 (fixed)\n",
      "    qso_mult_leg_n:   0 (fixed)\n",
      "    qso_mult_leg_o:   0 (fixed)\n",
      "    qso_mult_leg_p:   0 (fixed)\n",
      "    qso_mult_leg_q:   0 (fixed)\n",
      "    qso_mult_leg_r:   0 (fixed)\n",
      "FITSPEC: Continuum fit took 4.2 s.\n",
      "   Iteration     Total nfev        Cost      Cost reduction    Step norm     Optimality   \n",
      "       0              1         7.7211e+03                                    1.07e+04    \n",
      "       1              2         3.9316e+03      3.79e+03       1.61e+02       2.06e+03    \n",
      "       2              3         3.3202e+03      6.11e+02       8.69e+01       6.00e+02    \n",
      "       3              4         3.1910e+03      1.29e+02       3.94e+01       1.85e+02    \n",
      "       4              5         3.1791e+03      1.20e+01       5.70e+00       3.65e+02    \n",
      "       5              7         3.1456e+03      3.35e+01       4.61e+02       5.62e+02    \n",
      "       6              8         3.0669e+03      7.87e+01       5.67e+01       1.45e+02    \n",
      "       7             10         3.0448e+03      2.21e+01       8.90e+01       1.81e+02    \n",
      "       8             11         3.0039e+03      4.09e+01       5.11e+01       1.09e+02    \n",
      "       9             12         2.9422e+03      6.16e+01       3.45e+01       2.93e+02    \n",
      "      10             13         2.7183e+03      2.24e+02       1.51e+02       9.25e+02    \n",
      "      11             14         2.3926e+03      3.26e+02       1.48e+02       1.51e+03    \n",
      "      12             15         2.1863e+03      2.06e+02       4.91e+01       1.51e+03    \n",
      "      13             16         2.1348e+03      5.16e+01       8.01e+01       7.01e+02    \n",
      "      14             17         2.1188e+03      1.60e+01       1.55e+01       1.35e+02    \n",
      "      15             18         2.1167e+03      2.13e+00       1.46e+01       8.68e+01    \n",
      "      16             19         2.1164e+03      2.62e-01       2.54e+00       1.14e+01    \n",
      "      17             20         2.1164e+03      2.70e-02       1.53e+00       7.91e+00    \n",
      "      18             21         2.1164e+03      2.71e-03       3.14e-01       1.60e+00    \n",
      "      19             22         2.1164e+03      2.71e-04       1.45e-01       7.40e-01    \n",
      "      20             23         2.1164e+03      2.72e-05       3.50e-02       1.96e-01    \n",
      "      21             24         2.1164e+03      2.76e-06       1.40e-02       7.36e-02    \n",
      "`ftol` termination condition is satisfied.\n",
      "Function evaluations 24, initial cost 7.7211e+03, final cost 2.1164e+03, first-order optimality 7.36e-02.\n",
      "[[Model]]\n",
      "    (((((Model(manygauss, prefix='Hbeta_0_', SPECRES='<q3dfit.spectConvol.spectConvol object at 0x7fb2c0937130>') + Model(manygauss, prefix='Hbeta_1_', SPECRES='<q3dfit.spectConvol.spectConvol object at 0x7fb2c0937130>')) + Model(manygauss, prefix='lbOIIIrb4959_0_', SPECRES='<q3dfit.spectConvol.spectConvol object at 0x7fb2c0937130>')) + Model(manygauss, prefix='lbOIIIrb4959_1_', SPECRES='<q3dfit.spectConvol.spectConvol object at 0x7fb2c0937130>')) + Model(manygauss, prefix='lbOIIIrb5007_0_', SPECRES='<q3dfit.spectConvol.spectConvol object at 0x7fb2c0937130>')) + Model(manygauss, prefix='lbOIIIrb5007_1_', SPECRES='<q3dfit.spectConvol.spectConvol object at 0x7fb2c0937130>'))\n",
      "[[Fit Statistics]]\n",
      "    # fitting method   = least_squares\n",
      "    # function evals   = 24\n",
      "    # data points      = 682\n",
      "    # variables        = 8\n",
      "    chi-square         = 4232.79048\n",
      "    reduced chi-square = 6.28010457\n",
      "    Akaike info crit   = 1261.05039\n",
      "    Bayesian info crit = 1297.25063\n",
      "    R-squared          = 0.99390835\n",
      "[[Variables]]\n",
      "    Hbeta_0_flx:         30.3419485 +/- 2.90849662 (9.59%) (init = 39.80298)\n",
      "    Hbeta_0_cwv:         1.92212965 +/- 1.3071e-04 (0.01%) == '4.862708e-01 / 5.008237e-01 * lbOIIIrb5007_0_cwv'\n",
      "    Hbeta_0_sig:         291.209480 +/- 18.3885500 (6.31%) == 'lbOIIIrb5007_0_sig'\n",
      "    Hbeta_1_flx:         44.9134973 +/- 3.83493905 (8.54%) (init = 39.80298)\n",
      "    Hbeta_1_cwv:         1.91701803 +/- 6.7672e-05 (0.00%) == '4.862708e-01 / 5.008237e-01 * lbOIIIrb5007_1_cwv'\n",
      "    Hbeta_1_sig:         237.424223 +/- 9.28895189 (3.91%) == 'lbOIIIrb5007_1_sig'\n",
      "    lbOIIIrb4959_0_flx:  42.9419943 +/- 1.65776878 (3.86%) == 'lbOIIIrb5007_0_flx/3.'\n",
      "    lbOIIIrb4959_0_cwv:  1.96070341 +/- 1.3333e-04 (0.01%) == '4.960294e-01 / 5.008237e-01 * lbOIIIrb5007_0_cwv'\n",
      "    lbOIIIrb4959_0_sig:  291.209480 +/- 18.3885500 (6.31%) == 'lbOIIIrb5007_0_sig'\n",
      "    lbOIIIrb4959_1_flx:  80.3108270 +/- 2.18457124 (2.72%) == 'lbOIIIrb5007_1_flx/3.'\n",
      "    lbOIIIrb4959_1_cwv:  1.95548921 +/- 6.9030e-05 (0.00%) == '4.960294e-01 / 5.008237e-01 * lbOIIIrb5007_1_cwv'\n",
      "    lbOIIIrb4959_1_sig:  237.424223 +/- 9.28895189 (3.91%) == 'lbOIIIrb5007_1_sig'\n",
      "    lbOIIIrb5007_0_flx:  128.825983 +/- 4.97330633 (3.86%) (init = 201.8733)\n",
      "    lbOIIIrb5007_0_cwv:  1.97965430 +/- 1.3462e-04 (0.01%) (init = 1.977703)\n",
      "    lbOIIIrb5007_0_sig:  291.209480 +/- 18.3885500 (6.31%) (init = 50)\n",
      "    lbOIIIrb5007_1_flx:  240.932481 +/- 6.55371375 (2.72%) (init = 201.8733)\n",
      "    lbOIIIrb5007_1_cwv:  1.97438971 +/- 6.9697e-05 (0.00%) (init = 1.977703)\n",
      "    lbOIIIrb5007_1_sig:  237.424223 +/- 9.28895190 (3.91%) (init = 500)\n",
      "FITSPEC: Line fit took 2.1 s.\n",
      "FIT STATUS: 2\n",
      "FITLOOP: Second call to FITSPEC\n",
      "   Iteration     Total nfev        Cost      Cost reduction    Step norm     Optimality   \n",
      "       0              1         2.4684e+04                                    2.48e+03    \n",
      "       1              2         2.4683e+04      7.16e-02       1.41e-05       2.48e+03    \n",
      "       2              3         2.4683e+04      1.43e-01       2.83e-05       2.48e+03    \n",
      "       3              4         2.4683e+04      2.86e-01       5.66e-05       2.48e+03    \n",
      "       4              5         2.4682e+04      5.73e-01       1.13e-04       2.48e+03    \n",
      "       5              6         2.4681e+04      1.15e+00       2.26e-04       2.48e+03    \n",
      "       6              7         2.4679e+04      2.29e+00       4.53e-04       2.48e+03    \n",
      "       7              8         2.4674e+04      4.58e+00       9.05e-04       2.48e+03    \n",
      "       8              9         2.4665e+04      9.16e+00       1.81e-03       2.48e+03    \n",
      "       9             10         2.4647e+04      1.83e+01       3.62e-03       2.48e+03    \n",
      "      10             11         2.4610e+04      3.66e+01       7.24e-03       2.47e+03    \n",
      "      11             12         2.4537e+04      7.32e+01       1.45e-02       2.47e+03    \n",
      "      12             13         2.4391e+04      1.46e+02       2.90e-02       2.46e+03    \n"
     ]
    },
    {
     "name": "stdout",
     "output_type": "stream",
     "text": [
      "      13             14         2.4101e+04      2.91e+02       5.79e-02       2.45e+03    \n",
      "      14             15         2.3525e+04      5.76e+02       1.16e-01       2.42e+03    \n",
      "      15             16         2.2392e+04      1.13e+03       2.32e-01       2.36e+03    \n",
      "      16             17         2.0198e+04      2.19e+03       4.63e-01       2.27e+03    \n",
      "      17             18         1.6023e+04      4.17e+03       9.27e-01       2.12e+03    \n",
      "      18             19         8.2502e+03      7.77e+03       1.85e+00       1.81e+03    \n",
      "      19             20         3.9351e+03      4.32e+03       3.63e+00       8.12e+03    \n",
      "      20             21         2.5627e+03      1.37e+03       3.70e+00       2.62e+03    \n",
      "      21             22         1.8195e+03      7.43e+02       2.01e+00       1.27e+03    \n",
      "      22             23         1.7757e+03      4.38e+01       3.71e+00       1.17e+03    \n",
      "      23             25         1.6572e+03      1.18e+02       9.03e-01       1.21e+02    \n",
      "      24             27         1.6507e+03      6.53e+00       5.98e-01       4.61e+00    \n",
      "      25             28         1.6497e+03      9.59e-01       9.42e-01       7.36e+01    \n",
      "      26             29         1.6476e+03      2.13e+00       9.73e-01       4.12e+01    \n",
      "      27             30         1.6474e+03      2.49e-01       1.45e-02       8.55e+00    \n",
      "      28             31         1.6471e+03      2.73e-01       2.17e-01       3.07e+00    \n",
      "      29             33         1.6467e+03      3.52e-01       4.55e-01       3.11e+00    \n",
      "      30             34         1.6464e+03      2.81e-01       8.90e-01       6.29e+00    \n",
      "      31             35         1.6464e+03      2.45e-02       6.48e-03       4.30e+00    \n",
      "      32             36         1.6464e+03      9.32e-03       9.50e-01       2.18e+01    \n",
      "      33             37         1.6463e+03      6.43e-02       9.29e-03       3.68e+00    \n",
      "      34             38         1.6463e+03      6.54e-02       1.68e-01       6.75e-01    \n",
      "      35             39         1.6462e+03      5.78e-02       2.54e-01       7.95e-01    \n",
      "      36             42         1.6462e+03      1.91e-03       7.38e-02       1.88e-01    \n",
      "      37             44         1.6462e+03      2.21e-04       2.71e-02       2.68e-02    \n",
      "      38             46         1.6462e+03      4.15e-05       2.12e-02       1.25e-02    \n",
      "      39             47         1.6462e+03      5.82e-05       1.29e-02       1.21e-02    \n",
      "      40             48         1.6462e+03      1.29e-05       1.44e-02       5.75e-03    \n",
      "      41             50         1.6462e+03      1.34e-05       5.99e-03       4.83e-03    \n",
      "      42             51         1.6462e+03      1.59e-06       5.38e-03       3.31e-03    \n",
      "      43             52         1.6462e+03      1.70e-06       1.40e-03       3.69e-04    \n",
      "      44             53         1.6462e+03      1.68e-06       1.36e-03       8.04e-04    \n",
      "      45             54         1.6462e+03      3.41e-07       3.09e-03       2.30e-03    \n",
      "      46             55         1.6462e+03      1.12e-06       3.69e-03       2.62e-03    \n",
      "      47             57         1.6462e+03      2.11e-07       1.50e-03       6.94e-04    \n",
      "      48             58         1.6462e+03      7.31e-08       8.65e-04       6.01e-04    \n",
      "      49             60         1.6462e+03      3.07e-08       3.60e-04       1.29e-04    \n",
      "      50             61         1.6462e+03      1.77e-08       1.03e-04       7.73e-05    \n",
      "      51             63         1.6462e+03      2.90e-09       1.45e-04       7.60e-05    \n",
      "      52             64         1.6462e+03      3.89e-09       9.38e-05       9.54e-05    \n",
      "      53             66         1.6462e+03      1.36e-09       3.39e-05       2.49e-05    \n",
      "      54             68         1.6462e+03      5.30e-10       1.80e-05       3.10e-05    \n",
      "      55             70         1.6462e+03      1.90e-10       1.43e-05       1.15e-05    \n",
      "      56             71         1.6462e+03      2.56e-10       2.93e-05       1.41e-05    \n",
      "      57             72         1.6462e+03      8.32e-11       6.16e-05       3.94e-05    \n",
      "      58             74         1.6462e+03      1.30e-10       2.20e-05       1.44e-05    \n",
      "      59             75         1.6462e+03      5.96e-11       1.56e-05       9.00e-06    \n",
      "      60             77         1.6462e+03      1.89e-11       1.10e-05       1.05e-05    \n",
      "      61             78         1.6462e+03      2.32e-11       8.42e-06       1.08e-05    \n",
      "      62             79         1.6462e+03      6.59e-12       9.18e-06       7.71e-06    \n",
      "      63             80         1.6462e+03      5.46e-12       2.30e-06       1.14e-05    \n",
      "      64             81         1.6462e+03      4.55e-13       1.39e-06       5.86e-06    \n",
      "      65             82         1.6462e+03      6.82e-13       4.39e-07       7.39e-06    \n",
      "`ftol` termination condition is satisfied.\n",
      "Function evaluations 82, initial cost 2.4684e+04, final cost 1.6462e+03, first-order optimality 7.39e-06.\n",
      "[[Variables]]\n",
      "    stars_add_exp_a:  1.66911057 (init = 0)\n",
      "    stars_add_exp_b:  1.09349933 (init = 0)\n",
      "    stars_add_exp_c: -1.66910251 (init = 0)\n",
      "    stars_add_exp_d:  1.74976984 (init = 0)\n",
      "    stars_add_exp_e: -2.3323e-14 (init = 0)\n",
      "    stars_add_exp_f:  1.0002e-10 (init = 0)\n",
      "    stars_add_exp_g:  1.3519e-12 (init = 0)\n",
      "    stars_add_exp_h:  1.0001e-10 (init = 0)\n",
      "    stars_add_leg_i:  3.3196e-11 (init = 0)\n",
      "    stars_add_leg_j:  1.8745e-15 (init = 0)\n",
      "    stars_add_leg_k:  4.9403e-16 (init = 0)\n",
      "    stars_add_leg_l:  0 (fixed)\n",
      "    stars_add_leg_m:  0 (fixed)\n",
      "    stars_add_leg_n:  0 (fixed)\n",
      "    stars_add_leg_o:  0 (fixed)\n",
      "    stars_add_leg_p:  0 (fixed)\n",
      "    stars_add_leg_q:  0 (fixed)\n",
      "    stars_add_leg_r:  0 (fixed)\n",
      "    qso_mult_exp_a:  -1.2467e-06 (init = 0)\n",
      "    qso_mult_exp_b:   5.40740988 (init = 0)\n",
      "    qso_mult_exp_c:  -1.8781e-06 (init = 0)\n",
      "    qso_mult_exp_d:   5.34358953 (init = 0)\n",
      "    qso_mult_exp_e:   1.2507e-12 (init = 0)\n",
      "    qso_mult_exp_f:   1.0000e-10 (init = 0)\n",
      "    qso_mult_exp_g:   1.3383e-12 (init = 0)\n",
      "    qso_mult_exp_h:   1.0000e-10 (init = 0)\n",
      "    qso_mult_leg_i:   4.82659558 (init = 0)\n",
      "    qso_mult_leg_j:   2.45797469 (init = 0)\n",
      "    qso_mult_leg_k:   4.2946e-29 (init = 0)\n",
      "    qso_mult_leg_l:   0 (fixed)\n",
      "    qso_mult_leg_m:   0 (fixed)\n",
      "    qso_mult_leg_n:   0 (fixed)\n",
      "    qso_mult_leg_o:   0 (fixed)\n",
      "    qso_mult_leg_p:   0 (fixed)\n",
      "    qso_mult_leg_q:   0 (fixed)\n",
      "    qso_mult_leg_r:   0 (fixed)\n",
      "FITSPEC: Continuum fit took 1.8 s.\n",
      "   Iteration     Total nfev        Cost      Cost reduction    Step norm     Optimality   \n",
      "       0              1         2.5700e+03                                    2.85e+03    \n",
      "       1              2         2.0150e+03      5.55e+02       4.28e+01       4.12e+02    \n",
      "       2              3         1.9988e+03      1.61e+01       9.77e+00       1.08e+02    \n",
      "       3              4         1.9985e+03      2.74e-01       2.33e+00       2.31e+01    \n",
      "       4              5         1.9985e+03      5.85e-03       2.49e-01       2.69e+00    \n",
      "       5              6         1.9985e+03      1.37e-04       5.24e-02       5.88e-01    \n",
      "       6              7         1.9985e+03      3.24e-06       5.00e-03       5.14e-02    \n",
      "`ftol` termination condition is satisfied.\n",
      "Function evaluations 7, initial cost 2.5700e+03, final cost 1.9985e+03, first-order optimality 5.14e-02.\n",
      "[[Model]]\n",
      "    (((((Model(manygauss, prefix='Hbeta_0_', SPECRES='<q3dfit.spectConvol.spectConvol object at 0x7fb2c0937130>') + Model(manygauss, prefix='Hbeta_1_', SPECRES='<q3dfit.spectConvol.spectConvol object at 0x7fb2c0937130>')) + Model(manygauss, prefix='lbOIIIrb4959_0_', SPECRES='<q3dfit.spectConvol.spectConvol object at 0x7fb2c0937130>')) + Model(manygauss, prefix='lbOIIIrb4959_1_', SPECRES='<q3dfit.spectConvol.spectConvol object at 0x7fb2c0937130>')) + Model(manygauss, prefix='lbOIIIrb5007_0_', SPECRES='<q3dfit.spectConvol.spectConvol object at 0x7fb2c0937130>')) + Model(manygauss, prefix='lbOIIIrb5007_1_', SPECRES='<q3dfit.spectConvol.spectConvol object at 0x7fb2c0937130>'))\n",
      "[[Fit Statistics]]\n",
      "    # fitting method   = least_squares\n",
      "    # function evals   = 7\n",
      "    # data points      = 682\n",
      "    # variables        = 8\n",
      "    chi-square         = 3997.08556\n",
      "    reduced chi-square = 5.93039400\n",
      "    Akaike info crit   = 1221.97453\n",
      "    Bayesian info crit = 1258.17477\n",
      "    R-squared          = 0.99195145\n",
      "[[Variables]]\n",
      "    Hbeta_0_flx:         26.7298599 +/- 2.96645043 (11.10%) (init = 30.34195)\n",
      "    Hbeta_0_cwv:         1.92225280 +/- 1.0976e-04 (0.01%) == '4.862708e-01 / 5.008237e-01 * lbOIIIrb5007_0_cwv'\n",
      "    Hbeta_0_sig:         265.422149 +/- 17.2798582 (6.51%) == 'lbOIIIrb5007_0_sig'\n",
      "    Hbeta_1_flx:         43.3256249 +/- 3.99656117 (9.22%) (init = 44.9135)\n",
      "    Hbeta_1_cwv:         1.91707043 +/- 5.3040e-05 (0.00%) == '4.862708e-01 / 5.008237e-01 * lbOIIIrb5007_1_cwv'\n",
      "    Hbeta_1_sig:         206.457964 +/- 8.07580018 (3.91%) == 'lbOIIIrb5007_1_sig'\n",
      "    lbOIIIrb4959_0_flx:  35.2428012 +/- 1.69685049 (4.81%) == 'lbOIIIrb5007_0_flx/3.'\n",
      "    lbOIIIrb4959_0_cwv:  1.96082903 +/- 1.1196e-04 (0.01%) == '4.960294e-01 / 5.008237e-01 * lbOIIIrb5007_0_cwv'\n",
      "    lbOIIIrb4959_0_sig:  265.422149 +/- 17.2798582 (6.51%) == 'lbOIIIrb5007_0_sig'\n",
      "    lbOIIIrb4959_1_flx:  74.1041089 +/- 2.28964608 (3.09%) == 'lbOIIIrb5007_1_flx/3.'\n",
      "    lbOIIIrb4959_1_cwv:  1.95554267 +/- 5.4104e-05 (0.00%) == '4.960294e-01 / 5.008237e-01 * lbOIIIrb5007_1_cwv'\n",
      "    lbOIIIrb4959_1_sig:  206.457964 +/- 8.07580018 (3.91%) == 'lbOIIIrb5007_1_sig'\n",
      "    lbOIIIrb5007_0_flx:  105.728404 +/- 5.09055147 (4.81%) (init = 128.826)\n",
      "    lbOIIIrb5007_0_cwv:  1.97978114 +/- 1.1304e-04 (0.01%) (init = 1.979654)\n",
      "    lbOIIIrb5007_0_sig:  265.422149 +/- 17.2798582 (6.51%) (init = 291.2095)\n",
      "    lbOIIIrb5007_1_flx:  222.312327 +/- 6.86893826 (3.09%) (init = 240.9325)\n",
      "    lbOIIIrb5007_1_cwv:  1.97444368 +/- 5.4627e-05 (0.00%) (init = 1.97439)\n",
      "    lbOIIIrb5007_1_sig:  206.457964 +/- 8.07580017 (3.91%) (init = 237.4242)\n",
      "FITSPEC: Line fit took 0.6 s.\n",
      "FIT STATUS: 2\n"
     ]
    }
   ],
   "source": [
    "from q3dfit.q3df import q3dfit\n",
    "q3dfit(q3di,cols=cols,rows=rows, quiet=False)"
   ]
  },
  {
   "cell_type": "markdown",
   "metadata": {},
   "source": [
    "## 3. Plot fit results <a class=\"anchor\" id=\"chapter3\"></a>"
   ]
  },
  {
   "cell_type": "markdown",
   "metadata": {},
   "source": [
    "Load the output of a fit."
   ]
  },
  {
   "cell_type": "code",
   "execution_count": null,
   "metadata": {},
   "outputs": [],
   "source": [
    "cols = 45\n",
    "rows = 29\n",
    "from q3dfit.q3dout import load_q3dout\n",
    "q3do = load_q3dout(q3di, cols, rows)"
   ]
  },
  {
   "cell_type": "markdown",
   "metadata": {},
   "source": [
    "Set up the line plot parameters using a dictionary.\n",
    "\n",
    "* `nx`: Number of subplots in the horizontal direction (default = 1)\n",
    "* `ny`: Number of subplots in the vertical direction (default = 1)\n",
    "* Required: choose one options for centerting the plot\n",
    "    - `line`: a string list of line labels\n",
    "    - `center_obs`: a float list of wavelengths of each subplot center, in the observed (plotted) frame\n",
    "    - `center_rest`: a float list of wavelengths of each subplot center, in the rest frame, which are converted to obs. frame\n",
    "* `size`: float list of widths in wavelength space of each subplot; if not specified (default = 300 $Å$)\n",
    "* `IR`: set to `True` to use infrared-style plot"
   ]
  },
  {
   "cell_type": "code",
   "execution_count": null,
   "metadata": {},
   "outputs": [],
   "source": [
    "argsplotline = dict()\n",
    "argsplotline['nx'] = 2\n",
    "argsplotline['ny'] = 1\n",
    "argsplotline['line'] = ['Hbeta', '[OIII]5007']\n",
    "argsplotline['size'] = [0.05, 0.07]"
   ]
  },
  {
   "cell_type": "markdown",
   "metadata": {},
   "source": [
    "Run the plot method. The output can be saved as a jpg by specifying `savefig=True`. A default filename is used, which can be overridden by specifying `outfile=file`. The output file will have the suffix `_lin` attached, so that the actual filename will be \"file_lin.jpg\"."
   ]
  },
  {
   "cell_type": "code",
   "execution_count": null,
   "metadata": {},
   "outputs": [],
   "source": [
    "q3do.plot_line(q3di,plotargs=argsplotline)"
   ]
  },
  {
   "cell_type": "markdown",
   "metadata": {},
   "source": [
    "The continuum plot can be changed by specifying several parameters. In this case, we have chosen to output a linear/linear plot of f$_\\lambda$ vs. wavelength."
   ]
  },
  {
   "cell_type": "code",
   "execution_count": null,
   "metadata": {},
   "outputs": [],
   "source": [
    "argscontplot = dict()\n",
    "argscontplot['xstyle'] = 'lin'\n",
    "argscontplot['ystyle'] = 'lin'\n",
    "argscontplot['fluxunit_out'] = 'flambda'\n",
    "argscontplot['mode'] = 'dark'"
   ]
  },
  {
   "cell_type": "markdown",
   "metadata": {},
   "source": [
    "Run two methods. The first computes the continuum values to plot, and the second does the plotting.\n",
    "\n",
    "Because we specified `decompose_qso_fit=True` in the `q3di` object, three plots are created: one for the host-only light, one for quasar-only light, and one for the total continuum."
   ]
  },
  {
   "cell_type": "code",
   "execution_count": null,
   "metadata": {},
   "outputs": [],
   "source": [
    "q3do.sepcontpars(q3di)\n",
    "q3do.plot_cont(q3di, plotargs=argscontplot)"
   ]
  },
  {
   "cell_type": "markdown",
   "metadata": {},
   "source": [
    "## 4. Combine fit results from all spaxels.<a class=\"anchor\" id=\"chapter4\"></a>"
   ]
  },
  {
   "cell_type": "markdown",
   "metadata": {},
   "source": [
    "This routine takes all of the spaxels you fit and combines the line- and continuum-fitting results together. The outputs are saved into two files. This example assumes that the spaxels listed here in each dimension have been fit."
   ]
  },
  {
   "cell_type": "code",
   "execution_count": null,
   "metadata": {},
   "outputs": [],
   "source": [
    "cols = [20, 75]\n",
    "rows = [15, 70]\n",
    "from q3dfit.q3dcollect import q3dcollect\n",
    "q3dcollect(q3di, cols=cols, rows=rows)"
   ]
  },
  {
   "cell_type": "markdown",
   "metadata": {},
   "source": [
    "## 5. Plot science products. <a class=\"anchor\" id=\"chapter5\"></a>"
   ]
  },
  {
   "cell_type": "markdown",
   "metadata": {},
   "source": [
    "These routines take the output of `q3dcollect` and process them further for science output. The `q3dpro` class has methods to make maps of physical quantities."
   ]
  },
  {
   "cell_type": "code",
   "execution_count": null,
   "metadata": {},
   "outputs": [],
   "source": [
    "import q3dfit.q3dpro as q3dpro\n",
    "qpro = q3dpro.Q3Dpro(q3di, PLATESCALE=0.025, NOCONT=True)"
   ]
  },
  {
   "cell_type": "markdown",
   "metadata": {},
   "source": [
    "Start by plotting linemaps for [OIII], of both flux and velocity measures. The parameters listed below control the plotting."
   ]
  },
  {
   "cell_type": "code",
   "execution_count": null,
   "metadata": {},
   "outputs": [],
   "source": [
    "do_kpc = False\n",
    "saveFile = False\n",
    "flx = [1e-2,1e1]\n",
    "qsocenter = [45., 43.]\n",
    "pltarg = {'Ftot':flx,\n",
    "          'Fci':flx,\n",
    "          'Sig':[100.,850.],\n",
    "          'v50':[-1000.,1000.],\n",
    "          'w80':[100.,850.],\n",
    "          'fluxlog': True}\n",
    "qpro.make_linemap('[OIII]5007', XYSTYLE=do_kpc, xyCenter=qsocenter,\n",
    "                  SAVEDATA=saveFile, VMINMAX=pltarg, PLTNUM=1, CMAP='inferno')"
   ]
  },
  {
   "cell_type": "markdown",
   "metadata": {},
   "source": [
    "Map of [OIII]/H$\\beta$ for each component, and for the total flux:"
   ]
  },
  {
   "cell_type": "code",
   "execution_count": null,
   "metadata": {},
   "outputs": [],
   "source": [
    "qpro.make_lineratio_map('[OIII]5007', 'Hbeta', VMINMAX=[0,1])"
   ]
  },
  {
   "cell_type": "markdown",
   "metadata": {},
   "source": [
    "Map of v50 over the cumulative velocity distribution:"
   ]
  },
  {
   "cell_type": "code",
   "execution_count": null,
   "metadata": {},
   "outputs": [],
   "source": [
    "from q3dfit.q3dpro import OneLineData\n",
    "o3data = OneLineData(qpro.linedat, '[OIII]5007')\n",
    "o3data.calc_cvdf(2.9489, [-1e3, 1e3], vstep=5)\n",
    "o3data.make_cvdf_map(50., velran=[-1e3, 1e3], markcenter=[45., 43.],\n",
    "                     outfile=True)"
   ]
  },
  {
   "cell_type": "markdown",
   "metadata": {},
   "source": [
    "Map of W80 over the cumulative velocity distribution:"
   ]
  },
  {
   "cell_type": "code",
   "execution_count": null,
   "metadata": {},
   "outputs": [],
   "source": [
    "from matplotlib.pyplot import *\n",
    "imshow(o3data.calc_cvdf_vel(90, calc_from_posvel=False).T - o3data.calc_cvdf_vel(10, calc_from_posvel=False).T, \n",
    "       origin='lower', cmap='bwr', vmin=50, vmax=1500)\n",
    "colorbar()"
   ]
  }
 ],
 "metadata": {
  "kernelspec": {
   "display_name": "Python 3 (ipykernel)",
   "language": "python",
   "name": "python3"
  },
  "language_info": {
   "codemirror_mode": {
    "name": "ipython",
    "version": 3
   },
   "file_extension": ".py",
   "mimetype": "text/x-python",
   "name": "python",
   "nbconvert_exporter": "python",
   "pygments_lexer": "ipython3",
   "version": "3.11.5"
  }
 },
 "nbformat": 4,
 "nbformat_minor": 4
}
