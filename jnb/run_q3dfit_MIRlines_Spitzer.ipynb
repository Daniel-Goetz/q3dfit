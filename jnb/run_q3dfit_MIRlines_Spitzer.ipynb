{
 "cells": [
  {
   "cell_type": "markdown",
   "metadata": {},
   "source": [
    "# q3dfit example notebook: rest-frame mid-IR, Spitzer IRS data of 2MASX J15561599+3951374."
   ]
  },
  {
   "cell_type": "markdown",
   "metadata": {},
   "source": [
    "<h3><font color='teal'>Installation of the environment and the package are described <a href=\"https://q3dfit.readthedocs.io/\">here</a>. </font></h3>"
   ]
  },
  {
   "cell_type": "markdown",
   "metadata": {},
   "source": [
    "This Jupyter notebook allows you to run Q3Dfit, a PSF decomposition and spectral analysis package tailored for JWST NIRSpec and MIRI IFU observations. \n",
    "\n",
    "Q3Dfit is developed as a science-enabling data product by the Early Release Science Team #1335 Q3D. You can find more information about this ERS program **Q3D** [here](https://wwwstaff.ari.uni-heidelberg.de/dwylezalek/q3d.html) and [here](https://www.stsci.edu/jwst/science-execution/approved-programs/dd-ers/program-1335).\n",
    "\n",
    "The software is based on the existing package IFSFIT developed by Dave Rupke (see [ADS link](https://ui.adsabs.harvard.edu/abs/2017ApJ...850...40R/abstract)).\n",
    "\n",
    "The following notebook will guide you through the initialization procedure and will then perform the analysis. "
   ]
  },
  {
   "cell_type": "markdown",
   "metadata": {},
   "source": [
    "## 1. Initialization <a class=\"anchor\" id=\"chapter1\"></a>"
   ]
  },
  {
   "cell_type": "code",
   "execution_count": null,
   "metadata": {},
   "outputs": [],
   "source": [
    "import os.path\n",
    "import numpy as np\n",
    "%matplotlib inline\n",
    "%load_ext autoreload\n",
    "%autoreload 2\n",
    "# unless you are running this python notebook from the directory where q3dfit is installed, you need to point the\n",
    "# path to the package in order to import it. \n",
    "import sys\n",
    "sys.path.append(\"/home/jovyan\") # for JWebbinar\n",
    "sys.path.append(\"../\")\n",
    "import q3dfit"
   ]
  },
  {
   "cell_type": "code",
   "execution_count": null,
   "metadata": {},
   "outputs": [],
   "source": [
    "# if QUESTFIT is needed, in mid-IR\n",
    "from q3dfit.questfit_readcf import readcf"
   ]
  },
  {
   "cell_type": "code",
   "execution_count": null,
   "metadata": {},
   "outputs": [],
   "source": [
    "# Convenience function\n",
    "# Ref: https://github.com/spacetelescope/jwebbinar_prep/blob/main/imaging_mode/imaging_mode_stage_1.ipynb\n",
    "from astropy.utils.data import download_file\n",
    "def download_files(files, output_directory, force=False):\n",
    "    \"\"\"Given a tuple or list of tuples containing (URL, filename),\n",
    "    download the given files into the current working directory.\n",
    "    Downloading is done via astropy's download_file. A symbolic link\n",
    "    is created in the specified output dirctory that points to the\n",
    "    downloaded file.\n",
    "    \n",
    "    Parameters\n",
    "    ----------\n",
    "    files : tuple or list of tuples\n",
    "        Each 2-tuple should contain (URL, filename), where\n",
    "        URL is the URL from which to download the file, and\n",
    "        filename will be the name of the symlink pointing to\n",
    "        the downloaded file.\n",
    "        \n",
    "    output_directory : str\n",
    "        Name of the directory in which to create the symbolic\n",
    "        links to the downloaded files\n",
    "        \n",
    "    force : bool\n",
    "        If True, the file will be downloaded regarless of whether\n",
    "        it is already present or not.\n",
    "                \n",
    "    Returns\n",
    "    -------\n",
    "    filenames : list\n",
    "        List of filenames corresponding to the symbolic links\n",
    "        of the downloaded files\n",
    "    \"\"\"\n",
    "    # In the case of a single input tuple, make it a\n",
    "    # 1 element list, for consistency.\n",
    "    filenames = []\n",
    "    if isinstance(files, tuple):\n",
    "        files = [files]\n",
    "        \n",
    "    for file in files:\n",
    "        filenames.append(file[1])\n",
    "        if force:\n",
    "            print('Downloading {}...'.format(file[1]))\n",
    "            demo_file = download_file(file[0], cache='update')\n",
    "            # Make a symbolic link using a local name for convenience\n",
    "            if not os.path.islink(os.path.join(output_directory, file[1])):\n",
    "                os.symlink(demo_file, os.path.join(output_directory, file[1]))\n",
    "        else:\n",
    "            if not os.path.isfile(os.path.join(output_directory, file[1])):\n",
    "                print('Downloading {}...'.format(file[1]))\n",
    "                demo_file = download_file(file[0], cache=True)\n",
    "                # Make a symbolic link using a local name for convenience\n",
    "                os.symlink(demo_file, os.path.join(output_directory, file[1]))\n",
    "            else:\n",
    "                print('{} already exists, skipping download...'.format(file[1]))\n",
    "                continue\n",
    "    return filenames    "
   ]
  },
  {
   "cell_type": "markdown",
   "metadata": {},
   "source": [
    "### 1.0. Setting up the directory tree <a class=\"anchor\" id=\"chapter1_0\"></a>\n",
    "\n",
    "Define the directories in which the data cube(s) that you want to analyse are stored and the output directories. We recommend creating a working directory that you name after your target, in which all outputs from q3dfit will be saved. Then download test data."
   ]
  },
  {
   "cell_type": "code",
   "execution_count": null,
   "metadata": {},
   "outputs": [],
   "source": [
    "# Base directory (book-keeping)\n",
    "volume = '22128896/'\n",
    "# prefix label for output files\n",
    "gal = '22128896'\n",
    "# Input directory\n",
    "indir = volume\n",
    "if not os.path.exists(indir):\n",
    "    os.makedirs(indir)\n",
    "# Output directory\n",
    "outdir = volume\n",
    "if not os.path.exists(outdir):\n",
    "    os.makedirs(outdir)\n",
    "# Initialization file (q3di.npy) directory\n",
    "initdir = volume\n",
    "# Output logfile\n",
    "logfile = outdir+gal+'-fitlog.txt'"
   ]
  },
  {
   "cell_type": "markdown",
   "metadata": {},
   "source": [
    "Download data from public Box folder. <font color='red'> Note: This also downloads the *.cf configuration file (specifying which spectral components to include in the MIR fitting). We note that the format of this file is currently under development and it will in the future be superseded by a more readable/convenient option. For a current description of continuum fitting parameters in the .cf file, please see the documentation: \n",
    "https://q3dfit.readthedocs.io/en/latest/"
   ]
  },
  {
   "cell_type": "code",
   "execution_count": null,
   "metadata": {},
   "outputs": [],
   "source": [
    "# make tuples of urls and download filenames\n",
    "# infile = 1x1 mock data cube: containing only 1 single spaxel with a Spitzer spectrum\n",
    "# cf = config file\n",
    "infile_tup = ('https://rhodes.box.com/shared/static/spe9pc4kbwylw2khwcca0cimoaks6puh.fits', '22128896_mock_cube.fits')\n",
    "cf_tup = ('https://rhodes.box.com/shared/static/6502fu97kxwky9zl5t2t8gnn6n2fi2y9.cf', '22128896.cf')\n",
    "# download files; by default don't force overwrite and take first element of output\n",
    "infile = download_files(infile_tup, indir, force=False)[0]\n",
    "cfinfile = download_files(cf_tup, indir, force=False)[0]\n",
    "# add subdirectory to filenames\n",
    "infile = indir+infile\n",
    "cfinfile = indir+cfinfile"
   ]
  },
  {
   "cell_type": "markdown",
   "metadata": {},
   "source": [
    "### 1.1. Setting up the data and models <a class=\"anchor\" id=\"chapter1_1\"></a>\n",
    "\n",
    "Some general information about your cube. `argsreadcube` is a dictionary of attributes sent to the `CUBE` class.\n",
    "- For non-JWST data, set `wmapext` to `None`. The WMAP extension is a [3-D weight image](https://jwst-pipeline.readthedocs.io/en/latest/jwst/data_products/science_products.html) giving the relative weights of the output spaxels.\n",
    "- Microns are the wavelength unit used internally, but `q3dfit` can accept other wavelength input units or output other units.\n",
    "- The code does calculations in flambda space, but assumes input units of MJy/sr, the JWST default. Other input wavelength units can be specified."
   ]
  },
  {
   "cell_type": "markdown",
   "metadata": {},
   "source": [
    "\n",
    "\n",
    "Some general information about your cube:"
   ]
  },
  {
   "cell_type": "code",
   "execution_count": null,
   "metadata": {},
   "outputs": [],
   "source": [
    "from q3dfit.readcube import Cube\n",
    "argsreadcube = {'wmapext': None,\n",
    "                'wavext': 4,\n",
    "                'waveunit_in': 'Angstrom',\n",
    "                'fluxunit_in': 'Jy'}\n",
    "\n",
    "if not os.path.isfile(infile): \n",
    "    print('Data cube not found.')\n",
    "else:\n",
    "    cube = Cube(infile, **argsreadcube)\n",
    "    ncols = cube.ncols # number of columns\n",
    "    nrows = cube.nrows # number of rows\n",
    "    cube.about()\n",
    "\n",
    "if not os.path.isfile(cfinfile):\n",
    "    print('Configuration file not found.')\n",
    "else:\n",
    "    config_file = readcf(cfinfile)"
   ]
  },
  {
   "cell_type": "markdown",
   "metadata": {},
   "source": [
    "Name and systemic redshift of the galaxy. `zsys` is presently not used within the code, but would be an input for, e.g., calculating velocity maps in routines under development (e.g., `makemaps.py`). It is used in this notebook in initializing the arrays of initial guesses below."
   ]
  },
  {
   "cell_type": "code",
   "execution_count": null,
   "metadata": {},
   "outputs": [],
   "source": [
    "name = 'F15545+4000'\n",
    "zsys_gas = 0.0"
   ]
  },
  {
   "cell_type": "markdown",
   "metadata": {},
   "source": [
    "Wavelength range over which to fit data. The user can also specify sets of regions to ignore in the fit."
   ]
  },
  {
   "cell_type": "code",
   "execution_count": null,
   "metadata": {},
   "outputs": [],
   "source": [
    "fitrange = np.array([5.42, 29.98])  # micron"
   ]
  },
  {
   "cell_type": "markdown",
   "metadata": {},
   "source": [
    "### 1.2. Setting up the fitting parameters<a class=\"anchor\" id=\"chapter1_2\"></a>"
   ]
  },
  {
   "cell_type": "markdown",
   "metadata": {},
   "source": [
    "#### 1.2.1. Emission-line parameters <a class=\"anchor\" id=\"chapter1_2_1\"></a>"
   ]
  },
  {
   "cell_type": "markdown",
   "metadata": {},
   "source": [
    "What lines do you want to fit? You can choose from the linelists [here](https://github.com/Q3D/q3dfit/tree/main/data/linelists), or in `q3dfit/data/linelists/`."
   ]
  },
  {
   "cell_type": "code",
   "execution_count": null,
   "metadata": {},
   "outputs": [],
   "source": [
    "lines = ['H2_00_S5', '[ArII]6.99', '[ArIII]8.99', '[NeII]12.81', \n",
    "         '[NeIII]15.56', 'H2_00_S3', 'H2_00_S1', '[SIII]18.71']"
   ]
  },
  {
   "cell_type": "markdown",
   "metadata": {},
   "source": [
    "How many components do you want to be fitted to the emission lines?"
   ]
  },
  {
   "cell_type": "code",
   "execution_count": null,
   "metadata": {},
   "outputs": [],
   "source": [
    "maxncomp = 1"
   ]
  },
  {
   "cell_type": "markdown",
   "metadata": {},
   "source": [
    "This block sets up initial conditions for the emission-line fit to each spaxel. Emission lines are set to a common redshift and velocity dispersion. However, different sets of emission lines can have different velocities and linewidths by specifying different lines to which to tie particular emission lines."
   ]
  },
  {
   "cell_type": "code",
   "execution_count": null,
   "metadata": {},
   "outputs": [],
   "source": [
    "linetie = dict()\n",
    "ncomp = dict()\n",
    "zinit_gas = dict()\n",
    "siginit_gas = dict()\n",
    "for i in lines:\n",
    "    linetie[i] = '[NeII]12.81'\n",
    "    ncomp[i] = np.full((ncols,nrows),maxncomp)\n",
    "    zinit_gas[i] = np.full((ncols,nrows,maxncomp),0.)\n",
    "    siginit_gas[i] = np.full((ncols,nrows,maxncomp), 1000.)"
   ]
  },
  {
   "cell_type": "markdown",
   "metadata": {},
   "source": [
    "`siglim_gas` sets lower and upper bounds for the Gaussian width (sigma) of the emission line. These limits can be set globablly, for all spaxels and components, by defining a 2-element array. The limits can also be set for individual spaxels (but all components) by defining an (Ncol x Nrow x 2) array."
   ]
  },
  {
   "cell_type": "code",
   "execution_count": null,
   "metadata": {},
   "outputs": [],
   "source": [
    "siglim_gas = np.array([5., 4000.])"
   ]
  },
  {
   "cell_type": "markdown",
   "metadata": {},
   "source": [
    "#### Spectral resolution convolution\n",
    "##### Just running convolution ---\n",
    "\n",
    "If no convolution is desired, then set `spectres_convolve` to None. \n",
    "If convolution is desired, then `spectres_convolve` and `spect_instrum` are required variables.\n",
    "\n",
    "Specify the desired convolution method using `spect_instrum`. The syntax is: \n",
    "`spect_instrum = {INSTRUMENT:[METHOD]}`, which should mirror the filename in `q3dfit/data/dispersion_files/`. METHOD specifies the grating, spectral resolution [R], Δλ FWHM in [Å], velocity in [km/s].\n",
    "\n",
    "Examples convolving with: \n",
    "1. flat R=500: `spect_instrum = {'flat':['R500']}`\n",
    "2. flat velocity FWHM = 30km/s: `spect_instrum = {'flat':['kms30']}`\n",
    "3. flat Δλ FWHM = 4 Å: `spect_instrum = {'flat':['dlambda4']}`\n",
    "4. JWST NIRSPEC / G140M: `spect_instrum = {'JWST_NIRSPEC':['G140M']}`\n",
    "\n",
    "If desired flat convolution file does not exist, then a new file will be created automatically. "
   ]
  },
  {
   "cell_type": "code",
   "execution_count": null,
   "metadata": {},
   "outputs": [],
   "source": [
    "spect_instrum = {'spitzer_irs_ch0':['sl2','sl1',],'spitzer_irs_ch2':['ll1','ll2']}\n",
    "spectres_convolve = {'ws_instrum':spect_instrum}"
   ]
  },
  {
   "cell_type": "markdown",
   "metadata": {},
   "source": [
    "##### Creating convolution files (optional) ---\n",
    "\n",
    "If the user wants to create a dispersion file, there are 2 methods:\n",
    "\n",
    "1. First, run `from q3dfit.spectConvol import dispFile` and initialize: `dispObj = dispFile()`\n",
    "2. Create the files with either method A or B\n",
    "\n",
    "2.(A) Create a flat R=120 dispersion file from 10 μm to 30 μm: \n",
    "\n",
    "`dispObj.make_dispersion(120,WAVELEN=[10,30],TYPE='R')`\n",
    "\n",
    "2.(B) Create a custom dispersion file with user supplied wavelength and Resolving power lists:\n",
    "\n",
    "`dispObj.make_custom_dispersion([wavelen list],R=[some R list],FILENAME='custom_RlistA_disp')`\n",
    "\n",
    "3. Specify desired dispersion file in convolution: running custom example 2B\n",
    "\n",
    "`spect_instrum = {'custom':['RlistA']}`\n"
   ]
  },
  {
   "cell_type": "code",
   "execution_count": null,
   "metadata": {},
   "outputs": [],
   "source": [
    "#from q3dfit.spectConvol import dispFile\n",
    "#dobj = dispFile()\n",
    "#dispObj.make_custom_dispersion([wavelen list],R=[some R list],FILENAME='custom_RlistA_disp')\n",
    "#spect_instrum = {'custom':['RlistA']}"
   ]
  },
  {
   "cell_type": "markdown",
   "metadata": {},
   "source": [
    "#### 1.2.2 Continuum parameters <a class=\"anchor\" id=\"chapter1_2_2\"></a>"
   ]
  },
  {
   "cell_type": "markdown",
   "metadata": {},
   "source": [
    "`q3dfit` first masks emission lines before fitting. This sets is the default mask value in km/s for each velocity component for the first fit. During the second fit, the mask value is set automatically using the best-fit linewidths determined from the first fit."
   ]
  },
  {
   "cell_type": "code",
   "execution_count": null,
   "metadata": {},
   "outputs": [],
   "source": [
    "maskwidths_def = 2000."
   ]
  },
  {
   "cell_type": "markdown",
   "metadata": {},
   "source": [
    "The continuum fitting parameters specified here are for the case of general MIR fitting."
   ]
  },
  {
   "cell_type": "code",
   "execution_count": null,
   "metadata": {},
   "outputs": [],
   "source": [
    "fcncontfit = 'questfit'\n",
    "argscontfit = dict()\n",
    "argscontfit['config_file'] = cfinfile\n",
    "argscontfit['outdir'] = outdir\n",
    "argscontfit['plot_decomp'] = True"
   ]
  },
  {
   "cell_type": "markdown",
   "metadata": {},
   "source": [
    "The mid-IR continuum fitting includes features that depend on redshift. These are specified as \"stellar\" redshift for compatibility with stellar template fitting, even though they refer in this case to the redshift of the mid-IR dust features. The input spectrum has in this case already been shifted to rest wavelengths."
   ]
  },
  {
   "cell_type": "code",
   "execution_count": null,
   "metadata": {},
   "outputs": [],
   "source": [
    "zinit_stars = np.full((ncols,nrows),0.0)"
   ]
  },
  {
   "cell_type": "markdown",
   "metadata": {},
   "source": [
    "### 1.3. Setting up the plotting and output parameters <a class=\"anchor\" id=\"chapter1_3\"></a>"
   ]
  },
  {
   "cell_type": "markdown",
   "metadata": {},
   "source": [
    "One dictionary must be defined for a line plot to appear. `argspltlin1` holds the options for the first line plot, and `argspltlin2` is for the second. Parameter options are fed in as keyword/data pairs.\n",
    "\n",
    "Required keywords in each dictionary:\n",
    "* `nx`: Number of subplots in the horizontal direction\n",
    "* `ny`: Number of subplots in the vertical direction\n",
    "* Options for centerting the plot:\n",
    "    - `line`: a string list of line labels\n",
    "    - `center_obs`: a float list of wavelengths of each subplot center, in the observed (plotted) frame\n",
    "    - `center_rest`: a float list of wavelengths of each subplot center, in the rest frame, which are converted to obs. frame\n",
    "\n",
    "Optional keywords:\n",
    "* `size`: float list of widths in wavelength space of each subplot; if not specified, default is 300 $Å$\n",
    "* `IR`: set to `True` to use infrared-style plot"
   ]
  },
  {
   "cell_type": "code",
   "execution_count": null,
   "metadata": {},
   "outputs": [],
   "source": [
    "argspltlin1 = {'nx': 3,\n",
    "               'ny': 2,\n",
    "               'line': ['[ArII]6.99', '[ArIII]8.99', '[NeII]12.81', \n",
    "                        '[NeIII]15.56', 'H2_00_S1', '[SIII]18.71'],\n",
    "               'size': [3., 3., 3., 3., 3., 3.],\n",
    "               'IR': True}"
   ]
  },
  {
   "cell_type": "markdown",
   "metadata": {},
   "source": [
    "The following cell will create the initialisation structure. **Do not change anything in this cell.** "
   ]
  },
  {
   "cell_type": "code",
   "execution_count": null,
   "metadata": {},
   "outputs": [],
   "source": [
    "q3di = { # Required pars\n",
    "        'fcninitpar': 'parinit',\n",
    "        'fitran': fitrange,\n",
    "        'infile': infile,\n",
    "        'label': config_file['source'][0].replace('.ideos','').replace('.npy', ''),\n",
    "        'lines': lines,\n",
    "        'linetie': linetie,\n",
    "        'maxncomp': maxncomp,\n",
    "        'ncomp': ncomp,\n",
    "        'outdir': outdir,\n",
    "        'zinit_stars': zinit_stars,\n",
    "        'zinit_gas': zinit_gas,\n",
    "        'zsys_gas': zsys_gas,\n",
    "        # Optional pars\n",
    "        'argscontfit': argscontfit,\n",
    "        'argspltlin1': argspltlin1,\n",
    "        'argsreadcube': argsreadcube,\n",
    "        #'fcncheckcomp': 'checkcomp',\n",
    "        'fcncontfit': fcncontfit,            \n",
    "        'logfile': logfile,\n",
    "        'maskwidths_def': maskwidths_def,\n",
    "        'siglim_gas': siglim_gas,\n",
    "        'siginit_gas': siginit_gas,\n",
    "        'spect_convol':spectres_convolve\n",
    "       }"
   ]
  },
  {
   "cell_type": "markdown",
   "metadata": {},
   "source": [
    "If you want to run `q3dfit` in batch mode, run this cell, which saves q3di to an `npy` file. In your python command line, read in file and run `q3dfit` with\n",
    "<pre><code>q3di = '/path/to/the/npy/file/q3di.npy'\n",
    "from q3dfit.q3df import q3df\n",
    "q3df(q3di,cols=cols,rows=rows)</code></pre>"
   ]
  },
  {
   "cell_type": "code",
   "execution_count": null,
   "metadata": {},
   "outputs": [],
   "source": [
    "q3di_npy = 'q3di.npy'\n",
    "np.save(initdir+q3di_npy,q3di)"
   ]
  },
  {
   "cell_type": "markdown",
   "metadata": {},
   "source": [
    "## 2. Run fitting and plotting routines <a class=\"anchor\" id=\"chapter2\"></a>"
   ]
  },
  {
   "cell_type": "code",
   "execution_count": null,
   "metadata": {},
   "outputs": [],
   "source": [
    "from q3dfit.q3df import q3df\n",
    "from q3dfit.q3da import q3da"
   ]
  },
  {
   "cell_type": "markdown",
   "metadata": {},
   "source": [
    "Run the fit. Because there is only one spaxel, we don't have to specify the rows and columns. Choose `quiet=False` for verbose output. An output dictionary for each spaxel is saved to a numpy binary file labeled with prefix `q3di['label']` and suffix `_col_row.npy`."
   ]
  },
  {
   "cell_type": "code",
   "execution_count": null,
   "metadata": {
   },
   "outputs": [
    {
     "name": "stdout",
     "output_type": "stream",
     "text": [
      "[col,row]=[1,1] out of [1,1]\n",
      "FITLOOP: First call to FITSPEC\n",
      "1.0\n",
      "1.0\n",
      "1.0\n",
      "1.0\n",
      "[[Variables]]\n",
     ]
    }
   ],
   "source": [
    "q3df(q3di, quiet=False)"
   ]
  },
  {
   "cell_type": "markdown",
   "metadata": {},
   "source": [
    "Plot the results. The resulting plots are saved as `.jpg` files. Data from multiple spaxels are collated into dictionaries containing emission-line and continuum best-fit parameters and saved to various ancillary files."
   ]
  },
  {
   "cell_type": "code",
   "execution_count": null,
   "metadata": {
    "scrolled": true
   },
   "outputs": [],
      "text/plain": [
       "<Figure size 1440x720 with 4 Axes>"
      ]
     },
     "metadata": {},
     "output_type": "display_data"
    },
    {
     "data": {
      "image/png": "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\n",
      "text/plain": [
       "<Figure size 432x504 with 2 Axes>"
      ]
     },
     "metadata": {},
     "output_type": "display_data"
    }
   ],
>>>>>>> c92dd95 (Wrote q3dout() class, made fitspec return an instance of that)
   "source": [
    "q3da(q3di)"
   ]
  }
 ],
 "metadata": {
  "kernelspec": {
   "display_name": "Python 3 (ipykernel)",
   "language": "python",
   "name": "python3"
  },
  "language_info": {
   "codemirror_mode": {
    "name": "ipython",
    "version": 3
   },
   "file_extension": ".py",
   "mimetype": "text/x-python",
   "name": "python",
   "nbconvert_exporter": "python",
   "pygments_lexer": "ipython3",
   "version": "3.8.13"
  }
 },
 "nbformat": 4,
 "nbformat_minor": 4
}
